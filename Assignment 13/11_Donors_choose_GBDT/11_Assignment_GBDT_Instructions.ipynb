{
  "nbformat": 4,
  "nbformat_minor": 0,
  "metadata": {
    "colab": {
      "name": "11_Assignment_GBDT_Instructions.ipynb",
      "provenance": [],
      "collapsed_sections": []
    },
    "kernelspec": {
      "display_name": "Python 3",
      "language": "python",
      "name": "python3"
    },
    "language_info": {
      "codemirror_mode": {
        "name": "ipython",
        "version": 3
      },
      "file_extension": ".py",
      "mimetype": "text/x-python",
      "name": "python",
      "nbconvert_exporter": "python",
      "pygments_lexer": "ipython3",
      "version": "3.8.5"
    }
  },
  "cells": [
    {
      "cell_type": "markdown",
      "metadata": {
        "id": "8wqapAXjsc24"
      },
      "source": [
        "# Assignment 9: GBDT"
      ]
    },
    {
      "cell_type": "markdown",
      "metadata": {
        "id": "8u5NhbnEsc2-"
      },
      "source": [
        "#### Response Coding: Example"
      ]
    },
    {
      "cell_type": "markdown",
      "metadata": {
        "id": "HIFWmwHKsc3A"
      },
      "source": [
        "<img src='http://i.imgur.com/TufZptV.jpg' width=700px>\n",
        "\n",
        "> The response tabel is built only on train dataset.\n",
        "> For a category which is not there in train data and present in test data, we will encode them with default values\n",
        "Ex: in our test data if have State: D then we encode it as [0.5, 0.05]"
      ]
    },
    {
      "cell_type": "markdown",
      "metadata": {
        "id": "3KwfGufDsc3D"
      },
      "source": [
        "<ol>\n",
        "    <li><strong>Apply GBDT on these feature sets</strong>\n",
        "        <ul>\n",
        "            <li><font color='red'>Set 1</font>: categorical(instead of one hot encoding, try <a href='https://www.appliedaicourse.com/course/applied-ai-course-online/lessons/handling-categorical-and-numerical-features/'>response coding</a>: use probability values), numerical features + project_title(TFIDF)+  preprocessed_eassay (TFIDF)+sentiment Score of eassay(check the bellow example, include all 4 values as 4 features)</li>\n",
        "            <li><font color='red'>Set 2</font>: categorical(instead of one hot encoding, try <a href='https://www.appliedaicourse.com/course/applied-ai-course-online/lessons/handling-categorical-and-numerical-features/'>response coding</a>: use probability values), numerical features + project_title(TFIDF W2V)+  preprocessed_eassay (TFIDF W2V)</li>        </ul>\n",
        "    </li>\n",
        "    <li><strong>The hyper paramter tuning (Consider any two hyper parameters)</strong>\n",
        "        <ul>\n",
        "    <li>Find the best hyper parameter which will give the maximum <a href='https://www.appliedaicourse.com/course/applied-ai-course-online/lessons/receiver-operating-characteristic-curve-roc-curve-and-auc-1/'>AUC</a> value</li>\n",
        "    <li>find the best hyper paramter using k-fold cross validation/simple cross validation data</li>\n",
        "    <li>use gridsearch cv or randomsearch cv or you can write your own for loops to do this task</li>\n",
        "        </ul>\n",
        "    </li>\n",
        "    <li>\n",
        "    <strong>Representation of results</strong>\n",
        "        <ul>\n",
        "    <li>You need to plot the performance of model both on train data and cross validation data for each hyper parameter, like shown in the figure\n",
        "    <img src='https://i.imgur.com/Gp2DQmh.jpg' width=500px> with X-axis as <strong>n_estimators</strong>, Y-axis as <strong>max_depth</strong>, and Z-axis as <strong>AUC Score</strong> , we have given the notebook which explains how to plot this 3d plot, you can find it in the same drive <i>3d_scatter_plot.ipynb</i></li>\n",
        "            <p style=\"text-align:center;font-size:30px;color:red;\"><strong>or</strong></p> <br>\n",
        "    <li>You need to plot the performance of model both on train data and cross validation data for each hyper parameter, like shown in the figure\n",
        "    <img src='https://i.imgur.com/fgN9aUP.jpg' width=300px> <a href='https://seaborn.pydata.org/generated/seaborn.heatmap.html'>seaborn heat maps</a> with rows as <strong>n_estimators</strong>, columns as <strong>max_depth</strong>, and values inside the cell representing <strong>AUC Score</strong> </li>\n",
        "    <li>You choose either of the plotting techniques out of 3d plot or heat map</li>\n",
        "    <li>Once after you found the best hyper parameter, you need to train your model with it, and find the AUC on test data and plot the ROC curve on both train and test.\n",
        "    <img src='https://i.imgur.com/wMQDTFe.jpg' width=300px></li>\n",
        "    <li>Along with plotting ROC curve, you need to print the <a href='https://www.appliedaicourse.com/course/applied-ai-course-online/lessons/confusion-matrix-tpr-fpr-fnr-tnr-1/'>confusion matrix</a> with predicted and original labels of test data points\n",
        "    <img src='https://i.imgur.com/IdN5Ctv.png' width=300px></li>\n",
        "            </ul>\n",
        "    <br>\n",
        "    <li>You need to summarize the results at the end of the notebook, summarize it in the table format\n",
        "        <img src='http://i.imgur.com/YVpIGGE.jpg' width=400px>\n",
        "    </li>\n",
        "</ol>"
      ]
    },
    {
      "cell_type": "markdown",
      "metadata": {
        "id": "BOyTl7oKsc3W"
      },
      "source": [
        "<h1>1. GBDT (xgboost/lightgbm) </h1>"
      ]
    },
    {
      "cell_type": "code",
      "metadata": {
        "id": "v4Rw60rZM14y"
      },
      "source": [
        "import pandas as pd\n",
        "import numpy as np\n",
        "from tqdm import tqdm\n",
        "from sklearn.feature_extraction.text import CountVectorizer\n",
        "from sklearn.feature_extraction.text import TfidfVectorizer\n",
        "from sklearn.preprocessing import Normalizer\n",
        "from sklearn.preprocessing import StandardScaler\n",
        "from scipy.sparse import hstack,csr_matrix, coo_matrix\n",
        "from sklearn.model_selection import GridSearchCV\n",
        "import warnings\n",
        "warnings.filterwarnings(\"ignore\")\n",
        "import nltk\n",
        "from nltk.sentiment.vader import SentimentIntensityAnalyzer"
      ],
      "execution_count": 1,
      "outputs": []
    },
    {
      "cell_type": "code",
      "metadata": {
        "id": "y4BYUcHrM14y"
      },
      "source": [
        "import lightgbm as lgbm"
      ],
      "execution_count": 2,
      "outputs": []
    },
    {
      "cell_type": "markdown",
      "metadata": {
        "id": "VWge-b2Zsc3Z"
      },
      "source": [
        "## 1.1 Loading Data"
      ]
    },
    {
      "cell_type": "code",
      "metadata": {
        "id": "WDZFu6-usc3d"
      },
      "source": [
        "import pandas\n",
        "data = pandas.read_csv('preprocessed_data.csv', nrows=70000)"
      ],
      "execution_count": 3,
      "outputs": []
    },
    {
      "cell_type": "markdown",
      "metadata": {
        "id": "rJDuytD5M14z"
      },
      "source": [
        "## Computing Sentiment Scores:"
      ]
    },
    {
      "cell_type": "code",
      "metadata": {
        "colab": {
          "base_uri": "https://localhost:8080/",
          "height": 236
        },
        "id": "bO_yTw5_M140",
        "outputId": "17b91cef-110b-4ed3-e5cb-61b2a647bf08"
      },
      "source": [
        "nltk.download('vader_lexicon')\n",
        "sid = SentimentIntensityAnalyzer()\n",
        "\n",
        "sentiment_pos=[]\n",
        "sentiment_neg=[]\n",
        "sentiment_neu=[]\n",
        "sentiment_com=[]\n",
        "\n",
        "for i in data['essay']:\n",
        "    ss = sid.polarity_scores(i)\n",
        "    sentiment_pos.append(ss['pos'])\n",
        "    sentiment_neg.append(ss['neg'])\n",
        "    sentiment_neu.append(ss['neu'])\n",
        "    sentiment_com.append(ss['compound'])\n",
        "    \n",
        "data['essay_pos_score'] = sentiment_pos\n",
        "data['essay_neg_score'] = sentiment_neg\n",
        "data['essay_neu_score'] = sentiment_neu\n",
        "data['essay_com_score'] = sentiment_com\n",
        "data.head(1)"
      ],
      "execution_count": 4,
      "outputs": [
        {
          "output_type": "stream",
          "text": [
            "[nltk_data] Downloading package vader_lexicon to /root/nltk_data...\n",
            "[nltk_data]   Package vader_lexicon is already up-to-date!\n"
          ],
          "name": "stdout"
        },
        {
          "output_type": "execute_result",
          "data": {
            "text/html": [
              "<div>\n",
              "<style scoped>\n",
              "    .dataframe tbody tr th:only-of-type {\n",
              "        vertical-align: middle;\n",
              "    }\n",
              "\n",
              "    .dataframe tbody tr th {\n",
              "        vertical-align: top;\n",
              "    }\n",
              "\n",
              "    .dataframe thead th {\n",
              "        text-align: right;\n",
              "    }\n",
              "</style>\n",
              "<table border=\"1\" class=\"dataframe\">\n",
              "  <thead>\n",
              "    <tr style=\"text-align: right;\">\n",
              "      <th></th>\n",
              "      <th>school_state</th>\n",
              "      <th>teacher_prefix</th>\n",
              "      <th>project_grade_category</th>\n",
              "      <th>teacher_number_of_previously_posted_projects</th>\n",
              "      <th>project_is_approved</th>\n",
              "      <th>clean_categories</th>\n",
              "      <th>clean_subcategories</th>\n",
              "      <th>essay</th>\n",
              "      <th>price</th>\n",
              "      <th>essay_pos_score</th>\n",
              "      <th>essay_neg_score</th>\n",
              "      <th>essay_neu_score</th>\n",
              "      <th>essay_com_score</th>\n",
              "    </tr>\n",
              "  </thead>\n",
              "  <tbody>\n",
              "    <tr>\n",
              "      <th>0</th>\n",
              "      <td>ca</td>\n",
              "      <td>mrs</td>\n",
              "      <td>grades_prek_2</td>\n",
              "      <td>53</td>\n",
              "      <td>1</td>\n",
              "      <td>math_science</td>\n",
              "      <td>appliedsciences health_lifescience</td>\n",
              "      <td>i fortunate enough use fairy tale stem kits cl...</td>\n",
              "      <td>725.05</td>\n",
              "      <td>0.205</td>\n",
              "      <td>0.013</td>\n",
              "      <td>0.783</td>\n",
              "      <td>0.9867</td>\n",
              "    </tr>\n",
              "  </tbody>\n",
              "</table>\n",
              "</div>"
            ],
            "text/plain": [
              "  school_state teacher_prefix  ... essay_neu_score  essay_com_score\n",
              "0           ca            mrs  ...           0.783           0.9867\n",
              "\n",
              "[1 rows x 13 columns]"
            ]
          },
          "metadata": {
            "tags": []
          },
          "execution_count": 4
        }
      ]
    },
    {
      "cell_type": "code",
      "metadata": {
        "colab": {
          "base_uri": "https://localhost:8080/"
        },
        "id": "jqwHDogmM140",
        "outputId": "677c28a5-5720-48a4-b84a-c6c8cb7a7ffe"
      },
      "source": [
        "sentiment_pos = coo_matrix(sentiment_pos)\n",
        "print(sentiment_pos.shape)"
      ],
      "execution_count": 5,
      "outputs": [
        {
          "output_type": "stream",
          "text": [
            "(1, 70000)\n"
          ],
          "name": "stdout"
        }
      ]
    },
    {
      "cell_type": "markdown",
      "metadata": {
        "id": "6lAMFKFcsc3j"
      },
      "source": [
        "<h2>1.2 Splitting data into Train and cross validation(or test): Stratified Sampling</h2>"
      ]
    },
    {
      "cell_type": "code",
      "metadata": {
        "colab": {
          "base_uri": "https://localhost:8080/",
          "height": 202
        },
        "id": "xPoLbG5IM141",
        "outputId": "748c7caf-419c-4fe1-e9b6-a4df85806235"
      },
      "source": [
        "Y = data['project_is_approved'].values\n",
        "X = data\n",
        "# X = data.drop(['project_is_approved'], axis=1)\n",
        "X.head(1)"
      ],
      "execution_count": 6,
      "outputs": [
        {
          "output_type": "execute_result",
          "data": {
            "text/html": [
              "<div>\n",
              "<style scoped>\n",
              "    .dataframe tbody tr th:only-of-type {\n",
              "        vertical-align: middle;\n",
              "    }\n",
              "\n",
              "    .dataframe tbody tr th {\n",
              "        vertical-align: top;\n",
              "    }\n",
              "\n",
              "    .dataframe thead th {\n",
              "        text-align: right;\n",
              "    }\n",
              "</style>\n",
              "<table border=\"1\" class=\"dataframe\">\n",
              "  <thead>\n",
              "    <tr style=\"text-align: right;\">\n",
              "      <th></th>\n",
              "      <th>school_state</th>\n",
              "      <th>teacher_prefix</th>\n",
              "      <th>project_grade_category</th>\n",
              "      <th>teacher_number_of_previously_posted_projects</th>\n",
              "      <th>project_is_approved</th>\n",
              "      <th>clean_categories</th>\n",
              "      <th>clean_subcategories</th>\n",
              "      <th>essay</th>\n",
              "      <th>price</th>\n",
              "      <th>essay_pos_score</th>\n",
              "      <th>essay_neg_score</th>\n",
              "      <th>essay_neu_score</th>\n",
              "      <th>essay_com_score</th>\n",
              "    </tr>\n",
              "  </thead>\n",
              "  <tbody>\n",
              "    <tr>\n",
              "      <th>0</th>\n",
              "      <td>ca</td>\n",
              "      <td>mrs</td>\n",
              "      <td>grades_prek_2</td>\n",
              "      <td>53</td>\n",
              "      <td>1</td>\n",
              "      <td>math_science</td>\n",
              "      <td>appliedsciences health_lifescience</td>\n",
              "      <td>i fortunate enough use fairy tale stem kits cl...</td>\n",
              "      <td>725.05</td>\n",
              "      <td>0.205</td>\n",
              "      <td>0.013</td>\n",
              "      <td>0.783</td>\n",
              "      <td>0.9867</td>\n",
              "    </tr>\n",
              "  </tbody>\n",
              "</table>\n",
              "</div>"
            ],
            "text/plain": [
              "  school_state teacher_prefix  ... essay_neu_score  essay_com_score\n",
              "0           ca            mrs  ...           0.783           0.9867\n",
              "\n",
              "[1 rows x 13 columns]"
            ]
          },
          "metadata": {
            "tags": []
          },
          "execution_count": 6
        }
      ]
    },
    {
      "cell_type": "code",
      "metadata": {
        "id": "ODMijuuNsc3l"
      },
      "source": [
        "from sklearn.model_selection import train_test_split\n",
        "\n",
        "X_train, X_test, Y_train, Y_test = train_test_split(X, Y, test_size=0.3, random_state = 0)"
      ],
      "execution_count": 7,
      "outputs": []
    },
    {
      "cell_type": "code",
      "metadata": {
        "colab": {
          "base_uri": "https://localhost:8080/"
        },
        "id": "pwmwzkcJM141",
        "outputId": "7ad42cb7-092d-4436-a2b7-a1fff76b39f4"
      },
      "source": [
        "print(len(X_train))\n",
        "print(len(X_test))"
      ],
      "execution_count": 8,
      "outputs": [
        {
          "output_type": "stream",
          "text": [
            "49000\n",
            "21000\n"
          ],
          "name": "stdout"
        }
      ]
    },
    {
      "cell_type": "code",
      "metadata": {
        "colab": {
          "base_uri": "https://localhost:8080/"
        },
        "id": "Vs7xJOSKM142",
        "outputId": "d199399a-2cd8-4ea4-c26c-969442c864ab"
      },
      "source": [
        "data.columns"
      ],
      "execution_count": 9,
      "outputs": [
        {
          "output_type": "execute_result",
          "data": {
            "text/plain": [
              "Index(['school_state', 'teacher_prefix', 'project_grade_category',\n",
              "       'teacher_number_of_previously_posted_projects', 'project_is_approved',\n",
              "       'clean_categories', 'clean_subcategories', 'essay', 'price',\n",
              "       'essay_pos_score', 'essay_neg_score', 'essay_neu_score',\n",
              "       'essay_com_score'],\n",
              "      dtype='object')"
            ]
          },
          "metadata": {
            "tags": []
          },
          "execution_count": 9
        }
      ]
    },
    {
      "cell_type": "markdown",
      "metadata": {
        "id": "vsALgl5Asc3u"
      },
      "source": [
        "<h2>1.3 Make Data Model Ready: encoding eassay</h2>"
      ]
    },
    {
      "cell_type": "code",
      "metadata": {
        "id": "1A_85jbWsc3v"
      },
      "source": [
        "# please write all the code with proper documentation, and proper titles for each subsection\n",
        "# go through documentations and blogs before you start coding\n",
        "# first figure out what to do, and then think about how to do.\n",
        "# reading and understanding error messages will be very much helpfull in debugging your code\n",
        "# make sure you featurize train and test data separatly\n",
        "\n",
        "# when you plot any graph make sure you use \n",
        "    # a. Title, that describes your plot, this will be very helpful to the reader\n",
        "    # b. Legends if needed\n",
        "    # c. X-axis label\n",
        "    # d. Y-axis label"
      ],
      "execution_count": 10,
      "outputs": []
    },
    {
      "cell_type": "code",
      "metadata": {
        "id": "62m8r9qxM143"
      },
      "source": [
        "X_train_essay = X_train['essay']\n",
        "X_test_essay = X_test['essay']"
      ],
      "execution_count": 11,
      "outputs": []
    },
    {
      "cell_type": "markdown",
      "metadata": {
        "id": "ZgLQ6iYeM143"
      },
      "source": [
        "### Using TF-IDF"
      ]
    },
    {
      "cell_type": "code",
      "metadata": {
        "colab": {
          "base_uri": "https://localhost:8080/"
        },
        "id": "cdszIMskM143",
        "outputId": "573489cd-ccfe-430e-cd7d-43620937bff3"
      },
      "source": [
        "from sklearn.feature_extraction.text import TfidfVectorizer\n",
        "\n",
        "vectorizer1 = TfidfVectorizer(min_df=10, ngram_range=(1,3))\n",
        "vectorizer1.fit(X_train_essay)\n",
        "train_essay_tfidf = vectorizer1.transform(X_train_essay)\n",
        "test_essay_tfidf = vectorizer1.transform(X_test_essay)\n",
        "print(train_essay_tfidf.shape)\n",
        "print(test_essay_tfidf.shape)\n",
        "print(Y_train.shape, Y_test.shape)"
      ],
      "execution_count": 12,
      "outputs": [
        {
          "output_type": "stream",
          "text": [
            "(49000, 150550)\n",
            "(21000, 150550)\n",
            "(49000,) (21000,)\n"
          ],
          "name": "stdout"
        }
      ]
    },
    {
      "cell_type": "markdown",
      "metadata": {
        "id": "jf6XhUzHM143"
      },
      "source": [
        "### Using TF-IDF W2V"
      ]
    },
    {
      "cell_type": "code",
      "metadata": {
        "id": "Bq4Qvl8lM144"
      },
      "source": [
        "import pickle\n",
        "store = None\n",
        "\n",
        "def pickleLoad():\n",
        "    return pickle.load(open(\"glove_vectors\",\"rb\" ) )\n",
        "\n",
        "store = pickleLoad()\n",
        "glove_words =  set(store.keys())"
      ],
      "execution_count": 13,
      "outputs": []
    },
    {
      "cell_type": "code",
      "metadata": {
        "id": "RqpsrmW0M144"
      },
      "source": [
        "tfidf_model = TfidfVectorizer()\n",
        "tfidf_model.fit(X_train_essay)\n",
        "# we are converting a dictionary with word as a key, and the idf as a value\n",
        "dictionary = dict(zip(tfidf_model.get_feature_names(), list(tfidf_model.idf_)))\n",
        "tfidf_words = set(tfidf_model.get_feature_names())"
      ],
      "execution_count": 14,
      "outputs": []
    },
    {
      "cell_type": "code",
      "metadata": {
        "id": "H3-Ay1M3M144"
      },
      "source": [
        "from tqdm import tqdm\n",
        "def tfidf_w2v(words):\n",
        "    tfidf_w2v_vectors = []\n",
        "    for sentence in tqdm(words): # for each review/sentence\n",
        "        vector = np.zeros(300) # as word vectors are of zero length\n",
        "        tf_idf_weight =0; # num of words with a valid vector in the sentence/review\n",
        "        for word in sentence.split(): # for each word in a review/sentence\n",
        "            if (word in glove_words) and (word in tfidf_words):\n",
        "                vec = store[word] # getting the vector for each word\n",
        "                # here we are multiplying idf value(dictionary[word]) and the tf value((sentence.count(word)/len(sentence.split())))\n",
        "                tf_idf = dictionary[word]*(sentence.count(word)/len(sentence.split())) # getting the tfidf value for each word\n",
        "                vector += (vec * tf_idf) # calculating tfidf weighted w2v\n",
        "                tf_idf_weight += tf_idf\n",
        "        if tf_idf_weight != 0:\n",
        "            vector /= tf_idf_weight\n",
        "        tfidf_w2v_vectors.append(vector)\n",
        "    print(len(tfidf_w2v_vectors))\n",
        "    print(len(tfidf_w2v_vectors[0]))\n",
        "    return tfidf_w2v_vectors"
      ],
      "execution_count": 15,
      "outputs": []
    },
    {
      "cell_type": "code",
      "metadata": {
        "colab": {
          "base_uri": "https://localhost:8080/"
        },
        "id": "YPU2sRUaM144",
        "outputId": "c87e2823-c233-4460-e6ad-dd90dadf8573"
      },
      "source": [
        "train_essay_tfidf_w2v = tfidf_w2v(X_train_essay)\n",
        "test_essay_tfidf_w2v = tfidf_w2v(X_test_essay)\n",
        "train_essay_tfidf_w2v = coo_matrix(train_essay_tfidf_w2v)\n",
        "test_essay_tfidf_w2v = coo_matrix(test_essay_tfidf_w2v)"
      ],
      "execution_count": 16,
      "outputs": [
        {
          "output_type": "stream",
          "text": [
            "100%|██████████| 49000/49000 [01:42<00:00, 476.41it/s]\n",
            "  0%|          | 105/21000 [00:00<00:39, 524.62it/s]"
          ],
          "name": "stderr"
        },
        {
          "output_type": "stream",
          "text": [
            "49000\n",
            "300\n"
          ],
          "name": "stdout"
        },
        {
          "output_type": "stream",
          "text": [
            "100%|██████████| 21000/21000 [00:43<00:00, 479.61it/s]\n"
          ],
          "name": "stderr"
        },
        {
          "output_type": "stream",
          "text": [
            "21000\n",
            "300\n"
          ],
          "name": "stdout"
        }
      ]
    },
    {
      "cell_type": "markdown",
      "metadata": {
        "id": "S3Vxxv2Hsc31"
      },
      "source": [
        "<h2>1.4 Make Data Model Ready: encoding numerical features</h2>"
      ]
    },
    {
      "cell_type": "code",
      "metadata": {
        "colab": {
          "base_uri": "https://localhost:8080/"
        },
        "id": "RAtihVPqsc33",
        "outputId": "b13a80f6-f75e-4fc1-adde-b3f99fb42f95"
      },
      "source": [
        "previous_project_scalar = StandardScaler()\n",
        "previous_project_scalar.fit(X_train['teacher_number_of_previously_posted_projects'].values.reshape(-1,1)) # finding the mean and standard deviation of this data\n",
        "print(f\"Mean : {previous_project_scalar.mean_[0]}, Standard deviation : {np.sqrt(previous_project_scalar.var_[0])}\")\n",
        "\n",
        "train_prPos_norm = coo_matrix(previous_project_scalar.transform(X_train['teacher_number_of_previously_posted_projects'].values.reshape(-1,1)))\n",
        "test_prPos_norm = coo_matrix(previous_project_scalar.transform(X_test['teacher_number_of_previously_posted_projects'].values.reshape(-1,1)))\n",
        "\n",
        "print(\"After vectorizations\")\n",
        "print(train_prPos_norm.shape, Y_train.shape)\n",
        "print(test_prPos_norm.shape, Y_test.shape)"
      ],
      "execution_count": 17,
      "outputs": [
        {
          "output_type": "stream",
          "text": [
            "Mean : 9.737877551020409, Standard deviation : 25.390665687741212\n",
            "After vectorizations\n",
            "(49000, 1) (49000,)\n",
            "(21000, 1) (21000,)\n"
          ],
          "name": "stdout"
        }
      ]
    },
    {
      "cell_type": "code",
      "metadata": {
        "colab": {
          "base_uri": "https://localhost:8080/"
        },
        "id": "I0EO9J4UM145",
        "outputId": "9fb0303a-40b1-44eb-a847-e49b1274047f"
      },
      "source": [
        "from sklearn.preprocessing import StandardScaler\n",
        "\n",
        "price_scalar = StandardScaler()\n",
        "price_scalar.fit(X_train['price'].values.reshape(-1,1)) # finding the mean and standard deviation of this data\n",
        "print(f\"Mean : {price_scalar.mean_[0]}, Standard deviation : {np.sqrt(price_scalar.var_[0])}\")\n",
        "\n",
        "train_scaler_price = coo_matrix(price_scalar.transform(X_train['price'].values.reshape(-1, 1)))\n",
        "test_scaler_price = coo_matrix(price_scalar.transform(X_test['price'].values.reshape(-1, 1)))\n",
        "\n",
        "print(\"After vectorizations\")\n",
        "print(train_scaler_price.shape, Y_train.shape)\n",
        "print(test_scaler_price.shape, Y_test.shape)"
      ],
      "execution_count": 18,
      "outputs": [
        {
          "output_type": "stream",
          "text": [
            "Mean : 309.2641893877551, Standard deviation : 369.4015744889598\n",
            "After vectorizations\n",
            "(49000, 1) (49000,)\n",
            "(21000, 1) (21000,)\n"
          ],
          "name": "stdout"
        }
      ]
    },
    {
      "cell_type": "markdown",
      "metadata": {
        "id": "MU9JF6NGM145"
      },
      "source": [
        "<h2>1.5 Make Data Model Ready: encoding categorical features using response coding</h2>"
      ]
    },
    {
      "cell_type": "code",
      "metadata": {
        "id": "S5N-AjO4M146"
      },
      "source": [
        "def trainResponseCoding(X, cat):\n",
        "    X.loc[X[cat].isnull(), cat] = 'nan'\n",
        "    data0 = X[X['project_is_approved'] == 0].groupby(cat).size()\n",
        "    data1 = X[X['project_is_approved'] == 1].groupby(cat).size()\n",
        "    return data0, data1\n",
        "\n",
        "def get_prob(d0, d1, X):\n",
        "    pos_prob_category = {}\n",
        "    neg_prob_category = {}\n",
        "    for i in d0.index:\n",
        "        pos_prob_category[i] = (d0[i])/(d0[i] + d1[i])\n",
        "        neg_prob_category[i] = (d1[i])/(d0[i] + d1[i])\n",
        "    print(d0, d1)\n",
        "    return pos_prob_category, neg_prob_category"
      ],
      "execution_count": 19,
      "outputs": []
    },
    {
      "cell_type": "markdown",
      "metadata": {
        "id": "aDC_0kIjM146"
      },
      "source": [
        "### Teacher Prefix"
      ]
    },
    {
      "cell_type": "code",
      "metadata": {
        "colab": {
          "base_uri": "https://localhost:8080/"
        },
        "id": "Iai6CkfsM146",
        "outputId": "f5b06ff6-f90a-4666-8a37-b57e76637606"
      },
      "source": [
        "categories = ['school_state','teacher_prefix','clean_categories','clean_subcategories','project_grade_category']\n",
        "data_dict = {'X_train':{}, 'X_test': {}}\n",
        "d0, d1 = trainResponseCoding(X_train, 'teacher_prefix')\n",
        "tp_pos_prob, tp_neg_prob = get_prob(d0, d1, X_train)"
      ],
      "execution_count": 20,
      "outputs": [
        {
          "output_type": "stream",
          "text": [
            "teacher_prefix\n",
            "dr            1\n",
            "mr          739\n",
            "mrs        3809\n",
            "ms         2816\n",
            "teacher     208\n",
            "dtype: int64 teacher_prefix\n",
            "dr             3\n",
            "mr          3951\n",
            "mrs        22124\n",
            "ms         14539\n",
            "teacher      810\n",
            "dtype: int64\n"
          ],
          "name": "stdout"
        }
      ]
    },
    {
      "cell_type": "code",
      "metadata": {
        "id": "IWbeeqxxM146"
      },
      "source": [
        "teacher_prefix_0_train = []\n",
        "teacher_prefix_1_train = []\n",
        "teacher_prefix_0_test = []\n",
        "teacher_prefix_1_test = []\n",
        "\n",
        "for i in X_train['teacher_prefix']:\n",
        "    teacher_prefix_0_train.append(tp_neg_prob[i])\n",
        "    teacher_prefix_1_train.append(tp_pos_prob[i])\n",
        "    \n",
        "X_train['teacher_prefix_0'] = teacher_prefix_0_train\n",
        "X_train['teacher_prefix_1'] = teacher_prefix_1_train\n",
        "\n",
        "for i in X_test['teacher_prefix']:\n",
        "    teacher_prefix_0_test.append(tp_neg_prob[i])\n",
        "    teacher_prefix_1_test.append(tp_pos_prob[i])\n",
        "    \n",
        "X_test['teacher_prefix_0'] = teacher_prefix_0_test\n",
        "X_test['teacher_prefix_1'] = teacher_prefix_1_test"
      ],
      "execution_count": 21,
      "outputs": []
    },
    {
      "cell_type": "code",
      "metadata": {
        "colab": {
          "base_uri": "https://localhost:8080/"
        },
        "id": "YkRQIZ4MM147",
        "outputId": "a09755d7-7f9a-48d1-8562-86da4a7b9850"
      },
      "source": [
        "normalizer = Normalizer()\n",
        "\n",
        "normalizer.fit(X_train[\"teacher_prefix_1\"].values.reshape(-1,1))\n",
        "\n",
        "teacher_prefix_1_train = coo_matrix(normalizer.transform(X_train[\"teacher_prefix_1\"].values.reshape(-1,1)))\n",
        "teacher_prefix_1_test = coo_matrix(normalizer.transform(X_test[\"teacher_prefix_1\"].values.reshape(-1,1)))\n",
        "\n",
        "print(\"After vectorizations\")\n",
        "print(teacher_prefix_1_train.shape, Y_train.shape)\n",
        "print(teacher_prefix_1_test.shape, Y_test.shape)"
      ],
      "execution_count": 22,
      "outputs": [
        {
          "output_type": "stream",
          "text": [
            "After vectorizations\n",
            "(49000, 1) (49000,)\n",
            "(21000, 1) (21000,)\n"
          ],
          "name": "stdout"
        }
      ]
    },
    {
      "cell_type": "code",
      "metadata": {
        "colab": {
          "base_uri": "https://localhost:8080/"
        },
        "id": "FgVe6zBQM147",
        "outputId": "74554cce-3e8e-4087-f5f2-b1a2a90c85c6"
      },
      "source": [
        "normalizer = Normalizer()\n",
        "\n",
        "normalizer.fit(X_train[\"teacher_prefix_0\"].values.reshape(-1,1))\n",
        "\n",
        "teacher_prefix_0_train = coo_matrix(normalizer.transform(X_train[\"teacher_prefix_0\"].values.reshape(-1,1)))\n",
        "teacher_prefix_0_test = coo_matrix(normalizer.transform(X_test[\"teacher_prefix_0\"].values.reshape(-1,1)))\n",
        "\n",
        "print(\"After vectorizations\")\n",
        "print(teacher_prefix_0_train.shape, Y_train.shape)\n",
        "print(teacher_prefix_0_test.shape, Y_test.shape)"
      ],
      "execution_count": 23,
      "outputs": [
        {
          "output_type": "stream",
          "text": [
            "After vectorizations\n",
            "(49000, 1) (49000,)\n",
            "(21000, 1) (21000,)\n"
          ],
          "name": "stdout"
        }
      ]
    },
    {
      "cell_type": "markdown",
      "metadata": {
        "id": "itB-UEpMM147"
      },
      "source": [
        "### School State"
      ]
    },
    {
      "cell_type": "code",
      "metadata": {
        "colab": {
          "base_uri": "https://localhost:8080/"
        },
        "id": "D9DBvkNDM147",
        "outputId": "bbd4c640-4555-4875-b32b-70b907a98cfd"
      },
      "source": [
        "d0, d1 = trainResponseCoding(X_train, 'school_state')\n",
        "ss_pos_prob, ss_neg_prob = get_prob(d0, d1, X_train)"
      ],
      "execution_count": 24,
      "outputs": [
        {
          "output_type": "stream",
          "text": [
            "school_state\n",
            "ak      22\n",
            "al     117\n",
            "ar      89\n",
            "az     169\n",
            "ca    1032\n",
            "co      82\n",
            "ct      92\n",
            "dc      46\n",
            "de      16\n",
            "fl     495\n",
            "ga     293\n",
            "hi      29\n",
            "ia      37\n",
            "id      51\n",
            "il     290\n",
            "in     166\n",
            "ks      43\n",
            "ky      79\n",
            "la     196\n",
            "ma     155\n",
            "md     113\n",
            "me      24\n",
            "mi     195\n",
            "mn      66\n",
            "mo     153\n",
            "ms      99\n",
            "mt      15\n",
            "nc     362\n",
            "nd       7\n",
            "ne      22\n",
            "nh      19\n",
            "nj     140\n",
            "nm      30\n",
            "nv      94\n",
            "ny     424\n",
            "oh     131\n",
            "ok     170\n",
            "or     111\n",
            "pa     213\n",
            "ri      16\n",
            "sc     230\n",
            "sd      23\n",
            "tn     110\n",
            "tx     672\n",
            "ut     159\n",
            "va     153\n",
            "vt       5\n",
            "wa     137\n",
            "wi     136\n",
            "wv      43\n",
            "wy       2\n",
            "dtype: int64 school_state\n",
            "ak     131\n",
            "al     639\n",
            "ar     421\n",
            "az     802\n",
            "ca    6035\n",
            "co     388\n",
            "ct     607\n",
            "dc     181\n",
            "de     148\n",
            "fl    2452\n",
            "ga    1509\n",
            "hi     176\n",
            "ia     280\n",
            "id     256\n",
            "il    1545\n",
            "in     986\n",
            "ks     221\n",
            "ky     523\n",
            "la     995\n",
            "ma     887\n",
            "md     565\n",
            "me     188\n",
            "mi    1136\n",
            "mn     425\n",
            "mo    1000\n",
            "ms     522\n",
            "mt      89\n",
            "nc    1945\n",
            "nd      66\n",
            "ne     120\n",
            "nh     139\n",
            "nj     708\n",
            "nm     172\n",
            "nv     513\n",
            "ny    2679\n",
            "oh     927\n",
            "ok     914\n",
            "or     494\n",
            "pa    1139\n",
            "ri     106\n",
            "sc    1389\n",
            "sd     105\n",
            "tn     663\n",
            "tx    2810\n",
            "ut     762\n",
            "va     771\n",
            "vt      34\n",
            "wa     918\n",
            "wi     721\n",
            "wv     199\n",
            "wy      26\n",
            "dtype: int64\n"
          ],
          "name": "stdout"
        }
      ]
    },
    {
      "cell_type": "code",
      "metadata": {
        "colab": {
          "base_uri": "https://localhost:8080/"
        },
        "id": "v1EUNXwxM148",
        "outputId": "8206bd4b-077e-44a4-c755-f62cac2002ed"
      },
      "source": [
        "school_state_0_train = []\n",
        "school_state_1_train = []\n",
        "school_state_0_test = []\n",
        "school_state_1_test = []\n",
        "\n",
        "for i in X_train['school_state']:\n",
        "    school_state_0_train.append(ss_neg_prob[i])\n",
        "    school_state_1_train.append(ss_pos_prob[i])\n",
        "    \n",
        "X_train['school_state_0'] = school_state_0_train\n",
        "X_train['school_state_1'] = school_state_1_train\n",
        "\n",
        "for i in X_test['school_state']:\n",
        "    school_state_0_test.append(ss_neg_prob[i])\n",
        "    school_state_1_test.append(ss_pos_prob[i])\n",
        "    \n",
        "X_test['school_state_0'] = school_state_0_test\n",
        "X_test['school_state_1'] = school_state_1_test\n",
        "X_train['school_state_0']"
      ],
      "execution_count": 25,
      "outputs": [
        {
          "output_type": "execute_result",
          "data": {
            "text/plain": [
              "59982    0.841962\n",
              "13048    0.797357\n",
              "13206    0.870142\n",
              "25113    0.870142\n",
              "15311    0.865580\n",
              "           ...   \n",
              "21243    0.841962\n",
              "45891    0.876181\n",
              "42613    0.827362\n",
              "43567    0.832033\n",
              "68268    0.868383\n",
              "Name: school_state_0, Length: 49000, dtype: float64"
            ]
          },
          "metadata": {
            "tags": []
          },
          "execution_count": 25
        }
      ]
    },
    {
      "cell_type": "code",
      "metadata": {
        "colab": {
          "base_uri": "https://localhost:8080/"
        },
        "id": "dEE0hbbAM148",
        "outputId": "690cfce7-7606-4536-e648-f6d202c80b30"
      },
      "source": [
        "normalizer = Normalizer()\n",
        "\n",
        "normalizer.fit(X_train[\"school_state_0\"].values.reshape(-1,1))\n",
        "\n",
        "school_state_0_train = coo_matrix(normalizer.transform(X_train[\"school_state_0\"].values.reshape(-1,1)))\n",
        "school_state_0_test = coo_matrix(normalizer.transform(X_test[\"school_state_0\"].values.reshape(-1,1)))\n",
        "\n",
        "print(\"After vectorizations\")\n",
        "print(school_state_0_train.shape, Y_train.shape)\n",
        "print(school_state_0_test.shape, Y_test.shape)"
      ],
      "execution_count": 26,
      "outputs": [
        {
          "output_type": "stream",
          "text": [
            "After vectorizations\n",
            "(49000, 1) (49000,)\n",
            "(21000, 1) (21000,)\n"
          ],
          "name": "stdout"
        }
      ]
    },
    {
      "cell_type": "code",
      "metadata": {
        "colab": {
          "base_uri": "https://localhost:8080/"
        },
        "id": "EerTqlQWM148",
        "outputId": "e041b6fe-45bf-4b31-c8ba-45f0286659d5"
      },
      "source": [
        "normalizer = Normalizer()\n",
        "\n",
        "normalizer.fit(X_train[\"school_state_1\"].values.reshape(-1,1))\n",
        "\n",
        "school_state_1_train = coo_matrix(normalizer.transform(X_train[\"school_state_1\"].values.reshape(-1,1)))\n",
        "school_state_1_test = coo_matrix(normalizer.transform(X_test[\"school_state_1\"].values.reshape(-1,1)))\n",
        "\n",
        "print(\"After vectorizations\")\n",
        "print(school_state_1_train.shape, Y_train.shape)\n",
        "print(school_state_1_test.shape, Y_test.shape)"
      ],
      "execution_count": 27,
      "outputs": [
        {
          "output_type": "stream",
          "text": [
            "After vectorizations\n",
            "(49000, 1) (49000,)\n",
            "(21000, 1) (21000,)\n"
          ],
          "name": "stdout"
        }
      ]
    },
    {
      "cell_type": "markdown",
      "metadata": {
        "id": "65nhFk5MM148"
      },
      "source": [
        "### project grade category"
      ]
    },
    {
      "cell_type": "code",
      "metadata": {
        "colab": {
          "base_uri": "https://localhost:8080/"
        },
        "id": "CpudgSIaM148",
        "outputId": "e971d797-4f3f-4c65-82df-812915138bb4"
      },
      "source": [
        "X_train['project_grade_category']"
      ],
      "execution_count": 28,
      "outputs": [
        {
          "output_type": "execute_result",
          "data": {
            "text/plain": [
              "59982       grades_3_5\n",
              "13048    grades_prek_2\n",
              "13206    grades_prek_2\n",
              "25113    grades_prek_2\n",
              "15311    grades_prek_2\n",
              "             ...      \n",
              "21243       grades_3_5\n",
              "45891    grades_prek_2\n",
              "42613       grades_6_8\n",
              "43567       grades_3_5\n",
              "68268      grades_9_12\n",
              "Name: project_grade_category, Length: 49000, dtype: object"
            ]
          },
          "metadata": {
            "tags": []
          },
          "execution_count": 28
        }
      ]
    },
    {
      "cell_type": "code",
      "metadata": {
        "colab": {
          "base_uri": "https://localhost:8080/"
        },
        "id": "FuogdnzlM149",
        "outputId": "c0021064-fa48-4cdb-fbaa-da6310f90f56"
      },
      "source": [
        "d0, d1 = trainResponseCoding(X_train, 'project_grade_category')\n",
        "pg_pos_prob, pg_neg_prob = get_prob(d0, d1, X_train)"
      ],
      "execution_count": 29,
      "outputs": [
        {
          "output_type": "stream",
          "text": [
            "project_grade_category\n",
            "grades_3_5       2492\n",
            "grades_6_8       1219\n",
            "grades_9_12       761\n",
            "grades_prek_2    3101\n",
            "dtype: int64 project_grade_category\n",
            "grades_3_5       14320\n",
            "grades_6_8        6199\n",
            "grades_9_12       4044\n",
            "grades_prek_2    16864\n",
            "dtype: int64\n"
          ],
          "name": "stdout"
        }
      ]
    },
    {
      "cell_type": "code",
      "metadata": {
        "colab": {
          "base_uri": "https://localhost:8080/"
        },
        "id": "uInBv3iWM149",
        "outputId": "f89a5378-052d-4adf-88fe-106a719c60ec"
      },
      "source": [
        "project_grade_0_train = []\n",
        "project_grade_1_train = []\n",
        "project_grade_0_test = []\n",
        "project_grade_1_test = []\n",
        "\n",
        "for i in X_train['project_grade_category']:\n",
        "    project_grade_0_train.append(pg_neg_prob[i])\n",
        "    project_grade_1_train.append(pg_pos_prob[i])\n",
        "    \n",
        "X_train['project_grade_0'] = project_grade_0_train\n",
        "X_train['project_grade_1'] = project_grade_1_train\n",
        "\n",
        "for i in X_test['project_grade_category']:\n",
        "    project_grade_0_test.append(pg_neg_prob[i])\n",
        "    project_grade_1_test.append(pg_pos_prob[i])\n",
        "    \n",
        "X_test['project_grade_0'] = project_grade_0_test\n",
        "X_test['project_grade_1'] = project_grade_1_test\n",
        "X_train['project_grade_0']"
      ],
      "execution_count": 30,
      "outputs": [
        {
          "output_type": "execute_result",
          "data": {
            "text/plain": [
              "59982    0.851773\n",
              "13048    0.844678\n",
              "13206    0.844678\n",
              "25113    0.844678\n",
              "15311    0.844678\n",
              "           ...   \n",
              "21243    0.851773\n",
              "45891    0.844678\n",
              "42613    0.835670\n",
              "43567    0.851773\n",
              "68268    0.841623\n",
              "Name: project_grade_0, Length: 49000, dtype: float64"
            ]
          },
          "metadata": {
            "tags": []
          },
          "execution_count": 30
        }
      ]
    },
    {
      "cell_type": "code",
      "metadata": {
        "colab": {
          "base_uri": "https://localhost:8080/"
        },
        "id": "QisbXVibM149",
        "outputId": "81cf957b-94ce-4a00-b611-af95303bb8e7"
      },
      "source": [
        "normalizer = Normalizer()\n",
        "\n",
        "normalizer.fit(X_train[\"project_grade_0\"].values.reshape(-1,1))\n",
        "\n",
        "project_grade_0_train = coo_matrix(normalizer.transform(X_train[\"project_grade_0\"].values.reshape(-1,1)))\n",
        "project_grade_0_test = coo_matrix(normalizer.transform(X_test[\"project_grade_0\"].values.reshape(-1,1)))\n",
        "\n",
        "print(\"After vectorizations\")\n",
        "print(project_grade_0_train.shape, Y_train.shape)\n",
        "print(project_grade_0_test.shape, Y_test.shape)"
      ],
      "execution_count": 31,
      "outputs": [
        {
          "output_type": "stream",
          "text": [
            "After vectorizations\n",
            "(49000, 1) (49000,)\n",
            "(21000, 1) (21000,)\n"
          ],
          "name": "stdout"
        }
      ]
    },
    {
      "cell_type": "code",
      "metadata": {
        "colab": {
          "base_uri": "https://localhost:8080/"
        },
        "id": "25mk3nsxM14-",
        "outputId": "904f35e7-596d-405a-bf13-d506e5da1120"
      },
      "source": [
        "normalizer = Normalizer()\n",
        "\n",
        "normalizer.fit(X_train[\"project_grade_1\"].values.reshape(-1,1))\n",
        "\n",
        "project_grade_1_train = coo_matrix(normalizer.transform(X_train[\"project_grade_1\"].values.reshape(-1,1)))\n",
        "project_grade_1_test = coo_matrix(normalizer.transform(X_test[\"project_grade_1\"].values.reshape(-1,1)))\n",
        "\n",
        "print(\"After vectorizations\")\n",
        "print(project_grade_1_train.shape, Y_train.shape)\n",
        "print(project_grade_1_test.shape, Y_test.shape)"
      ],
      "execution_count": 32,
      "outputs": [
        {
          "output_type": "stream",
          "text": [
            "After vectorizations\n",
            "(49000, 1) (49000,)\n",
            "(21000, 1) (21000,)\n"
          ],
          "name": "stdout"
        }
      ]
    },
    {
      "cell_type": "markdown",
      "metadata": {
        "id": "IlgN9vSnM14-"
      },
      "source": [
        "### clean categories"
      ]
    },
    {
      "cell_type": "code",
      "metadata": {
        "colab": {
          "base_uri": "https://localhost:8080/"
        },
        "id": "DYkoWTH3M14-",
        "outputId": "a8e92cdb-6285-4059-ede4-4b88c7e521e1"
      },
      "source": [
        "X_train_pos = X_train.loc[Y_train == 1]\n",
        "\n",
        "clean_cat_pos = {}\n",
        "\n",
        "for i in X_train_pos['clean_categories']:\n",
        "    for j in i.split():\n",
        "        if j not in clean_cat_pos:\n",
        "            clean_cat_pos[j] = 1\n",
        "        else:\n",
        "            clean_cat_pos[j] += 1\n",
        "clean_cat_pos"
      ],
      "execution_count": 33,
      "outputs": [
        {
          "output_type": "execute_result",
          "data": {
            "text/plain": [
              "{'appliedlearning': 4297,\n",
              " 'care_hunger': 239,\n",
              " 'health_sports': 6792,\n",
              " 'history_civics': 2182,\n",
              " 'literacy_language': 20096,\n",
              " 'math_science': 15065,\n",
              " 'music_arts': 3640,\n",
              " 'specialneeds': 4876,\n",
              " 'warmth': 239}"
            ]
          },
          "metadata": {
            "tags": []
          },
          "execution_count": 33
        }
      ]
    },
    {
      "cell_type": "code",
      "metadata": {
        "colab": {
          "base_uri": "https://localhost:8080/"
        },
        "id": "BGtG1xc2M14-",
        "outputId": "415070ff-02e4-4f44-ed0f-8bdc532c3550"
      },
      "source": [
        "X_train_neg = X_train.loc[Y_train == 0]\n",
        "\n",
        "clean_cat_neg = {}\n",
        "\n",
        "for i in X_train_neg['clean_categories']:\n",
        "    for j in i.split():\n",
        "        if j not in clean_cat_neg:\n",
        "            clean_cat_neg[j] = 1\n",
        "        else:\n",
        "            clean_cat_neg[j] += 1\n",
        "clean_cat_neg"
      ],
      "execution_count": 34,
      "outputs": [
        {
          "output_type": "execute_result",
          "data": {
            "text/plain": [
              "{'appliedlearning': 928,\n",
              " 'care_hunger': 22,\n",
              " 'health_sports': 1170,\n",
              " 'history_civics': 380,\n",
              " 'literacy_language': 3246,\n",
              " 'math_science': 2904,\n",
              " 'music_arts': 694,\n",
              " 'specialneeds': 1012,\n",
              " 'warmth': 22}"
            ]
          },
          "metadata": {
            "tags": []
          },
          "execution_count": 34
        }
      ]
    },
    {
      "cell_type": "code",
      "metadata": {
        "colab": {
          "base_uri": "https://localhost:8080/"
        },
        "id": "uH9Ar-XIM14-",
        "outputId": "0c5358d7-527d-48db-ffc2-06da715fe657"
      },
      "source": [
        "clean_cat_total = {}\n",
        "\n",
        "for a in X_train['clean_categories'] :\n",
        "    for b in a.split():\n",
        "        if b not in clean_cat_total :\n",
        "            clean_cat_total[b] = 1\n",
        "        else :\n",
        "            clean_cat_total[b] += 1\n",
        "clean_cat_total"
      ],
      "execution_count": 35,
      "outputs": [
        {
          "output_type": "execute_result",
          "data": {
            "text/plain": [
              "{'appliedlearning': 5225,\n",
              " 'care_hunger': 261,\n",
              " 'health_sports': 7962,\n",
              " 'history_civics': 2562,\n",
              " 'literacy_language': 23342,\n",
              " 'math_science': 17969,\n",
              " 'music_arts': 4334,\n",
              " 'specialneeds': 5888,\n",
              " 'warmth': 261}"
            ]
          },
          "metadata": {
            "tags": []
          },
          "execution_count": 35
        }
      ]
    },
    {
      "cell_type": "code",
      "metadata": {
        "colab": {
          "base_uri": "https://localhost:8080/"
        },
        "id": "nQ4zBE1VM14_",
        "outputId": "8c4c8503-2219-4a7a-c4c0-be453d4066da"
      },
      "source": [
        "cc_pos_prob = {}\n",
        "\n",
        "for i in clean_cat_total.keys():\n",
        "    cc_pos_prob[i] = (clean_cat_pos[i])/float(clean_cat_total[i])\n",
        "    \n",
        "cc_neg_prob = {}\n",
        "\n",
        "for i in clean_cat_total.keys():\n",
        "    cc_neg_prob[i] = (clean_cat_neg[i])/float(clean_cat_total[i])\n",
        "cc_neg_prob"
      ],
      "execution_count": 36,
      "outputs": [
        {
          "output_type": "execute_result",
          "data": {
            "text/plain": [
              "{'appliedlearning': 0.17760765550239235,\n",
              " 'care_hunger': 0.0842911877394636,\n",
              " 'health_sports': 0.146948003014318,\n",
              " 'history_civics': 0.1483216237314598,\n",
              " 'literacy_language': 0.139062633878845,\n",
              " 'math_science': 0.161611664533363,\n",
              " 'music_arts': 0.1601292108906322,\n",
              " 'specialneeds': 0.171875,\n",
              " 'warmth': 0.0842911877394636}"
            ]
          },
          "metadata": {
            "tags": []
          },
          "execution_count": 36
        }
      ]
    },
    {
      "cell_type": "code",
      "metadata": {
        "id": "NiUffpWwM14_"
      },
      "source": [
        "cat_0_train = []\n",
        "cat_1_train = []\n",
        "\n",
        "for a in X_train[\"clean_categories\"] :\n",
        "    b = a.split()\n",
        "    if len(b) == 1 :\n",
        "        cat_0_train.append(cc_neg_prob[a])\n",
        "        cat_1_train.append(cc_pos_prob[a])\n",
        "    else :\n",
        "        neg_prob = 1\n",
        "        pos_prob = 1\n",
        "        for i in b:\n",
        "            neg_prob *= cc_neg_prob[i]\n",
        "            pos_prob *= cc_pos_prob[i]\n",
        "        \n",
        "        cat_0_train.append(neg_prob)\n",
        "        cat_1_train.append(pos_prob)\n",
        "\n",
        "X_train['cat_0'] = cat_0_train\n",
        "X_train['cat_1'] = cat_1_train"
      ],
      "execution_count": 37,
      "outputs": []
    },
    {
      "cell_type": "code",
      "metadata": {
        "id": "UkgFRRsbM14_"
      },
      "source": [
        "cat_0_test = []\n",
        "cat_1_test = []\n",
        "\n",
        "for a in X_test[\"clean_categories\"] :\n",
        "    b = a.split()\n",
        "    if len(b) == 1 :\n",
        "        cat_0_test.append(cc_neg_prob[a])\n",
        "        cat_1_test.append(cc_pos_prob[a])\n",
        "    else :\n",
        "        neg_prob = 1\n",
        "        pos_prob = 1\n",
        "        for i in b:\n",
        "            neg_prob *= cc_neg_prob[i]\n",
        "            pos_prob *= cc_pos_prob[i]\n",
        "        \n",
        "        cat_0_test.append(neg_prob)\n",
        "        cat_1_test.append(pos_prob)\n",
        "        \n",
        "X_test['cat_0'] = cat_0_test\n",
        "X_test['cat_1'] = cat_1_test"
      ],
      "execution_count": 38,
      "outputs": []
    },
    {
      "cell_type": "code",
      "metadata": {
        "colab": {
          "base_uri": "https://localhost:8080/"
        },
        "id": "BPSUh2B5M14_",
        "outputId": "1ef61c5f-411c-4ad4-cb5e-30959fe03b45"
      },
      "source": [
        "normalizer = Normalizer()\n",
        "\n",
        "normalizer.fit(X_train[\"cat_0\"].values.reshape(-1,1))\n",
        "\n",
        "cat_0_train = coo_matrix(normalizer.transform(X_train[\"cat_0\"].values.reshape(-1,1)))\n",
        "cat_0_test = coo_matrix(normalizer.transform(X_test[\"cat_0\"].values.reshape(-1,1)))\n",
        "\n",
        "print(\"After vectorizations\")\n",
        "print(cat_0_train.shape, Y_train.shape)\n",
        "print(cat_0_test.shape, Y_test.shape)"
      ],
      "execution_count": 39,
      "outputs": [
        {
          "output_type": "stream",
          "text": [
            "After vectorizations\n",
            "(49000, 1) (49000,)\n",
            "(21000, 1) (21000,)\n"
          ],
          "name": "stdout"
        }
      ]
    },
    {
      "cell_type": "code",
      "metadata": {
        "colab": {
          "base_uri": "https://localhost:8080/"
        },
        "id": "SxvMhkVhM14_",
        "outputId": "6f07cfcd-e8f5-40a2-d0ef-e070b842f20e"
      },
      "source": [
        "normalizer = Normalizer()\n",
        "\n",
        "normalizer.fit(X_train[\"cat_1\"].values.reshape(-1,1))\n",
        "\n",
        "cat_1_train = coo_matrix(normalizer.transform(X_train[\"cat_1\"].values.reshape(-1,1)))\n",
        "cat_1_test = coo_matrix(normalizer.transform(X_test[\"cat_1\"].values.reshape(-1,1)))\n",
        "\n",
        "print(\"After vectorizations\")\n",
        "print(cat_1_train.shape, Y_train.shape)\n",
        "print(cat_1_test.shape, Y_test.shape)"
      ],
      "execution_count": 40,
      "outputs": [
        {
          "output_type": "stream",
          "text": [
            "After vectorizations\n",
            "(49000, 1) (49000,)\n",
            "(21000, 1) (21000,)\n"
          ],
          "name": "stdout"
        }
      ]
    },
    {
      "cell_type": "markdown",
      "metadata": {
        "id": "wU7wPnWEM14_"
      },
      "source": [
        "### clean sub categories"
      ]
    },
    {
      "cell_type": "code",
      "metadata": {
        "colab": {
          "base_uri": "https://localhost:8080/"
        },
        "id": "Kjz-vN7gM15A",
        "outputId": "aad8cf0c-79bb-49a5-9477-a23d5414b4eb"
      },
      "source": [
        "clean_subcat_pos = {}\n",
        "\n",
        "for i in X_train_pos['clean_subcategories']:\n",
        "    for j in i.split():\n",
        "        if j not in clean_subcat_pos:\n",
        "            clean_subcat_pos[j] = 1\n",
        "        else:\n",
        "            clean_subcat_pos[j] += 1\n",
        "clean_subcat_pos"
      ],
      "execution_count": 41,
      "outputs": [
        {
          "output_type": "execute_result",
          "data": {
            "text/plain": [
              "{'appliedsciences': 3730,\n",
              " 'care_hunger': 239,\n",
              " 'charactereducation': 793,\n",
              " 'civics_government': 314,\n",
              " 'college_careerprep': 895,\n",
              " 'communityservice': 173,\n",
              " 'earlydevelopment': 1517,\n",
              " 'economics': 92,\n",
              " 'environmentalscience': 2004,\n",
              " 'esl': 1581,\n",
              " 'extracurricular': 259,\n",
              " 'financialliteracy': 83,\n",
              " 'foreignlanguages': 338,\n",
              " 'gym_fitness': 2191,\n",
              " 'health_lifescience': 1593,\n",
              " 'health_wellness': 5207,\n",
              " 'history_geography': 1226,\n",
              " 'literacy': 13032,\n",
              " 'literature_writing': 8515,\n",
              " 'mathematics': 10348,\n",
              " 'music': 1244,\n",
              " 'nutritioneducation': 702,\n",
              " 'other': 874,\n",
              " 'parentinvolvement': 137,\n",
              " 'performingarts': 720,\n",
              " 'socialsciences': 765,\n",
              " 'specialneeds': 4876,\n",
              " 'teamsports': 758,\n",
              " 'visualarts': 2096,\n",
              " 'warmth': 239}"
            ]
          },
          "metadata": {
            "tags": []
          },
          "execution_count": 41
        }
      ]
    },
    {
      "cell_type": "code",
      "metadata": {
        "colab": {
          "base_uri": "https://localhost:8080/"
        },
        "id": "PYLHgEmXM15A",
        "outputId": "30a14f2b-6b88-4319-913c-3db935a08a07"
      },
      "source": [
        "clean_subcat_neg = {}\n",
        "\n",
        "for i in X_train_neg['clean_subcategories']:\n",
        "    for j in i.split():\n",
        "        if j not in clean_subcat_neg:\n",
        "            clean_subcat_neg[j] = 1\n",
        "        else:\n",
        "            clean_subcat_neg[j] += 1\n",
        "clean_subcat_neg"
      ],
      "execution_count": 42,
      "outputs": [
        {
          "output_type": "execute_result",
          "data": {
            "text/plain": [
              "{'appliedsciences': 811,\n",
              " 'care_hunger': 22,\n",
              " 'charactereducation': 190,\n",
              " 'civics_government': 56,\n",
              " 'college_careerprep': 180,\n",
              " 'communityservice': 49,\n",
              " 'earlydevelopment': 353,\n",
              " 'economics': 18,\n",
              " 'environmentalscience': 431,\n",
              " 'esl': 286,\n",
              " 'extracurricular': 51,\n",
              " 'financialliteracy': 20,\n",
              " 'foreignlanguages': 82,\n",
              " 'gym_fitness': 388,\n",
              " 'health_lifescience': 336,\n",
              " 'health_wellness': 803,\n",
              " 'history_geography': 202,\n",
              " 'literacy': 2034,\n",
              " 'literature_writing': 1452,\n",
              " 'mathematics': 1920,\n",
              " 'music': 180,\n",
              " 'nutritioneducation': 152,\n",
              " 'other': 170,\n",
              " 'parentinvolvement': 33,\n",
              " 'performingarts': 116,\n",
              " 'socialsciences': 139,\n",
              " 'specialneeds': 1012,\n",
              " 'teamsports': 200,\n",
              " 'visualarts': 463,\n",
              " 'warmth': 22}"
            ]
          },
          "metadata": {
            "tags": []
          },
          "execution_count": 42
        }
      ]
    },
    {
      "cell_type": "code",
      "metadata": {
        "colab": {
          "base_uri": "https://localhost:8080/"
        },
        "id": "D0FrlWYZM15A",
        "outputId": "7e952e1a-5185-42b8-d8e1-d0b1da4d0a01"
      },
      "source": [
        "clean_subcat_total = {}\n",
        "\n",
        "for a in X_train['clean_subcategories'] :\n",
        "    for b in a.split():\n",
        "        if b not in clean_subcat_total :\n",
        "            clean_subcat_total[b] = 1\n",
        "        else :\n",
        "            clean_subcat_total[b] += 1\n",
        "clean_subcat_total"
      ],
      "execution_count": 43,
      "outputs": [
        {
          "output_type": "execute_result",
          "data": {
            "text/plain": [
              "{'appliedsciences': 4541,\n",
              " 'care_hunger': 261,\n",
              " 'charactereducation': 983,\n",
              " 'civics_government': 370,\n",
              " 'college_careerprep': 1075,\n",
              " 'communityservice': 222,\n",
              " 'earlydevelopment': 1870,\n",
              " 'economics': 110,\n",
              " 'environmentalscience': 2435,\n",
              " 'esl': 1867,\n",
              " 'extracurricular': 310,\n",
              " 'financialliteracy': 103,\n",
              " 'foreignlanguages': 420,\n",
              " 'gym_fitness': 2579,\n",
              " 'health_lifescience': 1929,\n",
              " 'health_wellness': 6010,\n",
              " 'history_geography': 1428,\n",
              " 'literacy': 15066,\n",
              " 'literature_writing': 9967,\n",
              " 'mathematics': 12268,\n",
              " 'music': 1424,\n",
              " 'nutritioneducation': 854,\n",
              " 'other': 1044,\n",
              " 'parentinvolvement': 170,\n",
              " 'performingarts': 836,\n",
              " 'socialsciences': 904,\n",
              " 'specialneeds': 5888,\n",
              " 'teamsports': 958,\n",
              " 'visualarts': 2559,\n",
              " 'warmth': 261}"
            ]
          },
          "metadata": {
            "tags": []
          },
          "execution_count": 43
        }
      ]
    },
    {
      "cell_type": "code",
      "metadata": {
        "colab": {
          "base_uri": "https://localhost:8080/"
        },
        "id": "OKF6wyLpM15A",
        "outputId": "8fde32de-e92a-43c2-dd88-ebf75f9609f4"
      },
      "source": [
        "sc_pos_prob = {}\n",
        "\n",
        "for i in clean_subcat_total.keys():\n",
        "    sc_pos_prob[i] = (clean_subcat_pos[i])/float(clean_subcat_total[i])\n",
        "    \n",
        "sc_neg_prob = {}\n",
        "\n",
        "for i in clean_subcat_total.keys():\n",
        "    sc_neg_prob[i] = (clean_subcat_neg[i])/float(clean_subcat_total[i])\n",
        "sc_neg_prob"
      ],
      "execution_count": 44,
      "outputs": [
        {
          "output_type": "execute_result",
          "data": {
            "text/plain": [
              "{'appliedsciences': 0.1785950231226602,\n",
              " 'care_hunger': 0.0842911877394636,\n",
              " 'charactereducation': 0.19328585961342828,\n",
              " 'civics_government': 0.15135135135135136,\n",
              " 'college_careerprep': 0.16744186046511628,\n",
              " 'communityservice': 0.22072072072072071,\n",
              " 'earlydevelopment': 0.18877005347593584,\n",
              " 'economics': 0.16363636363636364,\n",
              " 'environmentalscience': 0.17700205338809036,\n",
              " 'esl': 0.1531869309051955,\n",
              " 'extracurricular': 0.16451612903225807,\n",
              " 'financialliteracy': 0.1941747572815534,\n",
              " 'foreignlanguages': 0.19523809523809524,\n",
              " 'gym_fitness': 0.1504459092671578,\n",
              " 'health_lifescience': 0.17418351477449456,\n",
              " 'health_wellness': 0.13361064891846922,\n",
              " 'history_geography': 0.14145658263305322,\n",
              " 'literacy': 0.13500597371565112,\n",
              " 'literature_writing': 0.145680746463329,\n",
              " 'mathematics': 0.156504727746984,\n",
              " 'music': 0.12640449438202248,\n",
              " 'nutritioneducation': 0.17798594847775176,\n",
              " 'other': 0.16283524904214558,\n",
              " 'parentinvolvement': 0.19411764705882353,\n",
              " 'performingarts': 0.13875598086124402,\n",
              " 'socialsciences': 0.15376106194690264,\n",
              " 'specialneeds': 0.171875,\n",
              " 'teamsports': 0.20876826722338204,\n",
              " 'visualarts': 0.18093005080109417,\n",
              " 'warmth': 0.0842911877394636}"
            ]
          },
          "metadata": {
            "tags": []
          },
          "execution_count": 44
        }
      ]
    },
    {
      "cell_type": "code",
      "metadata": {
        "id": "nTKDj7-8M15A"
      },
      "source": [
        "subcat_0_train = []\n",
        "subcat_1_train = []\n",
        "\n",
        "for a in X_train[\"clean_subcategories\"] :\n",
        "    b = a.split()\n",
        "    if len(b) == 1 :\n",
        "        subcat_0_train.append(sc_neg_prob[a])\n",
        "        subcat_1_train.append(sc_pos_prob[a])\n",
        "    else :\n",
        "        neg_prob = 1\n",
        "        pos_prob = 1\n",
        "        for i in b:\n",
        "            neg_prob *= sc_neg_prob[i]\n",
        "            pos_prob *= sc_pos_prob[i]\n",
        "        \n",
        "        subcat_0_train.append(neg_prob)\n",
        "        subcat_1_train.append(pos_prob)\n",
        "        \n",
        "X_train['subcat_0'] = subcat_0_train\n",
        "X_train['subcat_1'] = subcat_1_train"
      ],
      "execution_count": 45,
      "outputs": []
    },
    {
      "cell_type": "code",
      "metadata": {
        "id": "NMmdvfirM15B"
      },
      "source": [
        "subcat_0_test = []\n",
        "subcat_1_test = []\n",
        "\n",
        "for a in X_test[\"clean_subcategories\"] :\n",
        "    b = a.split()\n",
        "    if len(b) == 1 :\n",
        "        subcat_0_test.append(sc_neg_prob[a])\n",
        "        subcat_1_test.append(sc_pos_prob[a])\n",
        "    else :\n",
        "        neg_prob = 1\n",
        "        pos_prob = 1\n",
        "        for i in b:\n",
        "            neg_prob *= sc_neg_prob[i]\n",
        "            pos_prob *= sc_pos_prob[i]\n",
        "        \n",
        "        subcat_0_test.append(neg_prob)\n",
        "        subcat_1_test.append(pos_prob)\n",
        "        \n",
        "X_test['subcat_0'] = subcat_0_test\n",
        "X_test['subcat_1'] = subcat_1_test"
      ],
      "execution_count": 46,
      "outputs": []
    },
    {
      "cell_type": "code",
      "metadata": {
        "colab": {
          "base_uri": "https://localhost:8080/"
        },
        "id": "Y1oyLuD7M15B",
        "outputId": "3ae34b8a-1750-4933-a366-8faf6ee1d487"
      },
      "source": [
        "from sklearn.preprocessing import Normalizer\n",
        "\n",
        "normalizer = Normalizer()\n",
        "\n",
        "normalizer.fit(X_train[\"subcat_0\"].values.reshape(-1,1))\n",
        "\n",
        "subcat_0_train = coo_matrix(normalizer.transform(X_train[\"subcat_0\"].values.reshape(-1,1)))\n",
        "subcat_0_test = coo_matrix(normalizer.transform(X_test[\"subcat_0\"].values.reshape(-1,1)))\n",
        "\n",
        "print(\"After vectorizations\")\n",
        "print(subcat_0_train.shape, Y_train.shape)\n",
        "print(subcat_0_test.shape, Y_test.shape)"
      ],
      "execution_count": 47,
      "outputs": [
        {
          "output_type": "stream",
          "text": [
            "After vectorizations\n",
            "(49000, 1) (49000,)\n",
            "(21000, 1) (21000,)\n"
          ],
          "name": "stdout"
        }
      ]
    },
    {
      "cell_type": "code",
      "metadata": {
        "colab": {
          "base_uri": "https://localhost:8080/"
        },
        "id": "0DqwYuqoM15B",
        "outputId": "c1f903da-689f-41e2-b4ba-3289091222c1"
      },
      "source": [
        "normalizer = Normalizer()\n",
        "\n",
        "normalizer.fit(X_train[\"subcat_1\"].values.reshape(-1,1))\n",
        "\n",
        "subcat_1_train = coo_matrix(normalizer.transform(X_train[\"subcat_1\"].values.reshape(-1,1)))\n",
        "subcat_1_test = coo_matrix(normalizer.transform(X_test[\"subcat_1\"].values.reshape(-1,1)))\n",
        "\n",
        "print(\"After vectorizations\")\n",
        "print(subcat_1_train.shape, Y_train.shape)\n",
        "print(subcat_1_test.shape, Y_test.shape)"
      ],
      "execution_count": 48,
      "outputs": [
        {
          "output_type": "stream",
          "text": [
            "After vectorizations\n",
            "(49000, 1) (49000,)\n",
            "(21000, 1) (21000,)\n"
          ],
          "name": "stdout"
        }
      ]
    },
    {
      "cell_type": "markdown",
      "metadata": {
        "id": "FgIXgjI2M15B"
      },
      "source": [
        "<h2>1.6 Essay Sentiment Scores </h2>"
      ]
    },
    {
      "cell_type": "code",
      "metadata": {
        "colab": {
          "base_uri": "https://localhost:8080/"
        },
        "id": "BMxStqGfM15C",
        "outputId": "c1d4b828-87a6-4caa-a935-889bd9f245a2"
      },
      "source": [
        "from sklearn.preprocessing import StandardScaler\n",
        "\n",
        "pos_scalar = StandardScaler()\n",
        "pos_scalar.fit(X_train['essay_pos_score'].values.reshape(-1,1))\n",
        "\n",
        "train_scaler_pos = coo_matrix(pos_scalar.transform(X_train['essay_pos_score'].values.reshape(-1, 1)))\n",
        "test_scaler_pos = coo_matrix(pos_scalar.transform(X_test['essay_pos_score'].values.reshape(-1, 1)))\n",
        "\n",
        "print(\"After vectorizations\")\n",
        "print(train_scaler_pos.shape, Y_train.shape)\n",
        "print(test_scaler_pos.shape, Y_test.shape)"
      ],
      "execution_count": 49,
      "outputs": [
        {
          "output_type": "stream",
          "text": [
            "After vectorizations\n",
            "(49000, 1) (49000,)\n",
            "(21000, 1) (21000,)\n"
          ],
          "name": "stdout"
        }
      ]
    },
    {
      "cell_type": "code",
      "metadata": {
        "colab": {
          "base_uri": "https://localhost:8080/"
        },
        "id": "1W61x4xBM15D",
        "outputId": "6585a55d-6512-454b-8f06-4567da116c2e"
      },
      "source": [
        "from sklearn.preprocessing import StandardScaler\n",
        "\n",
        "neg_scalar = StandardScaler()\n",
        "neg_scalar.fit(X_train['essay_neg_score'].values.reshape(-1,1))\n",
        "\n",
        "train_scaler_neg = coo_matrix(neg_scalar.transform(X_train['essay_neg_score'].values.reshape(-1, 1)))\n",
        "test_scaler_neg = coo_matrix(neg_scalar.transform(X_test['essay_neg_score'].values.reshape(-1, 1)))\n",
        "\n",
        "print(\"After vectorizations\")\n",
        "print(train_scaler_neg.shape, Y_train.shape)\n",
        "print(test_scaler_neg.shape, Y_test.shape)"
      ],
      "execution_count": 50,
      "outputs": [
        {
          "output_type": "stream",
          "text": [
            "After vectorizations\n",
            "(49000, 1) (49000,)\n",
            "(21000, 1) (21000,)\n"
          ],
          "name": "stdout"
        }
      ]
    },
    {
      "cell_type": "code",
      "metadata": {
        "colab": {
          "base_uri": "https://localhost:8080/"
        },
        "id": "kVuNuSdZM15D",
        "outputId": "ba44a83b-67c1-4d2d-b729-281263743ff6"
      },
      "source": [
        "from sklearn.preprocessing import StandardScaler\n",
        "\n",
        "neu_scalar = StandardScaler()\n",
        "neu_scalar.fit(X_train['essay_neu_score'].values.reshape(-1,1))\n",
        "\n",
        "train_scaler_neu = coo_matrix(neu_scalar.transform(X_train['essay_neu_score'].values.reshape(-1, 1)))\n",
        "test_scaler_neu = coo_matrix(neu_scalar.transform(X_test['essay_neu_score'].values.reshape(-1, 1)))\n",
        "\n",
        "print(\"After vectorizations\")\n",
        "print(train_scaler_neu.shape, Y_train.shape)\n",
        "print(test_scaler_neu.shape, Y_test.shape)"
      ],
      "execution_count": 51,
      "outputs": [
        {
          "output_type": "stream",
          "text": [
            "After vectorizations\n",
            "(49000, 1) (49000,)\n",
            "(21000, 1) (21000,)\n"
          ],
          "name": "stdout"
        }
      ]
    },
    {
      "cell_type": "code",
      "metadata": {
        "colab": {
          "base_uri": "https://localhost:8080/"
        },
        "id": "GsQJrTtIM15D",
        "outputId": "e1dd4d34-7f37-44d3-d450-e8443beb407b"
      },
      "source": [
        "from sklearn.preprocessing import StandardScaler\n",
        "\n",
        "com_scalar = StandardScaler()\n",
        "com_scalar.fit(X_train['essay_com_score'].values.reshape(-1,1))\n",
        "\n",
        "train_scaler_com = coo_matrix(com_scalar.transform(X_train['essay_com_score'].values.reshape(-1, 1)))\n",
        "test_scaler_com = coo_matrix(com_scalar.transform(X_test['essay_com_score'].values.reshape(-1, 1)))\n",
        "\n",
        "print(\"After vectorizations\")\n",
        "print(train_scaler_com.shape, Y_train.shape)\n",
        "print(test_scaler_com.shape, Y_test.shape)"
      ],
      "execution_count": 52,
      "outputs": [
        {
          "output_type": "stream",
          "text": [
            "After vectorizations\n",
            "(49000, 1) (49000,)\n",
            "(21000, 1) (21000,)\n"
          ],
          "name": "stdout"
        }
      ]
    },
    {
      "cell_type": "markdown",
      "metadata": {
        "id": "I5wDFj17sc3-"
      },
      "source": [
        "<h1>2. Appling Models on different kind of featurization as mentioned in the instructions</h1>"
      ]
    },
    {
      "cell_type": "markdown",
      "metadata": {
        "id": "O5tWox1jsc3_"
      },
      "source": [
        "<br>Apply GBDT on different kind of featurization as mentioned in the instructions\n",
        "<br> For Every model that you work on make sure you do the step 2 and step 3 of instrucations"
      ]
    },
    {
      "cell_type": "code",
      "metadata": {
        "id": "ARWulYUwsc4B"
      },
      "source": [
        "# please write all the code with proper documentation, and proper titles for each subsection\n",
        "# go through documentations and blogs before you start coding\n",
        "# first figure out what to do, and then think about how to do.\n",
        "# reading and understanding error messages will be very much helpfull in debugging your code\n",
        "# when you plot any graph make sure you use \n",
        "    # a. Title, that describes your plot, this will be very helpful to the reader\n",
        "    # b. Legends if needed\n",
        "    # c. X-axis label\n",
        "    # d. Y-axis label"
      ],
      "execution_count": 53,
      "outputs": []
    },
    {
      "cell_type": "markdown",
      "metadata": {
        "id": "hdG_ty1rM15E"
      },
      "source": [
        "## Stacking all vectors"
      ]
    },
    {
      "cell_type": "markdown",
      "metadata": {
        "id": "CN4W9PYSM15E"
      },
      "source": [
        "### Set 1"
      ]
    },
    {
      "cell_type": "code",
      "metadata": {
        "colab": {
          "base_uri": "https://localhost:8080/"
        },
        "id": "iln7fmLaM15E",
        "outputId": "e77c127b-8f9c-4665-d492-ba4ae20c55ad"
      },
      "source": [
        "X_set1_train = []\n",
        "X_set1_train = hstack(( cat_0_train, cat_1_train, subcat_0_train, subcat_1_train, project_grade_0_train, \n",
        "                       project_grade_1_train, school_state_0_train, school_state_1_train, teacher_prefix_0_train, \n",
        "                       teacher_prefix_1_train, train_scaler_price, train_prPos_norm, train_essay_tfidf, \n",
        "                       train_scaler_pos, train_scaler_neg, train_scaler_neu, train_scaler_com \n",
        "                      ))\n",
        "print(X_set1_train.shape, Y_train.shape)\n",
        "\n",
        "X_set1_test = []\n",
        "X_set1_test = hstack(( cat_0_test, cat_1_test, subcat_0_test, subcat_1_test, project_grade_0_test, \n",
        "                       project_grade_1_test, school_state_0_test, school_state_1_test, teacher_prefix_0_test, \n",
        "                       teacher_prefix_1_test, test_scaler_price, test_prPos_norm, test_essay_tfidf, \n",
        "                       test_scaler_pos, test_scaler_neg, test_scaler_neu, test_scaler_com \n",
        "                      ))\n",
        "print(X_set1_test.shape, Y_test.shape)"
      ],
      "execution_count": 54,
      "outputs": [
        {
          "output_type": "stream",
          "text": [
            "(49000, 150566) (49000,)\n",
            "(21000, 150566) (21000,)\n"
          ],
          "name": "stdout"
        }
      ]
    },
    {
      "cell_type": "markdown",
      "metadata": {
        "id": "h_EBf1IHM15E"
      },
      "source": [
        "### Set 2"
      ]
    },
    {
      "cell_type": "code",
      "metadata": {
        "colab": {
          "base_uri": "https://localhost:8080/"
        },
        "id": "YIv6uip5M15E",
        "outputId": "8645f765-cb9f-48bf-ef98-caf93dbd81bf"
      },
      "source": [
        "X_set2_train = []\n",
        "X_set2_train = hstack(( cat_0_train, cat_1_train, subcat_0_train, subcat_1_train, project_grade_0_train, \n",
        "                       project_grade_1_train, school_state_0_train, school_state_1_train, teacher_prefix_0_train, \n",
        "                       teacher_prefix_1_train, train_scaler_price, train_prPos_norm, train_essay_tfidf_w2v\n",
        "                      ))\n",
        "print(X_set2_train.shape, Y_train.shape)\n",
        "\n",
        "X_set2_test = []\n",
        "X_set2_test = hstack(( cat_0_test, cat_1_test, subcat_0_test, subcat_1_test, project_grade_0_test, \n",
        "                       project_grade_1_test, school_state_0_test, school_state_1_test, teacher_prefix_0_test, \n",
        "                       teacher_prefix_1_test, test_scaler_price, test_prPos_norm, test_essay_tfidf_w2v\n",
        "                      ))\n",
        "print(X_set2_test.shape, Y_test.shape)"
      ],
      "execution_count": 79,
      "outputs": [
        {
          "output_type": "stream",
          "text": [
            "(49000, 312) (49000,)\n",
            "(21000, 312) (21000,)\n"
          ],
          "name": "stdout"
        }
      ]
    },
    {
      "cell_type": "markdown",
      "metadata": {
        "id": "J8yKlPVXM15F"
      },
      "source": [
        "## Applying Light GBM on Set 1"
      ]
    },
    {
      "cell_type": "code",
      "metadata": {
        "id": "s47aTn_ZXZvV"
      },
      "source": [
        "def pred_prob(clf, data): \n",
        "    y_pred = []\n",
        "    y_pred = clf.predict_proba(data)[:,1]\n",
        "    return y_pred"
      ],
      "execution_count": 56,
      "outputs": []
    },
    {
      "cell_type": "code",
      "metadata": {
        "colab": {
          "base_uri": "https://localhost:8080/"
        },
        "id": "Pi_vANDOM15F",
        "outputId": "368649c0-cf1f-42d1-f133-1ad46a1810c6"
      },
      "source": [
        "from sklearn.ensemble import GradientBoostingClassifier\n",
        "import lightgbm as lgb\n",
        "from sklearn.metrics import roc_auc_score\n",
        "import math\n",
        "import matplotlib.pyplot as plt\n",
        "\n",
        "param_grid = {\n",
        "    'n_estimators' : [10, 50, 100, 150, 300, 400, 500, 700, 800, 1000],\n",
        "    'max_depth' : [2, 3, 4, 5]\n",
        "}\n",
        "\n",
        "estimator = lgbm.LGBMClassifier(boosting_type='gbdt', class_weight='balanced')\n",
        "\n",
        "model = GridSearchCV(estimator, param_grid, cv=3, scoring='roc_auc', return_train_score=True)\n",
        "lgbmodel = model.fit(X_set1_train,Y_train)\n",
        "\n",
        "print(lgbmodel.best_score_)\n",
        "print(lgbmodel.best_estimator_)\n",
        "print(lgbmodel.best_params_)"
      ],
      "execution_count": 57,
      "outputs": [
        {
          "output_type": "stream",
          "text": [
            "0.7227332761392923\n",
            "LGBMClassifier(boosting_type='gbdt', class_weight='balanced',\n",
            "               colsample_bytree=1.0, importance_type='split', learning_rate=0.1,\n",
            "               max_depth=2, min_child_samples=20, min_child_weight=0.001,\n",
            "               min_split_gain=0.0, n_estimators=500, n_jobs=-1, num_leaves=31,\n",
            "               objective=None, random_state=None, reg_alpha=0.0, reg_lambda=0.0,\n",
            "               silent=True, subsample=1.0, subsample_for_bin=200000,\n",
            "               subsample_freq=0)\n",
            "{'max_depth': 2, 'n_estimators': 500}\n"
          ],
          "name": "stdout"
        }
      ]
    },
    {
      "cell_type": "code",
      "metadata": {
        "colab": {
          "base_uri": "https://localhost:8080/"
        },
        "id": "YkuTKFQlhJhg",
        "outputId": "b76e064c-5e5b-4ef0-9354-c78aae1f2864"
      },
      "source": [
        "print('Best score: ',lgbmodel.best_score_)\n",
        "print('k value with best score: ',lgbmodel.best_params_)\n",
        "print('='*75)\n",
        "print('Train AUC scores')\n",
        "print(lgbmodel.cv_results_['mean_train_score'])\n",
        "print('CV AUC scores')\n",
        "print(model.cv_results_['mean_test_score'])"
      ],
      "execution_count": 58,
      "outputs": [
        {
          "output_type": "stream",
          "text": [
            "Best score:  0.7227332761392923\n",
            "k value with best score:  {'max_depth': 2, 'n_estimators': 500}\n",
            "===========================================================================\n",
            "Train AUC scores\n",
            "[0.65683266 0.71196952 0.741022   0.76005075 0.79797237 0.81520867\n",
            " 0.83048925 0.85501864 0.8653034  0.88310356 0.6785217  0.74562877\n",
            " 0.78253806 0.80644848 0.85163754 0.87187455 0.88883935 0.91561997\n",
            " 0.92590974 0.94220606 0.7057282  0.78056101 0.82195917 0.847986\n",
            " 0.89401615 0.91465785 0.93141282 0.95518283 0.96325492 0.97551731\n",
            " 0.73325812 0.81762279 0.86008499 0.88509731 0.92800521 0.94645634\n",
            " 0.95999801 0.97677397 0.98244607 0.99005004]\n",
            "CV AUC scores\n",
            "[0.64569567 0.6897847  0.70592944 0.71302925 0.72064769 0.72176864\n",
            " 0.72273328 0.72266778 0.72212919 0.7209802  0.65981149 0.69939986\n",
            " 0.71393802 0.71843418 0.72221913 0.7222502  0.72059244 0.71923611\n",
            " 0.71802178 0.71617066 0.67381368 0.70752803 0.71757999 0.72000114\n",
            " 0.72153793 0.72024526 0.71835955 0.71498519 0.71421371 0.71105858\n",
            " 0.67826639 0.71109641 0.71922954 0.72030308 0.7200756  0.71826616\n",
            " 0.71544873 0.71230528 0.71075968 0.70720168]\n"
          ],
          "name": "stdout"
        }
      ]
    },
    {
      "cell_type": "code",
      "metadata": {
        "id": "k9spSfawk2kZ",
        "colab": {
          "base_uri": "https://localhost:8080/",
          "height": 459
        },
        "outputId": "954b483c-c726-45e2-dd33-9f41eed85c1b"
      },
      "source": [
        "import seaborn as sns\n",
        "max_scores1 = pd.DataFrame(model.cv_results_).groupby(['param_n_estimators', 'param_max_depth']).max().unstack()[['mean_test_score', 'mean_train_score']]\n",
        "fig, ax = plt.subplots(1,2, figsize=(20,7))\n",
        "sns.heatmap(max_scores1.mean_train_score, annot = True, fmt='.4g', ax=ax[0])\n",
        "sns.heatmap(max_scores1.mean_test_score, annot = True, fmt='.4g', ax=ax[1])\n",
        "ax[0].set_title('Train Set')\n",
        "ax[1].set_title('CV Set')\n",
        "plt.show()"
      ],
      "execution_count": 59,
      "outputs": [
        {
          "output_type": "display_data",
          "data": {
            "image/png": "[encoded data removed]",
            "text/plain": [
              "<Figure size 1440x504 with 4 Axes>"
            ]
          },
          "metadata": {
            "tags": [],
            "needs_background": "light"
          }
        }
      ]
    },
    {
      "cell_type": "code",
      "metadata": {
        "id": "IpS2msK1lXD6",
        "colab": {
          "base_uri": "https://localhost:8080/",
          "height": 281
        },
        "outputId": "4c5c387d-7885-4569-c3af-4fac44ff2048"
      },
      "source": [
        "from sklearn.metrics import roc_curve, auc\n",
        "\n",
        "gbdt = lgb.LGBMClassifier(boosting_type='gbdt', class_weight='balanced', max_depth = 2, n_estimators = 500)\n",
        "gbdt.fit(X_set1_train,Y_train)\n",
        "    \n",
        "y_train_pred = pred_prob(gbdt,X_set1_train)\n",
        "y_test_pred = pred_prob(gbdt,X_set1_test)\n",
        "    \n",
        "train_fpr, train_tpr, tr_thresholds = roc_curve(Y_train, y_train_pred)\n",
        "test_fpr, test_tpr, te_thresholds = roc_curve(Y_test, y_test_pred)\n",
        "\n",
        "plt.close\n",
        "plt.plot(train_fpr, train_tpr, label=\"train AUC =\"+str(auc(train_fpr, train_tpr)))\n",
        "plt.plot(test_fpr, test_tpr, label=\"test AUC =\"+str(auc(test_fpr, test_tpr)))\n",
        "auc1 = auc(test_fpr, test_tpr)\n",
        "plt.legend()\n",
        "# plt.xlabel(\"Lambda Inverse: hyperparameter\")\n",
        "plt.ylabel(\"AUC\")\n",
        "plt.title(\"Hyperparameter v/s AUC\")\n",
        "plt.grid()\n",
        "plt.show()"
      ],
      "execution_count": 75,
      "outputs": [
        {
          "output_type": "display_data",
          "data": {
            "image/png": "[encoded data removed]",
            "text/plain": [
              "<Figure size 432x288 with 1 Axes>"
            ]
          },
          "metadata": {
            "tags": [],
            "needs_background": "light"
          }
        }
      ]
    },
    {
      "cell_type": "code",
      "metadata": {
        "id": "zKd1Jt8PmJx0"
      },
      "source": [
        "def find_best_threshold(threshould, fpr, tpr):\n",
        "    t = threshould[np.argmax(tpr*(1-fpr))]\n",
        "    # (tpr*(1-fpr)) will be maximum if your fpr is very low and tpr is very high\n",
        "    print(\"the maximum value of tpr*(1-fpr)\", max(tpr*(1-fpr)), \"for threshold\", np.round(t,3)) \n",
        "    return t\n",
        "\n",
        "\n",
        "def predict_with_best_t(proba, threshould):\n",
        "    predictions = []\n",
        "    for i in proba:\n",
        "        if i>=threshould:\n",
        "            predictions.append(1)\n",
        "        else:\n",
        "            predictions.append(0)\n",
        "    return predictions"
      ],
      "execution_count": 76,
      "outputs": []
    },
    {
      "cell_type": "code",
      "metadata": {
        "id": "NIaiqwWKnQ1F",
        "colab": {
          "base_uri": "https://localhost:8080/"
        },
        "outputId": "d5f69903-0302-4a69-a892-66ca8d4e46f0"
      },
      "source": [
        "import numpy as np\n",
        "print(\"=\"*100)\n",
        "from sklearn.metrics import confusion_matrix\n",
        "best_t1 = find_best_threshold(tr_thresholds, train_fpr, train_tpr)\n",
        "print(\"Train confusion matrix\")\n",
        "print(confusion_matrix(Y_train, predict_with_best_t(y_train_pred, best_t1)))"
      ],
      "execution_count": 77,
      "outputs": [
        {
          "output_type": "stream",
          "text": [
            "====================================================================================================\n",
            "the maximum value of tpr*(1-fpr) 0.5365750366821697 for threshold 0.5\n",
            "Train confusion matrix\n",
            "[[ 5725  1848]\n",
            " [12023 29404]]\n"
          ],
          "name": "stdout"
        }
      ]
    },
    {
      "cell_type": "code",
      "metadata": {
        "id": "5340c7A0nUAS",
        "colab": {
          "base_uri": "https://localhost:8080/",
          "height": 295
        },
        "outputId": "ea28e4c5-3c2a-447d-9802-3568f2c4a861"
      },
      "source": [
        "import seaborn as sns\n",
        "heatmap_train = sns.heatmap(confusion_matrix(Y_test, predict_with_best_t(y_test_pred, best_t1)), annot=True, fmt=\"d\")\n",
        "plt.title(\"Test set confusion matrix\")\n",
        "plt.xlabel(\"Actual\")\n",
        "plt.ylabel(\"Predicted\")\n",
        "plt.show()"
      ],
      "execution_count": 78,
      "outputs": [
        {
          "output_type": "display_data",
          "data": {
            "image/png": "[encoded data removed]",
            "text/plain": [
              "<Figure size 432x288 with 2 Axes>"
            ]
          },
          "metadata": {
            "tags": [],
            "needs_background": "light"
          }
        }
      ]
    },
    {
      "cell_type": "markdown",
      "metadata": {
        "id": "yqJg7aoLaUoa"
      },
      "source": [
        "## Applying Light GBM on Set 2:"
      ]
    },
    {
      "cell_type": "code",
      "metadata": {
        "colab": {
          "base_uri": "https://localhost:8080/"
        },
        "id": "SNZCEVQ3aAnx",
        "outputId": "a93b93b2-75f5-4072-fb54-15432b272076"
      },
      "source": [
        "param_grid = {\n",
        "    'n_estimators' : [10, 50, 100, 150, 300, 400, 500, 700, 800, 1000],\n",
        "    'max_depth' : [2, 3, 4, 5]\n",
        "}\n",
        "\n",
        "estimator = lgbm.LGBMClassifier(boosting_type='gbdt', class_weight='balanced')\n",
        "\n",
        "model2 = GridSearchCV(estimator, param_grid, cv=3, scoring='roc_auc', return_train_score=True)\n",
        "lgbmodel2 = model2.fit(X_set2_train,Y_train)\n",
        "\n",
        "print(lgbmodel2.best_score_)\n",
        "print(lgbmodel2.best_estimator_)\n",
        "print(lgbmodel2.best_params_)"
      ],
      "execution_count": 82,
      "outputs": [
        {
          "output_type": "stream",
          "text": [
            "0.7036587834858277\n",
            "LGBMClassifier(boosting_type='gbdt', class_weight='balanced',\n",
            "               colsample_bytree=1.0, importance_type='split', learning_rate=0.1,\n",
            "               max_depth=2, min_child_samples=20, min_child_weight=0.001,\n",
            "               min_split_gain=0.0, n_estimators=300, n_jobs=-1, num_leaves=31,\n",
            "               objective=None, random_state=None, reg_alpha=0.0, reg_lambda=0.0,\n",
            "               silent=True, subsample=1.0, subsample_for_bin=200000,\n",
            "               subsample_freq=0)\n",
            "{'max_depth': 2, 'n_estimators': 300}\n"
          ],
          "name": "stdout"
        }
      ]
    },
    {
      "cell_type": "code",
      "metadata": {
        "colab": {
          "base_uri": "https://localhost:8080/"
        },
        "id": "pfeFNYx3bKz5",
        "outputId": "7632c4d4-0a70-48b1-ffea-d7ff10fb14c4"
      },
      "source": [
        "print('Best score: ',lgbmodel2.best_score_)\n",
        "print('k value with best score: ',lgbmodel2.best_params_)\n",
        "print('='*75)\n",
        "print('Train AUC scores')\n",
        "print(lgbmodel2.cv_results_['mean_train_score'])\n",
        "print('CV AUC scores')\n",
        "print(model2.cv_results_['mean_test_score'])"
      ],
      "execution_count": 83,
      "outputs": [
        {
          "output_type": "stream",
          "text": [
            "Best score:  0.7036587834858277\n",
            "k value with best score:  {'max_depth': 2, 'n_estimators': 300}\n",
            "===========================================================================\n",
            "Train AUC scores\n",
            "[0.67278375 0.71536834 0.73674844 0.75058539 0.781467   0.79719345\n",
            " 0.81102825 0.834769   0.84475207 0.86234201 0.69052642 0.74736574\n",
            " 0.77960109 0.80478276 0.85832978 0.88422111 0.90491607 0.93589787\n",
            " 0.94701704 0.96402749 0.71606113 0.78920391 0.8376236  0.87230346\n",
            " 0.93718711 0.96169603 0.97628475 0.99148326 0.99499194 0.99827112\n",
            " 0.75262122 0.84625582 0.90690498 0.94350073 0.98786052 0.99585509\n",
            " 0.99867125 0.99986553 0.9999502  0.99998854]\n",
            "CV AUC scores\n",
            "[0.65377319 0.68591784 0.6962636  0.7002652  0.70365878 0.70345054\n",
            " 0.70284502 0.70260259 0.7020297  0.70101712 0.66469519 0.69417252\n",
            " 0.70053088 0.70275296 0.70167952 0.70041    0.69937222 0.69671344\n",
            " 0.69558115 0.69333404 0.67109518 0.69823526 0.70202655 0.70205528\n",
            " 0.69839723 0.69532015 0.69274054 0.68937958 0.68773764 0.68496762\n",
            " 0.67762783 0.69888261 0.6993735  0.6971875  0.68978702 0.6871449\n",
            " 0.68498453 0.68126341 0.68005589 0.67917388]\n"
          ],
          "name": "stdout"
        }
      ]
    },
    {
      "cell_type": "code",
      "metadata": {
        "colab": {
          "base_uri": "https://localhost:8080/",
          "height": 459
        },
        "id": "sEuD4ulHbNya",
        "outputId": "da8999c4-f3a2-41b0-f047-8c4e8e4f6ec3"
      },
      "source": [
        "import seaborn as sns\n",
        "max_scores2 = pd.DataFrame(model.cv_results_).groupby(['param_n_estimators', 'param_max_depth']).max().unstack()[['mean_test_score', 'mean_train_score']]\n",
        "fig, ax = plt.subplots(1,2, figsize=(20,7))\n",
        "sns.heatmap(max_scores2.mean_train_score, annot = True, fmt='.4g', ax=ax[0])\n",
        "sns.heatmap(max_scores2.mean_test_score, annot = True, fmt='.4g', ax=ax[1])\n",
        "ax[0].set_title('Train Set')\n",
        "ax[1].set_title('CV Set')\n",
        "plt.show()"
      ],
      "execution_count": 84,
      "outputs": [
        {
          "output_type": "display_data",
          "data": {
            "image/png": "[encoded data removed]",
            "text/plain": [
              "<Figure size 1440x504 with 4 Axes>"
            ]
          },
          "metadata": {
            "tags": [],
            "needs_background": "light"
          }
        }
      ]
    },
    {
      "cell_type": "code",
      "metadata": {
        "colab": {
          "base_uri": "https://localhost:8080/",
          "height": 281
        },
        "id": "ZVhAwwI_blgJ",
        "outputId": "b1d04510-48a9-4f54-b36e-d8eca17c6873"
      },
      "source": [
        "from sklearn.metrics import roc_curve, auc\n",
        "\n",
        "gbdt2 = lgb.LGBMClassifier(boosting_type='gbdt', class_weight='balanced', max_depth = 2, n_estimators = 300)\n",
        "gbdt2.fit(X_set2_train,Y_train)\n",
        "    \n",
        "y_train_pred = pred_prob(gbdt2,X_set2_train)\n",
        "y_test_pred = pred_prob(gbdt2,X_set2_test)\n",
        "    \n",
        "train_fpr, train_tpr, tr_thresholds = roc_curve(Y_train, y_train_pred)\n",
        "test_fpr, test_tpr, te_thresholds = roc_curve(Y_test, y_test_pred)\n",
        "\n",
        "plt.close\n",
        "plt.plot(train_fpr, train_tpr, label=\"train AUC =\"+str(auc(train_fpr, train_tpr)))\n",
        "plt.plot(test_fpr, test_tpr, label=\"test AUC =\"+str(auc(test_fpr, test_tpr)))\n",
        "auc2 = auc(test_fpr, test_tpr)\n",
        "plt.legend()\n",
        "# plt.xlabel(\"Lambda Inverse: hyperparameter\")\n",
        "plt.ylabel(\"AUC\")\n",
        "plt.title(\"Hyperparameter v/s AUC\")\n",
        "plt.grid()\n",
        "plt.show()"
      ],
      "execution_count": 85,
      "outputs": [
        {
          "output_type": "display_data",
          "data": {
            "image/png": "[encoded data removed]",
            "text/plain": [
              "<Figure size 432x288 with 1 Axes>"
            ]
          },
          "metadata": {
            "tags": [],
            "needs_background": "light"
          }
        }
      ]
    },
    {
      "cell_type": "code",
      "metadata": {
        "colab": {
          "base_uri": "https://localhost:8080/"
        },
        "id": "l3dpUopPbrZE",
        "outputId": "1df974ed-3dbf-47eb-8d61-41e256075000"
      },
      "source": [
        "import numpy as np\n",
        "print(\"=\"*100)\n",
        "from sklearn.metrics import confusion_matrix\n",
        "best_t2 = find_best_threshold(tr_thresholds, train_fpr, train_tpr)\n",
        "print(\"Train confusion matrix\")\n",
        "print(confusion_matrix(Y_train, predict_with_best_t(y_train_pred, best_t2)))"
      ],
      "execution_count": 86,
      "outputs": [
        {
          "output_type": "stream",
          "text": [
            "====================================================================================================\n",
            "the maximum value of tpr*(1-fpr) 0.48607459006888193 for threshold 0.497\n",
            "Train confusion matrix\n",
            "[[ 5343  2230]\n",
            " [12886 28541]]\n"
          ],
          "name": "stdout"
        }
      ]
    },
    {
      "cell_type": "code",
      "metadata": {
        "colab": {
          "base_uri": "https://localhost:8080/",
          "height": 295
        },
        "id": "bAa5rALtbt-h",
        "outputId": "2fd8b43e-797a-44ba-c950-1b1f335cc0fb"
      },
      "source": [
        "import seaborn as sns\n",
        "heatmap_train = sns.heatmap(confusion_matrix(Y_test, predict_with_best_t(y_test_pred, best_t2)), annot=True, fmt=\"d\")\n",
        "plt.title(\"Test set confusion matrix\")\n",
        "plt.xlabel(\"Actual\")\n",
        "plt.ylabel(\"Predicted\")\n",
        "plt.show()"
      ],
      "execution_count": 87,
      "outputs": [
        {
          "output_type": "display_data",
          "data": {
            "image/png": "[encoded data removed]",
            "text/plain": [
              "<Figure size 432x288 with 2 Axes>"
            ]
          },
          "metadata": {
            "tags": [],
            "needs_background": "light"
          }
        }
      ]
    },
    {
      "cell_type": "markdown",
      "metadata": {
        "id": "YhFN-lDWsc4G"
      },
      "source": [
        "<h1>3. Summary</h1>"
      ]
    },
    {
      "cell_type": "code",
      "metadata": {
        "colab": {
          "base_uri": "https://localhost:8080/"
        },
        "id": "ZXPLUnmjBUfn",
        "outputId": "4d3910be-db63-4adf-f0d0-065f334291ef"
      },
      "source": [
        "from prettytable import PrettyTable\n",
        "x = PrettyTable()\n",
        "x.field_names = [\"Vectorizer\", \"Model\", \"Max Depth\", \"No. Of Base Models\", \"Test AUC\"]\n",
        "\n",
        "x.add_row([\"TFIDF\", \"LightGBM GBDT\", 2, 500, auc1])\n",
        "x.add_row([\" \", \" \", \" \", \" \", \" \"])\n",
        "x.add_row([\"TFIDF W2V\", \"LightGBm GBDT\", 2, 300, auc2])\n",
        "\n",
        "print(x)"
      ],
      "execution_count": 88,
      "outputs": [
        {
          "output_type": "stream",
          "text": [
            "+------------+---------------+-----------+--------------------+--------------------+\n",
            "| Vectorizer |     Model     | Max Depth | No. Of Base Models |      Test AUC      |\n",
            "+------------+---------------+-----------+--------------------+--------------------+\n",
            "|   TFIDF    | LightGBM GBDT |     2     |        500         | 0.7351181271202519 |\n",
            "|            |               |           |                    |                    |\n",
            "| TFIDF W2V  | LightGBm GBDT |     2     |        300         | 0.7072188846545702 |\n",
            "+------------+---------------+-----------+--------------------+--------------------+\n"
          ],
          "name": "stdout"
        }
      ]
    }
  ]
}