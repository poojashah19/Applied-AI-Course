{
  "nbformat": 4,
  "nbformat_minor": 0,
  "metadata": {
    "colab": {
      "name": "SQL_sample_queries.ipynb",
      "provenance": [],
      "collapsed_sections": []
    },
    "kernelspec": {
      "display_name": "Python 3",
      "language": "python",
      "name": "python3"
    },
    "language_info": {
      "codemirror_mode": {
        "name": "ipython",
        "version": 3
      },
      "file_extension": ".py",
      "mimetype": "text/x-python",
      "name": "python",
      "nbconvert_exporter": "python",
      "pygments_lexer": "ipython3",
      "version": "3.8.5"
    }
  },
  "cells": [
    {
      "cell_type": "markdown",
      "metadata": {
        "id": "hmzI5oZ6E_Hp"
      },
      "source": [
        "# SQL Assignment"
      ]
    },
    {
      "cell_type": "code",
      "metadata": {
        "id": "wso5pGwnE_Ht"
      },
      "source": [
        "import pandas as pd\n",
        "import sqlite3\n",
        "\n",
        "from IPython.display import display, HTML"
      ],
      "execution_count": 1,
      "outputs": []
    },
    {
      "cell_type": "code",
      "metadata": {
        "id": "uMYMAPLm23sp"
      },
      "source": [
        "# Note that this is not the same db we have used in course videos, please download from this link\n",
        "# https://drive.google.com/file/d/1O-1-L1DdNxEK6O6nG2jS31MbrMh-OnXM/view?usp=sharing"
      ],
      "execution_count": 2,
      "outputs": []
    },
    {
      "cell_type": "code",
      "metadata": {
        "id": "xrUl9ShkE_H0"
      },
      "source": [
        "conn = sqlite3.connect(\"/content/Db-IMDB-Assignment.db\")"
      ],
      "execution_count": 3,
      "outputs": []
    },
    {
      "cell_type": "markdown",
      "metadata": {
        "id": "Z_ADQl2BE_H6"
      },
      "source": [
        "#### Overview of all tables"
      ]
    },
    {
      "cell_type": "code",
      "metadata": {
        "id": "7ZfheusYE_H7",
        "scrolled": true
      },
      "source": [
        "tables = pd.read_sql_query(\"SELECT NAME AS 'Table_Name' FROM sqlite_master WHERE type='table'\",conn)\n",
        "tables = tables[\"Table_Name\"].values.tolist()"
      ],
      "execution_count": 4,
      "outputs": []
    },
    {
      "cell_type": "code",
      "metadata": {
        "colab": {
          "base_uri": "https://localhost:8080/",
          "height": 1000
        },
        "id": "f3zLh5FGE_H_",
        "scrolled": true,
        "outputId": "f740c769-94cd-443b-a6b7-55376c9ece15"
      },
      "source": [
        "for table in tables:\n",
        "    query = \"PRAGMA TABLE_INFO({})\".format(table)\n",
        "    schema = pd.read_sql_query(query,conn)\n",
        "    print(\"Schema of\",table)\n",
        "    display(schema)\n",
        "    print(\"-\"*100)\n",
        "    print(\"\\n\")"
      ],
      "execution_count": 5,
      "outputs": [
        {
          "output_type": "stream",
          "text": [
            "Schema of Movie\n"
          ],
          "name": "stdout"
        },
        {
          "output_type": "display_data",
          "data": {
            "text/html": [
              "<div>\n",
              "<style scoped>\n",
              "    .dataframe tbody tr th:only-of-type {\n",
              "        vertical-align: middle;\n",
              "    }\n",
              "\n",
              "    .dataframe tbody tr th {\n",
              "        vertical-align: top;\n",
              "    }\n",
              "\n",
              "    .dataframe thead th {\n",
              "        text-align: right;\n",
              "    }\n",
              "</style>\n",
              "<table border=\"1\" class=\"dataframe\">\n",
              "  <thead>\n",
              "    <tr style=\"text-align: right;\">\n",
              "      <th></th>\n",
              "      <th>cid</th>\n",
              "      <th>name</th>\n",
              "      <th>type</th>\n",
              "      <th>notnull</th>\n",
              "      <th>dflt_value</th>\n",
              "      <th>pk</th>\n",
              "    </tr>\n",
              "  </thead>\n",
              "  <tbody>\n",
              "    <tr>\n",
              "      <th>0</th>\n",
              "      <td>0</td>\n",
              "      <td>index</td>\n",
              "      <td>INTEGER</td>\n",
              "      <td>0</td>\n",
              "      <td>None</td>\n",
              "      <td>0</td>\n",
              "    </tr>\n",
              "    <tr>\n",
              "      <th>1</th>\n",
              "      <td>1</td>\n",
              "      <td>MID</td>\n",
              "      <td>TEXT</td>\n",
              "      <td>0</td>\n",
              "      <td>None</td>\n",
              "      <td>0</td>\n",
              "    </tr>\n",
              "    <tr>\n",
              "      <th>2</th>\n",
              "      <td>2</td>\n",
              "      <td>title</td>\n",
              "      <td>TEXT</td>\n",
              "      <td>0</td>\n",
              "      <td>None</td>\n",
              "      <td>0</td>\n",
              "    </tr>\n",
              "    <tr>\n",
              "      <th>3</th>\n",
              "      <td>3</td>\n",
              "      <td>year</td>\n",
              "      <td>TEXT</td>\n",
              "      <td>0</td>\n",
              "      <td>None</td>\n",
              "      <td>0</td>\n",
              "    </tr>\n",
              "    <tr>\n",
              "      <th>4</th>\n",
              "      <td>4</td>\n",
              "      <td>rating</td>\n",
              "      <td>REAL</td>\n",
              "      <td>0</td>\n",
              "      <td>None</td>\n",
              "      <td>0</td>\n",
              "    </tr>\n",
              "    <tr>\n",
              "      <th>5</th>\n",
              "      <td>5</td>\n",
              "      <td>num_votes</td>\n",
              "      <td>INTEGER</td>\n",
              "      <td>0</td>\n",
              "      <td>None</td>\n",
              "      <td>0</td>\n",
              "    </tr>\n",
              "  </tbody>\n",
              "</table>\n",
              "</div>"
            ],
            "text/plain": [
              "   cid       name     type  notnull dflt_value  pk\n",
              "0    0      index  INTEGER        0       None   0\n",
              "1    1        MID     TEXT        0       None   0\n",
              "2    2      title     TEXT        0       None   0\n",
              "3    3       year     TEXT        0       None   0\n",
              "4    4     rating     REAL        0       None   0\n",
              "5    5  num_votes  INTEGER        0       None   0"
            ]
          },
          "metadata": {
            "tags": []
          }
        },
        {
          "output_type": "stream",
          "text": [
            "----------------------------------------------------------------------------------------------------\n",
            "\n",
            "\n",
            "Schema of Genre\n"
          ],
          "name": "stdout"
        },
        {
          "output_type": "display_data",
          "data": {
            "text/html": [
              "<div>\n",
              "<style scoped>\n",
              "    .dataframe tbody tr th:only-of-type {\n",
              "        vertical-align: middle;\n",
              "    }\n",
              "\n",
              "    .dataframe tbody tr th {\n",
              "        vertical-align: top;\n",
              "    }\n",
              "\n",
              "    .dataframe thead th {\n",
              "        text-align: right;\n",
              "    }\n",
              "</style>\n",
              "<table border=\"1\" class=\"dataframe\">\n",
              "  <thead>\n",
              "    <tr style=\"text-align: right;\">\n",
              "      <th></th>\n",
              "      <th>cid</th>\n",
              "      <th>name</th>\n",
              "      <th>type</th>\n",
              "      <th>notnull</th>\n",
              "      <th>dflt_value</th>\n",
              "      <th>pk</th>\n",
              "    </tr>\n",
              "  </thead>\n",
              "  <tbody>\n",
              "    <tr>\n",
              "      <th>0</th>\n",
              "      <td>0</td>\n",
              "      <td>index</td>\n",
              "      <td>INTEGER</td>\n",
              "      <td>0</td>\n",
              "      <td>None</td>\n",
              "      <td>0</td>\n",
              "    </tr>\n",
              "    <tr>\n",
              "      <th>1</th>\n",
              "      <td>1</td>\n",
              "      <td>Name</td>\n",
              "      <td>TEXT</td>\n",
              "      <td>0</td>\n",
              "      <td>None</td>\n",
              "      <td>0</td>\n",
              "    </tr>\n",
              "    <tr>\n",
              "      <th>2</th>\n",
              "      <td>2</td>\n",
              "      <td>GID</td>\n",
              "      <td>INTEGER</td>\n",
              "      <td>0</td>\n",
              "      <td>None</td>\n",
              "      <td>0</td>\n",
              "    </tr>\n",
              "  </tbody>\n",
              "</table>\n",
              "</div>"
            ],
            "text/plain": [
              "   cid   name     type  notnull dflt_value  pk\n",
              "0    0  index  INTEGER        0       None   0\n",
              "1    1   Name     TEXT        0       None   0\n",
              "2    2    GID  INTEGER        0       None   0"
            ]
          },
          "metadata": {
            "tags": []
          }
        },
        {
          "output_type": "stream",
          "text": [
            "----------------------------------------------------------------------------------------------------\n",
            "\n",
            "\n",
            "Schema of Language\n"
          ],
          "name": "stdout"
        },
        {
          "output_type": "display_data",
          "data": {
            "text/html": [
              "<div>\n",
              "<style scoped>\n",
              "    .dataframe tbody tr th:only-of-type {\n",
              "        vertical-align: middle;\n",
              "    }\n",
              "\n",
              "    .dataframe tbody tr th {\n",
              "        vertical-align: top;\n",
              "    }\n",
              "\n",
              "    .dataframe thead th {\n",
              "        text-align: right;\n",
              "    }\n",
              "</style>\n",
              "<table border=\"1\" class=\"dataframe\">\n",
              "  <thead>\n",
              "    <tr style=\"text-align: right;\">\n",
              "      <th></th>\n",
              "      <th>cid</th>\n",
              "      <th>name</th>\n",
              "      <th>type</th>\n",
              "      <th>notnull</th>\n",
              "      <th>dflt_value</th>\n",
              "      <th>pk</th>\n",
              "    </tr>\n",
              "  </thead>\n",
              "  <tbody>\n",
              "    <tr>\n",
              "      <th>0</th>\n",
              "      <td>0</td>\n",
              "      <td>index</td>\n",
              "      <td>INTEGER</td>\n",
              "      <td>0</td>\n",
              "      <td>None</td>\n",
              "      <td>0</td>\n",
              "    </tr>\n",
              "    <tr>\n",
              "      <th>1</th>\n",
              "      <td>1</td>\n",
              "      <td>Name</td>\n",
              "      <td>TEXT</td>\n",
              "      <td>0</td>\n",
              "      <td>None</td>\n",
              "      <td>0</td>\n",
              "    </tr>\n",
              "    <tr>\n",
              "      <th>2</th>\n",
              "      <td>2</td>\n",
              "      <td>LAID</td>\n",
              "      <td>INTEGER</td>\n",
              "      <td>0</td>\n",
              "      <td>None</td>\n",
              "      <td>0</td>\n",
              "    </tr>\n",
              "  </tbody>\n",
              "</table>\n",
              "</div>"
            ],
            "text/plain": [
              "   cid   name     type  notnull dflt_value  pk\n",
              "0    0  index  INTEGER        0       None   0\n",
              "1    1   Name     TEXT        0       None   0\n",
              "2    2   LAID  INTEGER        0       None   0"
            ]
          },
          "metadata": {
            "tags": []
          }
        },
        {
          "output_type": "stream",
          "text": [
            "----------------------------------------------------------------------------------------------------\n",
            "\n",
            "\n",
            "Schema of Country\n"
          ],
          "name": "stdout"
        },
        {
          "output_type": "display_data",
          "data": {
            "text/html": [
              "<div>\n",
              "<style scoped>\n",
              "    .dataframe tbody tr th:only-of-type {\n",
              "        vertical-align: middle;\n",
              "    }\n",
              "\n",
              "    .dataframe tbody tr th {\n",
              "        vertical-align: top;\n",
              "    }\n",
              "\n",
              "    .dataframe thead th {\n",
              "        text-align: right;\n",
              "    }\n",
              "</style>\n",
              "<table border=\"1\" class=\"dataframe\">\n",
              "  <thead>\n",
              "    <tr style=\"text-align: right;\">\n",
              "      <th></th>\n",
              "      <th>cid</th>\n",
              "      <th>name</th>\n",
              "      <th>type</th>\n",
              "      <th>notnull</th>\n",
              "      <th>dflt_value</th>\n",
              "      <th>pk</th>\n",
              "    </tr>\n",
              "  </thead>\n",
              "  <tbody>\n",
              "    <tr>\n",
              "      <th>0</th>\n",
              "      <td>0</td>\n",
              "      <td>index</td>\n",
              "      <td>INTEGER</td>\n",
              "      <td>0</td>\n",
              "      <td>None</td>\n",
              "      <td>0</td>\n",
              "    </tr>\n",
              "    <tr>\n",
              "      <th>1</th>\n",
              "      <td>1</td>\n",
              "      <td>Name</td>\n",
              "      <td>TEXT</td>\n",
              "      <td>0</td>\n",
              "      <td>None</td>\n",
              "      <td>0</td>\n",
              "    </tr>\n",
              "    <tr>\n",
              "      <th>2</th>\n",
              "      <td>2</td>\n",
              "      <td>CID</td>\n",
              "      <td>INTEGER</td>\n",
              "      <td>0</td>\n",
              "      <td>None</td>\n",
              "      <td>0</td>\n",
              "    </tr>\n",
              "  </tbody>\n",
              "</table>\n",
              "</div>"
            ],
            "text/plain": [
              "   cid   name     type  notnull dflt_value  pk\n",
              "0    0  index  INTEGER        0       None   0\n",
              "1    1   Name     TEXT        0       None   0\n",
              "2    2    CID  INTEGER        0       None   0"
            ]
          },
          "metadata": {
            "tags": []
          }
        },
        {
          "output_type": "stream",
          "text": [
            "----------------------------------------------------------------------------------------------------\n",
            "\n",
            "\n",
            "Schema of Location\n"
          ],
          "name": "stdout"
        },
        {
          "output_type": "display_data",
          "data": {
            "text/html": [
              "<div>\n",
              "<style scoped>\n",
              "    .dataframe tbody tr th:only-of-type {\n",
              "        vertical-align: middle;\n",
              "    }\n",
              "\n",
              "    .dataframe tbody tr th {\n",
              "        vertical-align: top;\n",
              "    }\n",
              "\n",
              "    .dataframe thead th {\n",
              "        text-align: right;\n",
              "    }\n",
              "</style>\n",
              "<table border=\"1\" class=\"dataframe\">\n",
              "  <thead>\n",
              "    <tr style=\"text-align: right;\">\n",
              "      <th></th>\n",
              "      <th>cid</th>\n",
              "      <th>name</th>\n",
              "      <th>type</th>\n",
              "      <th>notnull</th>\n",
              "      <th>dflt_value</th>\n",
              "      <th>pk</th>\n",
              "    </tr>\n",
              "  </thead>\n",
              "  <tbody>\n",
              "    <tr>\n",
              "      <th>0</th>\n",
              "      <td>0</td>\n",
              "      <td>index</td>\n",
              "      <td>INTEGER</td>\n",
              "      <td>0</td>\n",
              "      <td>None</td>\n",
              "      <td>0</td>\n",
              "    </tr>\n",
              "    <tr>\n",
              "      <th>1</th>\n",
              "      <td>1</td>\n",
              "      <td>Name</td>\n",
              "      <td>TEXT</td>\n",
              "      <td>0</td>\n",
              "      <td>None</td>\n",
              "      <td>0</td>\n",
              "    </tr>\n",
              "    <tr>\n",
              "      <th>2</th>\n",
              "      <td>2</td>\n",
              "      <td>LID</td>\n",
              "      <td>INTEGER</td>\n",
              "      <td>0</td>\n",
              "      <td>None</td>\n",
              "      <td>0</td>\n",
              "    </tr>\n",
              "  </tbody>\n",
              "</table>\n",
              "</div>"
            ],
            "text/plain": [
              "   cid   name     type  notnull dflt_value  pk\n",
              "0    0  index  INTEGER        0       None   0\n",
              "1    1   Name     TEXT        0       None   0\n",
              "2    2    LID  INTEGER        0       None   0"
            ]
          },
          "metadata": {
            "tags": []
          }
        },
        {
          "output_type": "stream",
          "text": [
            "----------------------------------------------------------------------------------------------------\n",
            "\n",
            "\n",
            "Schema of M_Location\n"
          ],
          "name": "stdout"
        },
        {
          "output_type": "display_data",
          "data": {
            "text/html": [
              "<div>\n",
              "<style scoped>\n",
              "    .dataframe tbody tr th:only-of-type {\n",
              "        vertical-align: middle;\n",
              "    }\n",
              "\n",
              "    .dataframe tbody tr th {\n",
              "        vertical-align: top;\n",
              "    }\n",
              "\n",
              "    .dataframe thead th {\n",
              "        text-align: right;\n",
              "    }\n",
              "</style>\n",
              "<table border=\"1\" class=\"dataframe\">\n",
              "  <thead>\n",
              "    <tr style=\"text-align: right;\">\n",
              "      <th></th>\n",
              "      <th>cid</th>\n",
              "      <th>name</th>\n",
              "      <th>type</th>\n",
              "      <th>notnull</th>\n",
              "      <th>dflt_value</th>\n",
              "      <th>pk</th>\n",
              "    </tr>\n",
              "  </thead>\n",
              "  <tbody>\n",
              "    <tr>\n",
              "      <th>0</th>\n",
              "      <td>0</td>\n",
              "      <td>index</td>\n",
              "      <td>INTEGER</td>\n",
              "      <td>0</td>\n",
              "      <td>None</td>\n",
              "      <td>0</td>\n",
              "    </tr>\n",
              "    <tr>\n",
              "      <th>1</th>\n",
              "      <td>1</td>\n",
              "      <td>MID</td>\n",
              "      <td>TEXT</td>\n",
              "      <td>0</td>\n",
              "      <td>None</td>\n",
              "      <td>0</td>\n",
              "    </tr>\n",
              "    <tr>\n",
              "      <th>2</th>\n",
              "      <td>2</td>\n",
              "      <td>LID</td>\n",
              "      <td>REAL</td>\n",
              "      <td>0</td>\n",
              "      <td>None</td>\n",
              "      <td>0</td>\n",
              "    </tr>\n",
              "    <tr>\n",
              "      <th>3</th>\n",
              "      <td>3</td>\n",
              "      <td>ID</td>\n",
              "      <td>INTEGER</td>\n",
              "      <td>0</td>\n",
              "      <td>None</td>\n",
              "      <td>0</td>\n",
              "    </tr>\n",
              "  </tbody>\n",
              "</table>\n",
              "</div>"
            ],
            "text/plain": [
              "   cid   name     type  notnull dflt_value  pk\n",
              "0    0  index  INTEGER        0       None   0\n",
              "1    1    MID     TEXT        0       None   0\n",
              "2    2    LID     REAL        0       None   0\n",
              "3    3     ID  INTEGER        0       None   0"
            ]
          },
          "metadata": {
            "tags": []
          }
        },
        {
          "output_type": "stream",
          "text": [
            "----------------------------------------------------------------------------------------------------\n",
            "\n",
            "\n",
            "Schema of M_Country\n"
          ],
          "name": "stdout"
        },
        {
          "output_type": "display_data",
          "data": {
            "text/html": [
              "<div>\n",
              "<style scoped>\n",
              "    .dataframe tbody tr th:only-of-type {\n",
              "        vertical-align: middle;\n",
              "    }\n",
              "\n",
              "    .dataframe tbody tr th {\n",
              "        vertical-align: top;\n",
              "    }\n",
              "\n",
              "    .dataframe thead th {\n",
              "        text-align: right;\n",
              "    }\n",
              "</style>\n",
              "<table border=\"1\" class=\"dataframe\">\n",
              "  <thead>\n",
              "    <tr style=\"text-align: right;\">\n",
              "      <th></th>\n",
              "      <th>cid</th>\n",
              "      <th>name</th>\n",
              "      <th>type</th>\n",
              "      <th>notnull</th>\n",
              "      <th>dflt_value</th>\n",
              "      <th>pk</th>\n",
              "    </tr>\n",
              "  </thead>\n",
              "  <tbody>\n",
              "    <tr>\n",
              "      <th>0</th>\n",
              "      <td>0</td>\n",
              "      <td>index</td>\n",
              "      <td>INTEGER</td>\n",
              "      <td>0</td>\n",
              "      <td>None</td>\n",
              "      <td>0</td>\n",
              "    </tr>\n",
              "    <tr>\n",
              "      <th>1</th>\n",
              "      <td>1</td>\n",
              "      <td>MID</td>\n",
              "      <td>TEXT</td>\n",
              "      <td>0</td>\n",
              "      <td>None</td>\n",
              "      <td>0</td>\n",
              "    </tr>\n",
              "    <tr>\n",
              "      <th>2</th>\n",
              "      <td>2</td>\n",
              "      <td>CID</td>\n",
              "      <td>REAL</td>\n",
              "      <td>0</td>\n",
              "      <td>None</td>\n",
              "      <td>0</td>\n",
              "    </tr>\n",
              "    <tr>\n",
              "      <th>3</th>\n",
              "      <td>3</td>\n",
              "      <td>ID</td>\n",
              "      <td>INTEGER</td>\n",
              "      <td>0</td>\n",
              "      <td>None</td>\n",
              "      <td>0</td>\n",
              "    </tr>\n",
              "  </tbody>\n",
              "</table>\n",
              "</div>"
            ],
            "text/plain": [
              "   cid   name     type  notnull dflt_value  pk\n",
              "0    0  index  INTEGER        0       None   0\n",
              "1    1    MID     TEXT        0       None   0\n",
              "2    2    CID     REAL        0       None   0\n",
              "3    3     ID  INTEGER        0       None   0"
            ]
          },
          "metadata": {
            "tags": []
          }
        },
        {
          "output_type": "stream",
          "text": [
            "----------------------------------------------------------------------------------------------------\n",
            "\n",
            "\n",
            "Schema of M_Language\n"
          ],
          "name": "stdout"
        },
        {
          "output_type": "display_data",
          "data": {
            "text/html": [
              "<div>\n",
              "<style scoped>\n",
              "    .dataframe tbody tr th:only-of-type {\n",
              "        vertical-align: middle;\n",
              "    }\n",
              "\n",
              "    .dataframe tbody tr th {\n",
              "        vertical-align: top;\n",
              "    }\n",
              "\n",
              "    .dataframe thead th {\n",
              "        text-align: right;\n",
              "    }\n",
              "</style>\n",
              "<table border=\"1\" class=\"dataframe\">\n",
              "  <thead>\n",
              "    <tr style=\"text-align: right;\">\n",
              "      <th></th>\n",
              "      <th>cid</th>\n",
              "      <th>name</th>\n",
              "      <th>type</th>\n",
              "      <th>notnull</th>\n",
              "      <th>dflt_value</th>\n",
              "      <th>pk</th>\n",
              "    </tr>\n",
              "  </thead>\n",
              "  <tbody>\n",
              "    <tr>\n",
              "      <th>0</th>\n",
              "      <td>0</td>\n",
              "      <td>index</td>\n",
              "      <td>INTEGER</td>\n",
              "      <td>0</td>\n",
              "      <td>None</td>\n",
              "      <td>0</td>\n",
              "    </tr>\n",
              "    <tr>\n",
              "      <th>1</th>\n",
              "      <td>1</td>\n",
              "      <td>MID</td>\n",
              "      <td>TEXT</td>\n",
              "      <td>0</td>\n",
              "      <td>None</td>\n",
              "      <td>0</td>\n",
              "    </tr>\n",
              "    <tr>\n",
              "      <th>2</th>\n",
              "      <td>2</td>\n",
              "      <td>LAID</td>\n",
              "      <td>INTEGER</td>\n",
              "      <td>0</td>\n",
              "      <td>None</td>\n",
              "      <td>0</td>\n",
              "    </tr>\n",
              "    <tr>\n",
              "      <th>3</th>\n",
              "      <td>3</td>\n",
              "      <td>ID</td>\n",
              "      <td>INTEGER</td>\n",
              "      <td>0</td>\n",
              "      <td>None</td>\n",
              "      <td>0</td>\n",
              "    </tr>\n",
              "  </tbody>\n",
              "</table>\n",
              "</div>"
            ],
            "text/plain": [
              "   cid   name     type  notnull dflt_value  pk\n",
              "0    0  index  INTEGER        0       None   0\n",
              "1    1    MID     TEXT        0       None   0\n",
              "2    2   LAID  INTEGER        0       None   0\n",
              "3    3     ID  INTEGER        0       None   0"
            ]
          },
          "metadata": {
            "tags": []
          }
        },
        {
          "output_type": "stream",
          "text": [
            "----------------------------------------------------------------------------------------------------\n",
            "\n",
            "\n",
            "Schema of M_Genre\n"
          ],
          "name": "stdout"
        },
        {
          "output_type": "display_data",
          "data": {
            "text/html": [
              "<div>\n",
              "<style scoped>\n",
              "    .dataframe tbody tr th:only-of-type {\n",
              "        vertical-align: middle;\n",
              "    }\n",
              "\n",
              "    .dataframe tbody tr th {\n",
              "        vertical-align: top;\n",
              "    }\n",
              "\n",
              "    .dataframe thead th {\n",
              "        text-align: right;\n",
              "    }\n",
              "</style>\n",
              "<table border=\"1\" class=\"dataframe\">\n",
              "  <thead>\n",
              "    <tr style=\"text-align: right;\">\n",
              "      <th></th>\n",
              "      <th>cid</th>\n",
              "      <th>name</th>\n",
              "      <th>type</th>\n",
              "      <th>notnull</th>\n",
              "      <th>dflt_value</th>\n",
              "      <th>pk</th>\n",
              "    </tr>\n",
              "  </thead>\n",
              "  <tbody>\n",
              "    <tr>\n",
              "      <th>0</th>\n",
              "      <td>0</td>\n",
              "      <td>index</td>\n",
              "      <td>INTEGER</td>\n",
              "      <td>0</td>\n",
              "      <td>None</td>\n",
              "      <td>0</td>\n",
              "    </tr>\n",
              "    <tr>\n",
              "      <th>1</th>\n",
              "      <td>1</td>\n",
              "      <td>MID</td>\n",
              "      <td>TEXT</td>\n",
              "      <td>0</td>\n",
              "      <td>None</td>\n",
              "      <td>0</td>\n",
              "    </tr>\n",
              "    <tr>\n",
              "      <th>2</th>\n",
              "      <td>2</td>\n",
              "      <td>GID</td>\n",
              "      <td>INTEGER</td>\n",
              "      <td>0</td>\n",
              "      <td>None</td>\n",
              "      <td>0</td>\n",
              "    </tr>\n",
              "    <tr>\n",
              "      <th>3</th>\n",
              "      <td>3</td>\n",
              "      <td>ID</td>\n",
              "      <td>INTEGER</td>\n",
              "      <td>0</td>\n",
              "      <td>None</td>\n",
              "      <td>0</td>\n",
              "    </tr>\n",
              "  </tbody>\n",
              "</table>\n",
              "</div>"
            ],
            "text/plain": [
              "   cid   name     type  notnull dflt_value  pk\n",
              "0    0  index  INTEGER        0       None   0\n",
              "1    1    MID     TEXT        0       None   0\n",
              "2    2    GID  INTEGER        0       None   0\n",
              "3    3     ID  INTEGER        0       None   0"
            ]
          },
          "metadata": {
            "tags": []
          }
        },
        {
          "output_type": "stream",
          "text": [
            "----------------------------------------------------------------------------------------------------\n",
            "\n",
            "\n",
            "Schema of Person\n"
          ],
          "name": "stdout"
        },
        {
          "output_type": "display_data",
          "data": {
            "text/html": [
              "<div>\n",
              "<style scoped>\n",
              "    .dataframe tbody tr th:only-of-type {\n",
              "        vertical-align: middle;\n",
              "    }\n",
              "\n",
              "    .dataframe tbody tr th {\n",
              "        vertical-align: top;\n",
              "    }\n",
              "\n",
              "    .dataframe thead th {\n",
              "        text-align: right;\n",
              "    }\n",
              "</style>\n",
              "<table border=\"1\" class=\"dataframe\">\n",
              "  <thead>\n",
              "    <tr style=\"text-align: right;\">\n",
              "      <th></th>\n",
              "      <th>cid</th>\n",
              "      <th>name</th>\n",
              "      <th>type</th>\n",
              "      <th>notnull</th>\n",
              "      <th>dflt_value</th>\n",
              "      <th>pk</th>\n",
              "    </tr>\n",
              "  </thead>\n",
              "  <tbody>\n",
              "    <tr>\n",
              "      <th>0</th>\n",
              "      <td>0</td>\n",
              "      <td>index</td>\n",
              "      <td>INTEGER</td>\n",
              "      <td>0</td>\n",
              "      <td>None</td>\n",
              "      <td>0</td>\n",
              "    </tr>\n",
              "    <tr>\n",
              "      <th>1</th>\n",
              "      <td>1</td>\n",
              "      <td>PID</td>\n",
              "      <td>TEXT</td>\n",
              "      <td>0</td>\n",
              "      <td>None</td>\n",
              "      <td>0</td>\n",
              "    </tr>\n",
              "    <tr>\n",
              "      <th>2</th>\n",
              "      <td>2</td>\n",
              "      <td>Name</td>\n",
              "      <td>TEXT</td>\n",
              "      <td>0</td>\n",
              "      <td>None</td>\n",
              "      <td>0</td>\n",
              "    </tr>\n",
              "    <tr>\n",
              "      <th>3</th>\n",
              "      <td>3</td>\n",
              "      <td>Gender</td>\n",
              "      <td>TEXT</td>\n",
              "      <td>0</td>\n",
              "      <td>None</td>\n",
              "      <td>0</td>\n",
              "    </tr>\n",
              "  </tbody>\n",
              "</table>\n",
              "</div>"
            ],
            "text/plain": [
              "   cid    name     type  notnull dflt_value  pk\n",
              "0    0   index  INTEGER        0       None   0\n",
              "1    1     PID     TEXT        0       None   0\n",
              "2    2    Name     TEXT        0       None   0\n",
              "3    3  Gender     TEXT        0       None   0"
            ]
          },
          "metadata": {
            "tags": []
          }
        },
        {
          "output_type": "stream",
          "text": [
            "----------------------------------------------------------------------------------------------------\n",
            "\n",
            "\n",
            "Schema of M_Producer\n"
          ],
          "name": "stdout"
        },
        {
          "output_type": "display_data",
          "data": {
            "text/html": [
              "<div>\n",
              "<style scoped>\n",
              "    .dataframe tbody tr th:only-of-type {\n",
              "        vertical-align: middle;\n",
              "    }\n",
              "\n",
              "    .dataframe tbody tr th {\n",
              "        vertical-align: top;\n",
              "    }\n",
              "\n",
              "    .dataframe thead th {\n",
              "        text-align: right;\n",
              "    }\n",
              "</style>\n",
              "<table border=\"1\" class=\"dataframe\">\n",
              "  <thead>\n",
              "    <tr style=\"text-align: right;\">\n",
              "      <th></th>\n",
              "      <th>cid</th>\n",
              "      <th>name</th>\n",
              "      <th>type</th>\n",
              "      <th>notnull</th>\n",
              "      <th>dflt_value</th>\n",
              "      <th>pk</th>\n",
              "    </tr>\n",
              "  </thead>\n",
              "  <tbody>\n",
              "    <tr>\n",
              "      <th>0</th>\n",
              "      <td>0</td>\n",
              "      <td>index</td>\n",
              "      <td>INTEGER</td>\n",
              "      <td>0</td>\n",
              "      <td>None</td>\n",
              "      <td>0</td>\n",
              "    </tr>\n",
              "    <tr>\n",
              "      <th>1</th>\n",
              "      <td>1</td>\n",
              "      <td>MID</td>\n",
              "      <td>TEXT</td>\n",
              "      <td>0</td>\n",
              "      <td>None</td>\n",
              "      <td>0</td>\n",
              "    </tr>\n",
              "    <tr>\n",
              "      <th>2</th>\n",
              "      <td>2</td>\n",
              "      <td>PID</td>\n",
              "      <td>TEXT</td>\n",
              "      <td>0</td>\n",
              "      <td>None</td>\n",
              "      <td>0</td>\n",
              "    </tr>\n",
              "    <tr>\n",
              "      <th>3</th>\n",
              "      <td>3</td>\n",
              "      <td>ID</td>\n",
              "      <td>INTEGER</td>\n",
              "      <td>0</td>\n",
              "      <td>None</td>\n",
              "      <td>0</td>\n",
              "    </tr>\n",
              "  </tbody>\n",
              "</table>\n",
              "</div>"
            ],
            "text/plain": [
              "   cid   name     type  notnull dflt_value  pk\n",
              "0    0  index  INTEGER        0       None   0\n",
              "1    1    MID     TEXT        0       None   0\n",
              "2    2    PID     TEXT        0       None   0\n",
              "3    3     ID  INTEGER        0       None   0"
            ]
          },
          "metadata": {
            "tags": []
          }
        },
        {
          "output_type": "stream",
          "text": [
            "----------------------------------------------------------------------------------------------------\n",
            "\n",
            "\n",
            "Schema of M_Director\n"
          ],
          "name": "stdout"
        },
        {
          "output_type": "display_data",
          "data": {
            "text/html": [
              "<div>\n",
              "<style scoped>\n",
              "    .dataframe tbody tr th:only-of-type {\n",
              "        vertical-align: middle;\n",
              "    }\n",
              "\n",
              "    .dataframe tbody tr th {\n",
              "        vertical-align: top;\n",
              "    }\n",
              "\n",
              "    .dataframe thead th {\n",
              "        text-align: right;\n",
              "    }\n",
              "</style>\n",
              "<table border=\"1\" class=\"dataframe\">\n",
              "  <thead>\n",
              "    <tr style=\"text-align: right;\">\n",
              "      <th></th>\n",
              "      <th>cid</th>\n",
              "      <th>name</th>\n",
              "      <th>type</th>\n",
              "      <th>notnull</th>\n",
              "      <th>dflt_value</th>\n",
              "      <th>pk</th>\n",
              "    </tr>\n",
              "  </thead>\n",
              "  <tbody>\n",
              "    <tr>\n",
              "      <th>0</th>\n",
              "      <td>0</td>\n",
              "      <td>index</td>\n",
              "      <td>INTEGER</td>\n",
              "      <td>0</td>\n",
              "      <td>None</td>\n",
              "      <td>0</td>\n",
              "    </tr>\n",
              "    <tr>\n",
              "      <th>1</th>\n",
              "      <td>1</td>\n",
              "      <td>MID</td>\n",
              "      <td>TEXT</td>\n",
              "      <td>0</td>\n",
              "      <td>None</td>\n",
              "      <td>0</td>\n",
              "    </tr>\n",
              "    <tr>\n",
              "      <th>2</th>\n",
              "      <td>2</td>\n",
              "      <td>PID</td>\n",
              "      <td>TEXT</td>\n",
              "      <td>0</td>\n",
              "      <td>None</td>\n",
              "      <td>0</td>\n",
              "    </tr>\n",
              "    <tr>\n",
              "      <th>3</th>\n",
              "      <td>3</td>\n",
              "      <td>ID</td>\n",
              "      <td>INTEGER</td>\n",
              "      <td>0</td>\n",
              "      <td>None</td>\n",
              "      <td>0</td>\n",
              "    </tr>\n",
              "  </tbody>\n",
              "</table>\n",
              "</div>"
            ],
            "text/plain": [
              "   cid   name     type  notnull dflt_value  pk\n",
              "0    0  index  INTEGER        0       None   0\n",
              "1    1    MID     TEXT        0       None   0\n",
              "2    2    PID     TEXT        0       None   0\n",
              "3    3     ID  INTEGER        0       None   0"
            ]
          },
          "metadata": {
            "tags": []
          }
        },
        {
          "output_type": "stream",
          "text": [
            "----------------------------------------------------------------------------------------------------\n",
            "\n",
            "\n",
            "Schema of M_Cast\n"
          ],
          "name": "stdout"
        },
        {
          "output_type": "display_data",
          "data": {
            "text/html": [
              "<div>\n",
              "<style scoped>\n",
              "    .dataframe tbody tr th:only-of-type {\n",
              "        vertical-align: middle;\n",
              "    }\n",
              "\n",
              "    .dataframe tbody tr th {\n",
              "        vertical-align: top;\n",
              "    }\n",
              "\n",
              "    .dataframe thead th {\n",
              "        text-align: right;\n",
              "    }\n",
              "</style>\n",
              "<table border=\"1\" class=\"dataframe\">\n",
              "  <thead>\n",
              "    <tr style=\"text-align: right;\">\n",
              "      <th></th>\n",
              "      <th>cid</th>\n",
              "      <th>name</th>\n",
              "      <th>type</th>\n",
              "      <th>notnull</th>\n",
              "      <th>dflt_value</th>\n",
              "      <th>pk</th>\n",
              "    </tr>\n",
              "  </thead>\n",
              "  <tbody>\n",
              "    <tr>\n",
              "      <th>0</th>\n",
              "      <td>0</td>\n",
              "      <td>index</td>\n",
              "      <td>INTEGER</td>\n",
              "      <td>0</td>\n",
              "      <td>None</td>\n",
              "      <td>0</td>\n",
              "    </tr>\n",
              "    <tr>\n",
              "      <th>1</th>\n",
              "      <td>1</td>\n",
              "      <td>MID</td>\n",
              "      <td>TEXT</td>\n",
              "      <td>0</td>\n",
              "      <td>None</td>\n",
              "      <td>0</td>\n",
              "    </tr>\n",
              "    <tr>\n",
              "      <th>2</th>\n",
              "      <td>2</td>\n",
              "      <td>PID</td>\n",
              "      <td>TEXT</td>\n",
              "      <td>0</td>\n",
              "      <td>None</td>\n",
              "      <td>0</td>\n",
              "    </tr>\n",
              "    <tr>\n",
              "      <th>3</th>\n",
              "      <td>3</td>\n",
              "      <td>ID</td>\n",
              "      <td>INTEGER</td>\n",
              "      <td>0</td>\n",
              "      <td>None</td>\n",
              "      <td>0</td>\n",
              "    </tr>\n",
              "  </tbody>\n",
              "</table>\n",
              "</div>"
            ],
            "text/plain": [
              "   cid   name     type  notnull dflt_value  pk\n",
              "0    0  index  INTEGER        0       None   0\n",
              "1    1    MID     TEXT        0       None   0\n",
              "2    2    PID     TEXT        0       None   0\n",
              "3    3     ID  INTEGER        0       None   0"
            ]
          },
          "metadata": {
            "tags": []
          }
        },
        {
          "output_type": "stream",
          "text": [
            "----------------------------------------------------------------------------------------------------\n",
            "\n",
            "\n"
          ],
          "name": "stdout"
        }
      ]
    },
    {
      "cell_type": "markdown",
      "metadata": {
        "id": "O4Cj0Wdz23tA"
      },
      "source": [
        "## Useful tips:\n",
        "\n",
        "1. the year column in 'Movie' table, will have few chracters other than numbers which you need to be preprocessed, you need to get a substring of last 4 characters, its better if you convert it as int type, ex: CAST(SUBSTR(TRIM(m.year),-4) AS INTEGER)\n",
        "\n",
        "2. For almost all the TEXT columns we have show, please try to remove trailing spaces, you need to use TRIM() function\n",
        "\n",
        "3. When you are doing count(coulmn) it won't consider the \"NULL\" values, you might need to explore other alternatives like Count(*)"
      ]
    },
    {
      "cell_type": "markdown",
      "metadata": {
        "id": "jL9AmM3oE_IZ"
      },
      "source": [
        "## Q1 --- List all the directors who directed a 'Comedy' movie in a leap year. (You need to check that the genre is 'Comedy’ and year is a leap year) Your query should return director name, the movie name, and the year."
      ]
    },
    {
      "cell_type": "markdown",
      "metadata": {
        "id": "1jglmxDuE_Ib"
      },
      "source": [
        "<h4>To determine whether a year is a leap year, follow these steps:</h4>\n",
        "\n",
        "<ul>\n",
        "    <li><b>STEP-1:</b> If the year is evenly divisible by 4, go to step 2. Otherwise, go to step 5.</li>\n",
        "    <li><b>STEP-2:</b> If the year is evenly divisible by 100, go to step 3. Otherwise, go to step 4.</li>\n",
        "    <li><b>STEP-3:</b> If the year is evenly divisible by 400, go to step 4. Otherwise, go to step 5.</li>\n",
        "    <li><b>STEP-4:</b> The year is a leap year (it has 366 days).</li>\n",
        "    <li><b>STEP-5:</b> The year is not a leap year (it has 365 days).</li>\n",
        "</ul>\n",
        "\n",
        "Year 1900 is divisible by 4 and 100 but it is not divisible by 400, so it is not a leap year."
      ]
    },
    {
      "cell_type": "code",
      "metadata": {
        "colab": {
          "base_uri": "https://localhost:8080/"
        },
        "id": "s49kC7zxphXg",
        "outputId": "e90e540c-fb99-464f-f9de-8f649ffaef1f"
      },
      "source": [
        "cursor = conn.cursor()\n",
        "query1 = \"\"\" UPDATE Movie SET year = CAST(SUBSTR(TRIM(year),-4) AS INTEGER) \"\"\"\n",
        "cursor.execute(query1)"
      ],
      "execution_count": 6,
      "outputs": [
        {
          "output_type": "execute_result",
          "data": {
            "text/plain": [
              "<sqlite3.Cursor at 0x7f584e63d810>"
            ]
          },
          "metadata": {
            "tags": []
          },
          "execution_count": 6
        }
      ]
    },
    {
      "cell_type": "code",
      "metadata": {
        "colab": {
          "base_uri": "https://localhost:8080/"
        },
        "id": "yBo_pMrH23tD",
        "outputId": "33c205a5-9224-49d6-b150-e83ae6f32f01"
      },
      "source": [
        "%%time\n",
        "def grader_1(q1):\n",
        "    q1_results  = pd.read_sql_query(q1,conn)\n",
        "    print(q1_results.head(10))\n",
        "    assert (q1_results.shape == (232,3))\n",
        "\n",
        "query1 = \"\"\" select p.name, m.title, m.year from M_genre mg \n",
        "             inner join Movie m on m.MID = mg.MID\n",
        "             inner join Genre g on g.GID = mg.GID\n",
        "             inner join M_Director md on m.mid = md.mid\n",
        "             inner join Person p on p.pid = md.pid\n",
        "             where (m.year % 4 == 0 or (m.year % 100 == 0 and m.year % 400 == 0)) and g.name like '%Comedy%' \"\"\"\n",
        "grader_1(query1)"
      ],
      "execution_count": 7,
      "outputs": [
        {
          "output_type": "stream",
          "text": [
            "                Name                              title  year\n",
            "0       Milap Zaveri                         Mastizaade  2016\n",
            "1       Danny Leiner  Harold & Kumar Go to White Castle  2004\n",
            "2     Anurag Kashyap                 Gangs of Wasseypur  2012\n",
            "3       Frank Coraci        Around the World in 80 Days  2004\n",
            "4      Griffin Dunne             The Accidental Husband  2008\n",
            "5        Anurag Basu                             Barfi!  2012\n",
            "6    Gurinder Chadha                  Bride & Prejudice  2004\n",
            "7         Mike Judge    Beavis and Butt-Head Do America  1996\n",
            "8   Tarun Mansukhani                            Dostana  2008\n",
            "9       Shakun Batra                      Kapoor & Sons  2016\n",
            "CPU times: user 72.6 ms, sys: 2.91 ms, total: 75.5 ms\n",
            "Wall time: 84.3 ms\n"
          ],
          "name": "stdout"
        }
      ]
    },
    {
      "cell_type": "markdown",
      "metadata": {
        "id": "LHFSrIJlE_Ih"
      },
      "source": [
        "## Q2 --- List the names of all the actors who played in the movie 'Anand' (1971)"
      ]
    },
    {
      "cell_type": "code",
      "metadata": {
        "colab": {
          "base_uri": "https://localhost:8080/"
        },
        "id": "iGR81HPCphXg",
        "outputId": "9651aba1-45d1-4edb-af8c-b0816c75532a"
      },
      "source": [
        "cursor = conn.cursor()\n",
        "query1 = \"\"\" UPDATE M_Cast SET pid = TRIM(pid) \"\"\"\n",
        "cursor.execute(query1)"
      ],
      "execution_count": 8,
      "outputs": [
        {
          "output_type": "execute_result",
          "data": {
            "text/plain": [
              "<sqlite3.Cursor at 0x7f584e3a1340>"
            ]
          },
          "metadata": {
            "tags": []
          },
          "execution_count": 8
        }
      ]
    },
    {
      "cell_type": "code",
      "metadata": {
        "colab": {
          "base_uri": "https://localhost:8080/"
        },
        "id": "5BSQOVlk23tS",
        "outputId": "e70544d1-3c44-4d71-f507-8e8ce1d8389c"
      },
      "source": [
        "%%time\n",
        "def grader_2(q2):\n",
        "    q2_results  = pd.read_sql_query(q2,conn)\n",
        "    print(q2_results.head(10))\n",
        "    print(q2_results.shape)\n",
        "    assert (q2_results.shape == (17,1))\n",
        "\n",
        "\n",
        "query2 = \"\"\" select p.name as 'Actor_Names' from M_Cast mc\n",
        "             inner join Movie m on m.MID = mc.MID\n",
        "             inner join Person p on p.pid = mc.pid\n",
        "             where m.title like 'Anand' \"\"\"\n",
        "grader_2(query2)\n",
        "# inner join Person p on p.pid = mc.pid "
      ],
      "execution_count": 9,
      "outputs": [
        {
          "output_type": "stream",
          "text": [
            "         Actor_Names\n",
            "0   Amitabh Bachchan\n",
            "1      Rajesh Khanna\n",
            "2     Brahm Bhardwaj\n",
            "3         Ramesh Deo\n",
            "4          Seema Deo\n",
            "5         Dev Kishan\n",
            "6        Durga Khote\n",
            "7      Lalita Kumari\n",
            "8       Lalita Pawar\n",
            "9       Atam Prakash\n",
            "(17, 1)\n",
            "CPU times: user 153 ms, sys: 7.05 ms, total: 160 ms\n",
            "Wall time: 164 ms\n"
          ],
          "name": "stdout"
        }
      ]
    },
    {
      "cell_type": "markdown",
      "metadata": {
        "id": "bJ-mAUMmE_Il"
      },
      "source": [
        "## Q3 --- List all the actors who acted in a film before 1970 and in a film after 1990. (That is: < 1970 and > 1990.)"
      ]
    },
    {
      "cell_type": "code",
      "metadata": {
        "colab": {
          "base_uri": "https://localhost:8080/"
        },
        "id": "HARXLaJ623tY",
        "outputId": "ea66329d-4027-42f6-f72c-fcf85f5f3f66"
      },
      "source": [
        "%%time\n",
        "\n",
        "def grader_3a(query_less_1970, query_more_1990):\n",
        "    q3_a = pd.read_sql_query(query_less_1970,conn)\n",
        "    print(q3_a.shape)\n",
        "    q3_b = pd.read_sql_query(query_more_1990,conn)\n",
        "    print(q3_b.shape)\n",
        "    return (q3_a.shape == (4942,1)) and (q3_b.shape == (62570,1))\n",
        "\n",
        "query_less_1970 =\"\"\" \n",
        "Select p.PID from Person p \n",
        "inner join \n",
        "(\n",
        "    select trim(mc.PID) PD, mc.MID from M_cast mc \n",
        "where mc.MID \n",
        "in \n",
        "(\n",
        "    select mv.MID from Movie mv where CAST(SUBSTR(mv.year,-4) AS Integer)<1970\n",
        ")\n",
        ") r1 \n",
        "on r1.PD=p.PID \n",
        "\"\"\"\n",
        "query_more_1990 =\"\"\" \n",
        "Select p.PID from Person p \n",
        "inner join \n",
        "(\n",
        "    select trim(mc.PID) PD, mc.MID from M_cast mc \n",
        "where mc.MID \n",
        "in \n",
        "(\n",
        "    select mv.MID from Movie mv where CAST(SUBSTR(mv.year,-4) AS Integer)>1990\n",
        ")\n",
        ") r1 \n",
        "on r1.PD=p.PID \"\"\"\n",
        "print(grader_3a(query_less_1970, query_more_1990))\n",
        "\n",
        "# using the above two queries, you can find the answer to the given question "
      ],
      "execution_count": 10,
      "outputs": [
        {
          "output_type": "stream",
          "text": [
            "(4942, 1)\n",
            "(62570, 1)\n",
            "True\n",
            "CPU times: user 247 ms, sys: 7.9 ms, total: 254 ms\n",
            "Wall time: 256 ms\n"
          ],
          "name": "stdout"
        }
      ]
    },
    {
      "cell_type": "code",
      "metadata": {
        "colab": {
          "base_uri": "https://localhost:8080/"
        },
        "id": "sbzv0UZZ23td",
        "outputId": "bf587792-7ca4-43dc-b7f6-0cddd158438a"
      },
      "source": [
        "%%time\n",
        "def grader_3(q3):\n",
        "    q3_results  = pd.read_sql_query(q3,conn)\n",
        "    print(q3_results.head(10))\n",
        "    assert (q3_results.shape == (300,1))\n",
        "\n",
        "query3 = \"\"\" with\n",
        "                first as\n",
        "                (\n",
        "                    select distinct trim(mc.PID) PID from Movie M join M_Cast MC on M.MID = MC.MID where year < 1970\n",
        "                ),\n",
        "                second AS\n",
        "                (\n",
        "                    select distinct trim(MC.PID) PID from Movie M join M_Cast MC on M.MID = MC.MID where year > 1990\n",
        "                )\n",
        "                select distinct trim(P.Name) Actor_Name FROM first join second on first.PID = second.PID \n",
        "                join Person P on first.PID = P.PID  \"\"\"\n",
        "\n",
        "grader_3(query3)"
      ],
      "execution_count": 11,
      "outputs": [
        {
          "output_type": "stream",
          "text": [
            "         Actor_Name\n",
            "0      Rishi Kapoor\n",
            "1  Amitabh Bachchan\n",
            "2            Asrani\n",
            "3      Zohra Sehgal\n",
            "4   Parikshat Sahni\n",
            "5     Rakesh Sharma\n",
            "6       Sanjay Dutt\n",
            "7         Ric Young\n",
            "8             Yusuf\n",
            "9    Suhasini Mulay\n",
            "CPU times: user 319 ms, sys: 11.2 ms, total: 330 ms\n",
            "Wall time: 336 ms\n"
          ],
          "name": "stdout"
        }
      ]
    },
    {
      "cell_type": "markdown",
      "metadata": {
        "id": "wd3tqFxaE_Ir"
      },
      "source": [
        "## Q4 --- List all directors who directed 10 movies or more, in descending order of the number of movies they directed. Return the directors' names and the number of movies each of them directed."
      ]
    },
    {
      "cell_type": "code",
      "metadata": {
        "colab": {
          "base_uri": "https://localhost:8080/"
        },
        "id": "aGgqAYk723th",
        "outputId": "c1e92fa4-5b16-4437-f68a-d2690e4f33ee"
      },
      "source": [
        "%%time\n",
        "\n",
        "def grader_4a(query_4a):\n",
        "    query_4a = pd.read_sql_query(query_4a,conn)\n",
        "    print(query_4a)\n",
        "    return (query_4a.shape == (1462,2))\n",
        "\n",
        "query_4a =\"\"\" select p.Name, count(1) from M_Director md join Person p on md.pid = p.pid group by md.pid order by 2 desc \"\"\"\n",
        "print(grader_4a(query_4a))\n",
        "\n",
        "# using the above query, you can write the answer to the given question"
      ],
      "execution_count": 12,
      "outputs": [
        {
          "output_type": "stream",
          "text": [
            "                     Name  count(1)\n",
            "0            David Dhawan        39\n",
            "1            Mahesh Bhatt        35\n",
            "2            Priyadarshan        30\n",
            "3         Ram Gopal Varma        30\n",
            "4            Vikram Bhatt        29\n",
            "...                   ...       ...\n",
            "1457         Deb Medhekar         1\n",
            "1458      Rahi Anil Barve         1\n",
            "1459  Sudip Bandyopadhyay         1\n",
            "1460   Manu Prakash Singh         1\n",
            "1461         Vinod Tiwari         1\n",
            "\n",
            "[1462 rows x 2 columns]\n",
            "True\n",
            "CPU times: user 65.1 ms, sys: 1.03 ms, total: 66.1 ms\n",
            "Wall time: 66.3 ms\n"
          ],
          "name": "stdout"
        }
      ]
    },
    {
      "cell_type": "code",
      "metadata": {
        "colab": {
          "base_uri": "https://localhost:8080/"
        },
        "id": "xROoSzcF23tn",
        "outputId": "b2a87358-62ba-4028-927f-33cd4331c31d"
      },
      "source": [
        "%%time\n",
        "def grader_4(q4):\n",
        "    q4_results  = pd.read_sql_query(q4,conn)\n",
        "    print(q4_results.head(10))\n",
        "    assert (q4_results.shape == (58,2))\n",
        "\n",
        "query4 = \"\"\" select p.Name, count(1) from M_Director md join Person p on md.pid = p.pid group by md.pid having count(1) >= 10 order by 2 desc \"\"\"\n",
        "grader_4(query4)"
      ],
      "execution_count": 13,
      "outputs": [
        {
          "output_type": "stream",
          "text": [
            "                    Name  count(1)\n",
            "0           David Dhawan        39\n",
            "1           Mahesh Bhatt        35\n",
            "2           Priyadarshan        30\n",
            "3        Ram Gopal Varma        30\n",
            "4           Vikram Bhatt        29\n",
            "5   Hrishikesh Mukherjee        27\n",
            "6            Yash Chopra        21\n",
            "7        Basu Chatterjee        19\n",
            "8         Shakti Samanta        19\n",
            "9           Subhash Ghai        18\n",
            "CPU times: user 61.7 ms, sys: 997 µs, total: 62.7 ms\n",
            "Wall time: 62.9 ms\n"
          ],
          "name": "stdout"
        }
      ]
    },
    {
      "cell_type": "markdown",
      "metadata": {
        "id": "OnulNpiOE_Iw"
      },
      "source": [
        "## Q5.a --- For each year, count the number of movies in that year that had only female actors."
      ]
    },
    {
      "cell_type": "code",
      "metadata": {
        "colab": {
          "base_uri": "https://localhost:8080/"
        },
        "id": "m82dTtRAqiVo",
        "outputId": "01ce7413-69d5-4165-a774-5fa81a2ebbbb"
      },
      "source": [
        "cursor = conn.cursor()\n",
        "query1 = \"\"\" UPDATE M_Cast SET pid = TRIM(pid) \"\"\"\n",
        "cursor.execute(query1)"
      ],
      "execution_count": 14,
      "outputs": [
        {
          "output_type": "execute_result",
          "data": {
            "text/plain": [
              "<sqlite3.Cursor at 0x7f584e63dce0>"
            ]
          },
          "metadata": {
            "tags": []
          },
          "execution_count": 14
        }
      ]
    },
    {
      "cell_type": "code",
      "metadata": {
        "colab": {
          "base_uri": "https://localhost:8080/"
        },
        "id": "ES-gGiNG23tr",
        "outputId": "292e22b1-189d-470d-8e9d-46cfeac464a9"
      },
      "source": [
        "%%time\n",
        "\n",
        "# note that you don't need TRIM for person table\n",
        "\n",
        "def grader_5aa(query_5aa):\n",
        "    query_5aa = pd.read_sql_query(query_5aa,conn)\n",
        "    print(query_5aa) \n",
        "    return (query_5aa.shape == (8846,3))\n",
        "\n",
        "query_5aa = \"\"\" select distinct mc.mid, p.gender, count(2) from M_Cast mc \n",
        "                inner join Person p on trim(mc.pid) = p.pid group by 1,2 \"\"\"\n",
        "print(grader_5aa(query_5aa))\n",
        "\n",
        "def grader_5ab(query_5ab):\n",
        "    query_5ab = pd.read_sql_query(query_5ab,conn)\n",
        "    print(query_5ab.head(10)) \n",
        "    return (query_5ab.shape == (3469, 3))\n",
        "\n",
        "query_5ab = \"\"\" select distinct mc.mid, p.gender, count(2) from M_Cast mc  \n",
        "                inner join Person p on trim(mc.pid) = p.pid where p.gender = 'Male' group by 1,2 having count(2) >= 1\n",
        "                 \"\"\"\n",
        "print(grader_5ab(query_5ab))\n",
        "\n",
        "# using the above queries, you can write the answer to the given question"
      ],
      "execution_count": 15,
      "outputs": [
        {
          "output_type": "stream",
          "text": [
            "            MID  Gender  count(2)\n",
            "0     tt0021594    None         1\n",
            "1     tt0021594  Female         3\n",
            "2     tt0021594    Male         5\n",
            "3     tt0026274    None         2\n",
            "4     tt0026274  Female        11\n",
            "...         ...     ...       ...\n",
            "8841  tt8932884  Female         1\n",
            "8842  tt8932884    Male         2\n",
            "8843  tt9007142    None         1\n",
            "8844  tt9007142  Female         4\n",
            "8845  tt9007142    Male         5\n",
            "\n",
            "[8846 rows x 3 columns]\n",
            "True\n",
            "         MID Gender  count(2)\n",
            "0  tt0021594   Male         5\n",
            "1  tt0026274   Male         9\n",
            "2  tt0027256   Male         8\n",
            "3  tt0028217   Male         7\n",
            "4  tt0031580   Male        27\n",
            "5  tt0033616   Male        46\n",
            "6  tt0036077   Male        11\n",
            "7  tt0038491   Male         7\n",
            "8  tt0039654   Male         6\n",
            "9  tt0040067   Male        10\n",
            "True\n",
            "CPU times: user 364 ms, sys: 2.95 ms, total: 367 ms\n",
            "Wall time: 369 ms\n"
          ],
          "name": "stdout"
        }
      ]
    },
    {
      "cell_type": "code",
      "metadata": {
        "colab": {
          "base_uri": "https://localhost:8080/"
        },
        "id": "zQOIawPME_Ix",
        "outputId": "4ac3c3b8-d2f9-4cbc-ef7a-b66a75583188"
      },
      "source": [
        "\n",
        "\n",
        "%%time\n",
        "def grader_5a(q5a):\n",
        "    q5a_results  = pd.read_sql_query(q5a,conn)\n",
        "    print(q5a_results.head(10))\n",
        "    assert (q5a_results.shape == (4,2))\n",
        "\n",
        "query5a = \"\"\" select m.year, count(*) as Female_Cast_Only_Movies from Movie m join\n",
        "              (select distinct mid from M_Cast where mid not in\n",
        "                (select distinct mc.mid from M_Cast mc \n",
        "                inner join Person p on trim(mc.pid) = p.pid where p.Gender = 'Male') ) as t\n",
        "                on m.mid = t.mid group by 1\n",
        "                \"\"\"\n",
        "grader_5a(query5a)"
      ],
      "execution_count": 16,
      "outputs": [
        {
          "output_type": "stream",
          "text": [
            "   year  Female_Cast_Only_Movies\n",
            "0  1939                        1\n",
            "1  1999                        1\n",
            "2  2000                        1\n",
            "3  2018                        1\n",
            "CPU times: user 198 ms, sys: 1.87 ms, total: 200 ms\n",
            "Wall time: 201 ms\n"
          ],
          "name": "stdout"
        }
      ]
    },
    {
      "cell_type": "markdown",
      "metadata": {
        "id": "cTiKejUfE_I1"
      },
      "source": [
        "## Q5.b --- Now include a small change: report for each year the percentage of movies in that year with only female actors, and the total number of movies made that year. For example, one answer will be: 1990 31.81 13522 meaning that in 1990 there were 13,522 movies, and 31.81% had only female actors. You do not need to round your answer."
      ]
    },
    {
      "cell_type": "code",
      "metadata": {
        "colab": {
          "base_uri": "https://localhost:8080/"
        },
        "id": "Xv6iXvcZE_I2",
        "outputId": "9dea9f79-09af-4c07-98c5-31147a428edb"
      },
      "source": [
        "%%time\n",
        "def grader_5b(q5b):\n",
        "    q5b_results  = pd.read_sql_query(q5b,conn)\n",
        "    print(q5b_results.head(10))\n",
        "    assert (q5b_results.shape == (4,3))\n",
        "\n",
        "query5b = \"\"\" select m.year, CAST(t1.count as float)/CAST(count(m.mid) as float) as Percentage_Female_Only_Movie, count(m.mid) as Total_Movies from Movie m join \n",
        "              (select m.year, count(*) as count from Movie m join\n",
        "                (select distinct mid from M_Cast where mid not in\n",
        "                  (select distinct mc.mid from M_Cast mc \n",
        "                  inner join Person p on trim(mc.pid) = p.pid where p.Gender = 'Male') ) as t\n",
        "                  on m.mid = t.mid group by 1) as t1 on m.year = t1.year group by 1 \"\"\"\n",
        "\n",
        "query5a = \"\"\" select m.year \"\"\"\n",
        "grader_5b(query5b)"
      ],
      "execution_count": 17,
      "outputs": [
        {
          "output_type": "stream",
          "text": [
            "   year  Percentage_Female_Only_Movie  Total_Movies\n",
            "0  1939                      0.500000             2\n",
            "1  1999                      0.015152            66\n",
            "2  2000                      0.015625            64\n",
            "3  2018                      0.009615           104\n",
            "CPU times: user 182 ms, sys: 2 ms, total: 184 ms\n",
            "Wall time: 185 ms\n"
          ],
          "name": "stdout"
        }
      ]
    },
    {
      "cell_type": "markdown",
      "metadata": {
        "id": "d5mvJcHDE_I6"
      },
      "source": [
        "## Q6 --- Find the film(s) with the largest cast. Return the movie title and the size of the cast. By \"cast size\" we mean the number of distinct actors that played in that movie: if an actor played multiple roles, or if it simply occurs multiple times in casts, we still count her/him only once."
      ]
    },
    {
      "cell_type": "code",
      "metadata": {
        "colab": {
          "base_uri": "https://localhost:8080/"
        },
        "id": "vpr9gGg6E_I7",
        "outputId": "b9656790-7cd4-4a6c-d70b-08fb68317ad0"
      },
      "source": [
        "%%time\n",
        "def grader_6(q6):\n",
        "    q6_results  = pd.read_sql_query(q6,conn)\n",
        "    print(q6_results.head(10))\n",
        "    assert (q6_results.shape == (3473, 2))\n",
        "\n",
        "query6 = \"\"\" select title, count from ( select distinct mc.mid, m.title, count(mc.pid) as count \n",
        "            from M_Cast mc join Movie m on m.mid = mc.mid group by 1 order by 3 desc)\"\"\"\n",
        "grader_6(query6)"
      ],
      "execution_count": 18,
      "outputs": [
        {
          "output_type": "stream",
          "text": [
            "                        title  count\n",
            "0               Ocean's Eight    238\n",
            "1                    Apaharan    233\n",
            "2                        Gold    215\n",
            "3             My Name Is Khan    213\n",
            "4  Captain America: Civil War    191\n",
            "5                    Geostorm    170\n",
            "6                     Striker    165\n",
            "7                        2012    154\n",
            "8                      Pixels    144\n",
            "9       Yamla Pagla Deewana 2    140\n",
            "CPU times: user 112 ms, sys: 5.91 ms, total: 118 ms\n",
            "Wall time: 119 ms\n"
          ],
          "name": "stdout"
        }
      ]
    },
    {
      "cell_type": "markdown",
      "metadata": {
        "id": "E6mOLxNgTby6"
      },
      "source": [
        "### Q7 --- A decade is a sequence of 10 consecutive years. \n",
        "### For example, say in your database you have movie information starting from 1931. \n",
        "### the first decade is 1931, 1932, ..., 1940,\n",
        "### the second decade is 1932, 1933, ..., 1941 and so on. \n",
        "### Find the decade D with the largest number of films and the total number of films in D"
      ]
    },
    {
      "cell_type": "code",
      "metadata": {
        "colab": {
          "base_uri": "https://localhost:8080/"
        },
        "id": "ZfOWt8IW23uE",
        "outputId": "845fdea8-a313-4564-c694-61d9a2c1b0b4"
      },
      "source": [
        "%%time\n",
        "def grader_7a(q7a):\n",
        "    q7a_results  = pd.read_sql_query(q7a,conn)\n",
        "    print(q7a_results.head(10))\n",
        "    print(q7a_results.shape)\n",
        "    assert (q7a_results.shape == (78, 2))\n",
        "#*** Write a query that computes number of movies in each year ***\n",
        "query7a = \"\"\" select distinct m.year Movie_Year, count(*) as Total_Movies from Movie m group by 1 order by 1 desc \"\"\"\n",
        "grader_7a(query7a)\n",
        "\n",
        "# using the above query, you can write the answer to the given question"
      ],
      "execution_count": 19,
      "outputs": [
        {
          "output_type": "stream",
          "text": [
            "  Movie_Year  Total_Movies\n",
            "0       2018           104\n",
            "1       2017           126\n",
            "2       2016           129\n",
            "3       2015           119\n",
            "4       2014           126\n",
            "5       2013           136\n",
            "6       2012           110\n",
            "7       2011           116\n",
            "8       2010           125\n",
            "9       2009           109\n",
            "(78, 2)\n",
            "CPU times: user 11.2 ms, sys: 0 ns, total: 11.2 ms\n",
            "Wall time: 11.3 ms\n"
          ],
          "name": "stdout"
        }
      ]
    },
    {
      "cell_type": "code",
      "metadata": {
        "colab": {
          "base_uri": "https://localhost:8080/"
        },
        "id": "sBMzLrIY23uJ",
        "outputId": "3ffc4b3b-018d-4824-8b52-1faee2b4b5dd"
      },
      "source": [
        "%%time\n",
        "def grader_7b(q7b):\n",
        "    q7b_results  = pd.read_sql_query(q7b,conn)\n",
        "    print(q7b_results.head(10))\n",
        "    print(q7b_results.shape)\n",
        "    assert (q7b_results.shape == (713, 4))\n",
        "# *** \n",
        "#     Write a query that will do joining of the above table(7a) with itself \n",
        "#     such that you will join with only rows if the second tables year is <= current_year+9 and more than or equal current_year\n",
        "# *** \n",
        "query7b = \"\"\" with data as (select distinct m.year, count(*) as count from Movie m group by 1)\n",
        "              \n",
        "              select a.year as Movie_Year, a.count as Movie_Count, b.year as Movie_Year, b.count as Movie_Count from data a, data b where a.year = b.year and b.year <= (a.year + 9) and b.year >= a.year union\n",
        "              select a.year as Movie_Year, a.count as Movie_Count, b.year as Movie_Year, b.count as Movie_Count from data a, data b where a.year <> b.year and b.year <= (a.year + 9) and b.year >= a.year\n",
        "          \"\"\"\n",
        "grader_7b(query7b)\n",
        "# if you see the below results the first movie year is less than 2nd movie year and \n",
        "# 2nd movie year is less or equal to the first movie year+9\n",
        "\n",
        "# using the above query, you can write the answer to the given question"
      ],
      "execution_count": 20,
      "outputs": [
        {
          "output_type": "stream",
          "text": [
            "  Movie_Year  Movie_Count Movie_Year  Movie_Count\n",
            "0       1931            1       1931            1\n",
            "1       1931            1       1936            3\n",
            "2       1931            1       1939            2\n",
            "3       1936            3       1936            3\n",
            "4       1936            3       1939            2\n",
            "5       1936            3       1941            1\n",
            "6       1936            3       1943            1\n",
            "7       1939            2       1939            2\n",
            "8       1939            2       1941            1\n",
            "9       1939            2       1943            1\n",
            "(713, 4)\n",
            "CPU times: user 18.1 ms, sys: 0 ns, total: 18.1 ms\n",
            "Wall time: 18.3 ms\n"
          ],
          "name": "stdout"
        }
      ]
    },
    {
      "cell_type": "code",
      "metadata": {
        "colab": {
          "base_uri": "https://localhost:8080/"
        },
        "id": "NKqbguuqE_JA",
        "outputId": "85601715-2914-41d2-bdde-545b97f44dbc"
      },
      "source": [
        "%%time\n",
        "def grader_7(q7):\n",
        "    q7_results  = pd.read_sql_query(q7,conn)\n",
        "    print(q7_results.head(15))\n",
        "    print(q7_results.shape)\n",
        "    assert (q7_results.shape == (1, 2))\n",
        "\n",
        "#*** Write a query that will return the decade that has maximum number of movies ***\n",
        "query7 = \"\"\" \n",
        "              with data as (select distinct m.year, count(*) as count from Movie m group by 1),\n",
        "              \n",
        "              list as\n",
        "              (select a.year as year_st, a.count as count1, b.year as year, b.count as count2 from data a, data b where a.year = b.year and b.year <= (a.year + 9) and b.year >= a.year union\n",
        "              select a.year as year_st, a.count as count1, b.year as year, b.count as count2 from data a, data b where a.year <> b.year and b.year <= (a.year + 9) and b.year >= a.year)\n",
        "\n",
        "              select '2008-2017' year_start, max(count) 'Decade_Movie_Count' from (select year_st as year_start, sum(count2) as count from list group by 1)\n",
        "         \"\"\"\n",
        "grader_7(query7)\n",
        "# if you check the output we are printinng all the year in that decade, its fine you can print 2008 or 2008-2017"
      ],
      "execution_count": 21,
      "outputs": [
        {
          "output_type": "stream",
          "text": [
            "  year_start  Decade_Movie_Count\n",
            "0  2008-2017                1203\n",
            "(1, 2)\n",
            "CPU times: user 14.5 ms, sys: 0 ns, total: 14.5 ms\n",
            "Wall time: 14.6 ms\n"
          ],
          "name": "stdout"
        }
      ]
    },
    {
      "cell_type": "markdown",
      "metadata": {
        "id": "Jbm3Oy3hT8d9"
      },
      "source": [
        "## Q8 --- Find all the actors that made more movies with Yash Chopra than any other director."
      ]
    },
    {
      "cell_type": "code",
      "metadata": {
        "colab": {
          "base_uri": "https://localhost:8080/"
        },
        "id": "DZJ7WMrk23uR",
        "outputId": "4b224237-8b8b-48b7-a059-a3b9092b5059"
      },
      "source": [
        "%%time\n",
        "def grader_8a(q8a):\n",
        "    q8a_results  = pd.read_sql_query(q8a,conn)\n",
        "    print(q8a_results.head(10))\n",
        "    assert (q8a_results.shape == (73408, 3))\n",
        "\n",
        "query8a = \"\"\" select mc.pid as actor, md.pid as director, count(*) as movies from M_Cast mc \n",
        "              join M_Director md on mc.mid = md.mid group by 1,2 order by 3 desc \"\"\"\n",
        "grader_8a(query8a)\n",
        "\n",
        "# using the above query, you can write the answer to the given question"
      ],
      "execution_count": 22,
      "outputs": [
        {
          "output_type": "stream",
          "text": [
            "       actor   director  movies\n",
            "0  nm0456094  nm0223522      23\n",
            "1  nm0007106  nm0223522      20\n",
            "2  nm0434318  nm0223522      20\n",
            "3  nm0318622  nm0080315      19\n",
            "4  nm0332871  nm0223522      17\n",
            "5  nm0712546  nm0698184      16\n",
            "6  nm2147526  nm0698184      15\n",
            "7  nm0442479  nm0223522      14\n",
            "8  nm0451272  nm0080315      14\n",
            "9  nm0451600  nm0223522      14\n",
            "CPU times: user 275 ms, sys: 12 ms, total: 287 ms\n",
            "Wall time: 289 ms\n"
          ],
          "name": "stdout"
        }
      ]
    },
    {
      "cell_type": "code",
      "metadata": {
        "colab": {
          "base_uri": "https://localhost:8080/"
        },
        "id": "ZLn5JBb4F7Fc",
        "outputId": "804dc95b-64b9-4ee6-de6f-98838ac8d4b1"
      },
      "source": [
        "cursor = conn.cursor()\n",
        "query1 = \"\"\" UPDATE M_Cast SET pid = trim(pid) \"\"\"\n",
        "cursor.execute(query1)"
      ],
      "execution_count": 23,
      "outputs": [
        {
          "output_type": "execute_result",
          "data": {
            "text/plain": [
              "<sqlite3.Cursor at 0x7f584e63ddc0>"
            ]
          },
          "metadata": {
            "tags": []
          },
          "execution_count": 23
        }
      ]
    },
    {
      "cell_type": "code",
      "metadata": {
        "colab": {
          "base_uri": "https://localhost:8080/"
        },
        "id": "SYMTcHixE_JH",
        "outputId": "d7fb2d34-e93f-43b3-820b-9cab7bed6953"
      },
      "source": [
        "%%time\n",
        "\n",
        "def grader_8(q8):\n",
        "    q8_results  = pd.read_sql_query(q8,conn)\n",
        "    print(q8_results.head(10))\n",
        "    print(q8_results.shape)\n",
        "    assert (q8_results.shape == (245, 2))\n",
        "\n",
        "query8 = \"\"\" WITH \n",
        "        yashchopra AS(\n",
        "              SELECT (mc.PID) AS Actor_Id, (md.PID) AS Director_Id, Count((mc.MID)) AS Movie_count FROM M_cast AS mc INNER JOIN M_Director AS md ON md.MID=mc.MID\n",
        "              GROUP BY mc.PID,md.PID),\n",
        "        yashchopra_movie AS (\n",
        "              SELECT Count(md.mid) AS Count FROM M_Cast AS mc JOIN M_Director AS md ON md.MID=mc.MID WHERE mc.PID=yashchopra.Actor_Id\n",
        "            GROUP BY mc.PID, md.PID ORDER BY Count(*) DESC LIMIT 1)\n",
        "\n",
        "        SELECT p.name, Movie_count FROM yashchopra JOIN Person AS p ON p.pid=yashchopra.Actor_Id WHERE Movie_count IN yashchopra_movie\n",
        "        AND yashchopra.Director_Id IN (SELECT PID FROM Person WHERE trim(Name) = 'Yash Chopra') ORDER BY Movie_count DESC \"\"\"\n",
        "\n",
        "\n",
        "grader_8(query8)"
      ],
      "execution_count": 27,
      "outputs": [
        {
          "output_type": "stream",
          "text": [
            "                Name  Movie_count\n",
            "0        Jagdish Raj           11\n",
            "1   Manmohan Krishna           10\n",
            "2           Iftekhar            9\n",
            "3      Shashi Kapoor            7\n",
            "4     Waheeda Rehman            5\n",
            "5      Rakhee Gulzar            5\n",
            "6     Achala Sachdev            4\n",
            "7        Neetu Singh            4\n",
            "8           Ravikant            4\n",
            "9    Parikshat Sahni            3\n",
            "(245, 2)\n",
            "CPU times: user 3.35 s, sys: 180 ms, total: 3.53 s\n",
            "Wall time: 3.55 s\n"
          ],
          "name": "stdout"
        }
      ]
    },
    {
      "cell_type": "markdown",
      "metadata": {
        "id": "2j8Fc9jUUJ9C"
      },
      "source": [
        "## Q9 --- The Shahrukh number of an actor is the length of the shortest path between the actor and Shahrukh Khan in the \"co-acting\" graph. That is, Shahrukh Khan has Shahrukh number 0; all actors who acted in the same film as Shahrukh have Shahrukh number 1; all actors who acted in the same film as some actor with Shahrukh number 1 have Shahrukh number 2, etc. Return all actors whose Shahrukh number is 2."
      ]
    },
    {
      "cell_type": "code",
      "metadata": {
        "colab": {
          "base_uri": "https://localhost:8080/"
        },
        "id": "3FnJ_19z23ub",
        "outputId": "8f856cd1-dde7-4a77-f0f2-a77f040421e4"
      },
      "source": [
        "%%time\n",
        "def grader_9a(q9a):\n",
        "    q9a_results  = pd.read_sql_query(q9a,conn)\n",
        "    print(q9a_results.head(10))\n",
        "    print(q9a_results.shape)\n",
        "    assert (q9a_results.shape == (2382, 1))\n",
        "\n",
        "query9a = \"\"\" with \n",
        "              s0 as (\n",
        "                select trim(pid) as pid from Person where trim(Name) = 'Shah Rukh Khan'\n",
        "              ),\n",
        "              s1_m as (\n",
        "                select distinct mc.mid mid, s0.pid pid from M_Cast mc, s0 where trim(mc.pid)=s0.pid\n",
        "              ),\n",
        "              s1_a as (\n",
        "                select distinct trim(mc.pid) pid from M_Cast mc, s1_m where mc.mid = s1_m.mid\n",
        "                except select trim(pid) as pid from Person where trim(Name) = 'Shah Rukh Khan'\n",
        "              ),\n",
        "              s2_m as (\n",
        "                select distinct trim(mc.mid) mid, s1_a.pid pid from M_Cast mc, s1_a where trim(mc.pid)=s1_a.pid \n",
        "              ),\n",
        "              s2_a as (\n",
        "                select pid from (select distinct trim(mc.pid) pid from M_Cast mc, s2_m where trim(mc.mid) = s2_m.mid\n",
        "                except select trim(pid) as pid from Person where trim(Name) = 'Shah Rukh Khan') except select * from s1_a\n",
        "              )\n",
        "              \n",
        "              select pid S1_PID from s1_a \n",
        "                  \"\"\"\n",
        "\n",
        "grader_9a(query9a)\n",
        "# using the above query, you can write the answer to the given question\n",
        "\n",
        "# selecting actors who acted with srk (S1)\n",
        "# selecting all movies where S1 actors acted, this forms S2 movies list. \n",
        "# selecting all actors who acted in S2 movies, this gives us S2 actors along with S1 actors\n",
        "# removing S1 actors from the combined list of S1 & S2 actors, so that we get only S2 actors"
      ],
      "execution_count": 25,
      "outputs": [
        {
          "output_type": "stream",
          "text": [
            "      S1_PID\n",
            "0  nm0000818\n",
            "1  nm0000821\n",
            "2  nm0001934\n",
            "3  nm0002043\n",
            "4  nm0004109\n",
            "5  nm0004334\n",
            "6  nm0004335\n",
            "7  nm0004363\n",
            "8  nm0004418\n",
            "9  nm0004429\n",
            "(2382, 1)\n",
            "CPU times: user 55.1 ms, sys: 3.95 ms, total: 59.1 ms\n",
            "Wall time: 59.3 ms\n"
          ],
          "name": "stdout"
        }
      ]
    },
    {
      "cell_type": "code",
      "metadata": {
        "colab": {
          "base_uri": "https://localhost:8080/"
        },
        "id": "5o6imc82E_JS",
        "outputId": "0fa769e0-f7ce-4b39-8997-95b13ccbe430"
      },
      "source": [
        "%%time\n",
        "def grader_9(q9):\n",
        "    q9_results  = pd.read_sql_query(q9,conn)\n",
        "    print(q9_results.head(10))\n",
        "    print(q9_results.shape)\n",
        "    assert (q9_results.shape == (25698, 1))\n",
        "\n",
        "query9 = \"\"\" with \n",
        "              s0 as (\n",
        "                select trim(pid) as pid from Person where trim(Name) = 'Shah Rukh Khan'\n",
        "              ),\n",
        "              s1_m as (\n",
        "                select distinct mc.mid mid, s0.pid pid from M_Cast mc, s0 where trim(mc.pid)=s0.pid\n",
        "              ),\n",
        "              s1_a as (\n",
        "                select distinct trim(mc.pid) pid from M_Cast mc, s1_m where mc.mid = s1_m.mid\n",
        "                except select trim(pid) as pid from Person where trim(Name) = 'Shah Rukh Khan'\n",
        "              ),\n",
        "              s2_m as (\n",
        "                select distinct trim(mc.mid) mid, s1_a.pid pid from M_Cast mc, s1_a where trim(mc.pid)=s1_a.pid \n",
        "              ),\n",
        "              s2_a as (\n",
        "                select pid from (select distinct trim(mc.pid) pid from M_Cast mc, s2_m where trim(mc.mid) = s2_m.mid\n",
        "                except select trim(pid) as pid from Person where trim(Name) = 'Shah Rukh Khan') except select * from s1_a\n",
        "              )\n",
        "              \n",
        "              select p.name from s2_a join Person p on s2_a.pid = p.pid\n",
        "                  \"\"\"\n",
        "grader_9(query9)"
      ],
      "execution_count": 26,
      "outputs": [
        {
          "output_type": "stream",
          "text": [
            "                     Name\n",
            "0            Freida Pinto\n",
            "1             Rohan Chand\n",
            "2            Damian Young\n",
            "3         Waris Ahluwalia\n",
            "4   Caroline Christl Long\n",
            "5           Rajeev Pahuja\n",
            "6       Michelle Santiago\n",
            "7         Alicia Vikander\n",
            "8            Dominic West\n",
            "9          Walton Goggins\n",
            "(25698, 1)\n",
            "CPU times: user 857 ms, sys: 10.9 ms, total: 868 ms\n",
            "Wall time: 873 ms\n"
          ],
          "name": "stdout"
        }
      ]
    },
    {
      "cell_type": "code",
      "metadata": {
        "id": "UOKNWJdaL9dI"
      },
      "source": [
        ""
      ],
      "execution_count": 26,
      "outputs": []
    }
  ]
}