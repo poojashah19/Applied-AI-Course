{
 "cells": [
  {
   "cell_type": "markdown",
   "metadata": {
    "id": "3sNKZq4XrXQh"
   },
   "source": [
    "# <font color='red'><b>Bootstrap assignment</b> </font>"
   ]
  },
  {
   "cell_type": "markdown",
   "metadata": {
    "id": "RAHap1Z3FZC-"
   },
   "source": [
    "<b>There will be some functions that start with the word \"grader\" ex: grader_sampples(), grader_30().. etc, you should not change those function definition.\n",
    "\n",
    "Every Grader function has to return True.</b>"
   ]
  },
  {
   "cell_type": "markdown",
   "metadata": {
    "id": "cuxBq_bvrwh2"
   },
   "source": [
    "<font color='blue'> <b>Importing packages</b> </font>"
   ]
  },
  {
   "cell_type": "code",
   "execution_count": 1,
   "metadata": {
    "id": "m6ag91ijrQOs"
   },
   "outputs": [],
   "source": [
    "import numpy as np # importing numpy for numerical computation\n",
    "from sklearn.datasets import load_boston # here we are using sklearn's boston dataset\n",
    "from sklearn.metrics import mean_squared_error # importing mean_squared_error metric\n",
    "from sklearn.tree import DecisionTreeRegressor\n",
    "from sklearn.metrics import mean_squared_error\n",
    "import warnings\n",
    "warnings.filterwarnings(\"ignore\")\n",
    "import seaborn as sns\n",
    "import matplotlib.pyplot as plt"
   ]
  },
  {
   "cell_type": "code",
   "execution_count": 2,
   "metadata": {
    "id": "CcHOsONTt1K_"
   },
   "outputs": [],
   "source": [
    "boston = load_boston()\n",
    "x=boston.data #independent variables\n",
    "y=boston.target #target variable"
   ]
  },
  {
   "cell_type": "code",
   "execution_count": 3,
   "metadata": {
    "colab": {
     "base_uri": "https://localhost:8080/"
    },
    "id": "pc1htEFYuLRj",
    "outputId": "4cee8743-32b4-40d9-d562-e065d2cea2db"
   },
   "outputs": [
    {
     "data": {
      "text/plain": [
       "(506, 13)"
      ]
     },
     "execution_count": 3,
     "metadata": {
      "tags": []
     },
     "output_type": "execute_result"
    }
   ],
   "source": [
    "x.shape"
   ]
  },
  {
   "cell_type": "code",
   "execution_count": 4,
   "metadata": {
    "colab": {
     "base_uri": "https://localhost:8080/"
    },
    "id": "kQle3T_wuOa3",
    "outputId": "65a08a68-ee13-4f24-9f50-31ab7513517d"
   },
   "outputs": [
    {
     "data": {
      "text/plain": [
       "array([[6.3200e-03, 1.8000e+01, 2.3100e+00, 0.0000e+00, 5.3800e-01,\n",
       "        6.5750e+00, 6.5200e+01, 4.0900e+00, 1.0000e+00, 2.9600e+02,\n",
       "        1.5300e+01, 3.9690e+02, 4.9800e+00],\n",
       "       [2.7310e-02, 0.0000e+00, 7.0700e+00, 0.0000e+00, 4.6900e-01,\n",
       "        6.4210e+00, 7.8900e+01, 4.9671e+00, 2.0000e+00, 2.4200e+02,\n",
       "        1.7800e+01, 3.9690e+02, 9.1400e+00],\n",
       "       [2.7290e-02, 0.0000e+00, 7.0700e+00, 0.0000e+00, 4.6900e-01,\n",
       "        7.1850e+00, 6.1100e+01, 4.9671e+00, 2.0000e+00, 2.4200e+02,\n",
       "        1.7800e+01, 3.9283e+02, 4.0300e+00],\n",
       "       [3.2370e-02, 0.0000e+00, 2.1800e+00, 0.0000e+00, 4.5800e-01,\n",
       "        6.9980e+00, 4.5800e+01, 6.0622e+00, 3.0000e+00, 2.2200e+02,\n",
       "        1.8700e+01, 3.9463e+02, 2.9400e+00],\n",
       "       [6.9050e-02, 0.0000e+00, 2.1800e+00, 0.0000e+00, 4.5800e-01,\n",
       "        7.1470e+00, 5.4200e+01, 6.0622e+00, 3.0000e+00, 2.2200e+02,\n",
       "        1.8700e+01, 3.9690e+02, 5.3300e+00]])"
      ]
     },
     "execution_count": 4,
     "metadata": {
      "tags": []
     },
     "output_type": "execute_result"
    }
   ],
   "source": [
    "x[:5]"
   ]
  },
  {
   "cell_type": "markdown",
   "metadata": {
    "id": "AEa_HqRZloH4"
   },
   "source": [
    "## <font color='red'><b>Task 1</b></font>"
   ]
  },
  {
   "cell_type": "markdown",
   "metadata": {
    "id": "YQ5q8IxHNRk3"
   },
   "source": [
    "<font color='red'> <b>Step - 1</b></font>"
   ]
  },
  {
   "cell_type": "markdown",
   "metadata": {
    "id": "GJCFCaOzl7Mr"
   },
   "source": [
    "*  <font color='blue'><b>Creating samples</b></font><br>\n",
    "    <b> Randomly create 30 samples from the whole boston data points</b>\n",
    "    *  Creating each sample: Consider any random 303(60% of 506) data points from whole data set and then replicate any 203 points from the sampled points\n",
    "    \n",
    "     For better understanding of this procedure lets check this examples, assume we have 10 data points [1,2,3,4,5,6,7,8,9,10], first we take 6 data points randomly , consider we have selected [4, 5, 7, 8, 9, 3] now we will replicate 4 points from [4, 5, 7, 8, 9, 3], consder they are [5, 8, 3,7] so our final sample will be [4, 5, 7, 8, 9, 3, 5, 8, 3,7]\n",
    "* <font color='blue'><b> Create 30 samples </b></font>\n",
    "    *  Note that as a part of the Bagging when you are taking the random samples <b>make sure each of the sample will have different set of columns</b><br>\n",
    "Ex: Assume we have 10 columns[1 ,2 ,3 ,4 ,5 ,6 ,7 ,8 ,9 ,10] for the first sample we will select [3, 4, 5, 9, 1, 2] and for the second sample  [7, 9, 1, 4, 5, 6, 2] and so on...\n",
    "Make sure each sample will have atleast 3 feautres/columns/attributes"
   ]
  },
  {
   "cell_type": "markdown",
   "metadata": {
    "id": "zUqFEBSvNjCa"
   },
   "source": [
    "<font color='red'><b>Step - 2 </b></font>"
   ]
  },
  {
   "cell_type": "markdown",
   "metadata": {
    "id": "uqi9AhCYNq3Z"
   },
   "source": [
    "<font color='blue'><b>Building High Variance Models on each of the sample and finding train MSE value</b></font>"
   ]
  },
  {
   "cell_type": "markdown",
   "metadata": {
    "id": "-lLBnZHXOFln"
   },
   "source": [
    "*  Build a regression trees on each of 30 samples.\n",
    "*  Computed the predicted values of each data point(506 data points) in your corpus.\n",
    "*  Predicted house price of $i^{th}$ data point $y^{i}_{pred} =  \\frac{1}{30}\\sum_{k=1}^{30}(\\text{predicted value of } x^{i} \\text{ with } k^{th} \\text{ model})$\n",
    "*  Now calculate the $MSE =  \\frac{1}{506}\\sum_{i=1}^{506}(y^{i} - y^{i}_{pred})^{2}$"
   ]
  },
  {
   "cell_type": "markdown",
   "metadata": {
    "id": "Kls23JLnSN23"
   },
   "source": [
    "<font color='red'> <b>Step - 3 </b></font>"
   ]
  },
  {
   "cell_type": "markdown",
   "metadata": {
    "id": "rz2GchkGSWnh"
   },
   "source": [
    "*  <font color='blue'><b>Calculating the OOB score </b></font>"
   ]
  },
  {
   "cell_type": "markdown",
   "metadata": {
    "id": "DGHkVV2kSibm"
   },
   "source": [
    "*  Predicted house price of $i^{th}$ data point $y^{i}_{pred} =  \\frac{1}{k}\\sum_{\\text{k= model which was buit on samples not included } x^{i}}(\\text{predicted value of } x^{i} \\text{ with } k^{th} \\text{ model})$.\n",
    "*  Now calculate the $OOB Score =  \\frac{1}{506}\\sum_{i=1}^{506}(y^{i} - y^{i}_{pred})^{2}$."
   ]
  },
  {
   "cell_type": "markdown",
   "metadata": {
    "id": "RK860ocxTyoz"
   },
   "source": [
    "# <font color='red'><b>Task 2</b></font>"
   ]
  },
  {
   "cell_type": "markdown",
   "metadata": {
    "id": "1dme-N6TUCrY"
   },
   "source": [
    "*  <font color='blue'><b>Computing CI of OOB Score and Train MSE</b></font>\n",
    "  *   Repeat Task 1 for 35 times, and for each iteration store the Train MSE and OOB score </li>\n",
    "<li> After this we will have 35 Train MSE values and 35 OOB scores </li>\n",
    "<li> using these 35 values (assume like a sample) find the confidence intravels of MSE and OOB Score </li>\n",
    "<li> you need to report CI of MSE and CI of OOB Score </li>\n",
    "<li> Note: Refer the Central_Limit_theorem.ipynb to check how to find the confidence intravel</li>\n",
    "</ol>"
   ]
  },
  {
   "cell_type": "markdown",
   "metadata": {
    "id": "O6UcH1x9Uwrj"
   },
   "source": [
    "# <font color='red'><b>Task 3</b></font>"
   ]
  },
  {
   "cell_type": "markdown",
   "metadata": {
    "id": "bOC_AgsLU7OH"
   },
   "source": [
    "*  <font color='blue'><b>Given a single query point predict the price of house.</b></font>"
   ]
  },
  {
   "cell_type": "markdown",
   "metadata": {
    "id": "HYs5jSFdVILe"
   },
   "source": [
    "Consider xq= [0.18,20.0,5.00,0.0,0.421,5.60,72.2,7.95,7.0,30.0,19.1,372.13,18.60] \n",
    "Predict the house price for this point as mentioned in the step 2 of Task 1."
   ]
  },
  {
   "cell_type": "markdown",
   "metadata": {
    "id": "_6gxZEsFWm-8"
   },
   "source": [
    "<br><br><br>"
   ]
  },
  {
   "cell_type": "markdown",
   "metadata": {
    "id": "V2fHTdS_zpgG"
   },
   "source": [
    "# <font color='blue'> <b>Task - 1</b></font>"
   ]
  },
  {
   "cell_type": "markdown",
   "metadata": {
    "id": "e0yGBuryOwHz"
   },
   "source": [
    "<font color='blue'><b>Step - 1</b></font>"
   ]
  },
  {
   "cell_type": "markdown",
   "metadata": {
    "id": "lJXX8vf3z073"
   },
   "source": [
    "*  <font color='blue'> <b>Creating samples</b></font>"
   ]
  },
  {
   "cell_type": "markdown",
   "metadata": {
    "id": "CSVaWG1F4uCZ"
   },
   "source": [
    "<font color='Orange'><b>Algorithm</b></font>\n",
    "\n",
    "![alt text](https://i.imgur.com/BTVYXQ1.jpg/)"
   ]
  },
  {
   "cell_type": "markdown",
   "metadata": {
    "id": "f_oWoN97BhDY"
   },
   "source": [
    "*  <font color='blue'><b> Write code for generating samples</b></font>"
   ]
  },
  {
   "cell_type": "code",
   "execution_count": 5,
   "metadata": {
    "id": "Ph_6D2SDzz7F"
   },
   "outputs": [],
   "source": [
    "def generating_samples(input_data, target_data):\n",
    "\n",
    "    '''In this function, we will write code for generating 30 samples '''\n",
    "\n",
    "    sel_rows = np.random.choice(len(input_data), int(0.6*len(input_data)), replace=False)\n",
    "    rep_rows = np.random.choice(sel_rows, 203, replace=False)\n",
    "    sel_cols = np.random.choice(13, np.random.randint(3,12), replace=False)\n",
    "\n",
    "    sampled_rows = np.concatenate((sel_rows, rep_rows))\n",
    "    input_col_sampling = input_data[:, sel_cols]\n",
    "\n",
    "    final_sample_data = input_col_sampling[sampled_rows]\n",
    "    final_target_data = target_data[sampled_rows]\n",
    "\n",
    "    return list(final_sample_data), list(final_target_data), list(sel_rows), list(sel_cols)\n",
    "\n",
    "    # return sampled_input_data , sampled_target_data,selected_rows,selected_columns\n",
    "    #note please return as lists"
   ]
  },
  {
   "cell_type": "markdown",
   "metadata": {
    "id": "MivEQFlm7iOg"
   },
   "source": [
    "<font color='cyan'> <b> Grader function - 1 </b> </fongt>"
   ]
  },
  {
   "cell_type": "code",
   "execution_count": 7,
   "metadata": {
    "colab": {
     "base_uri": "https://localhost:8080/"
    },
    "id": "AVvuhNzm7uld",
    "outputId": "f04e8cd2-4138-4fb2-ebd2-172ecd4cf1d1"
   },
   "outputs": [
    {
     "data": {
      "text/plain": [
       "True"
      ]
     },
     "execution_count": 7,
     "metadata": {
      "tags": []
     },
     "output_type": "execute_result"
    }
   ],
   "source": [
    "def grader_samples(a,b,c,d):\n",
    "    length = (len(a)==506  and len(b)==506)\n",
    "    sampled = (len(a)-len(set([str(i) for i in a]))==203)  ## subtracts\n",
    "    rows_length = (len(c)==303)\n",
    "    column_length= (len(d)>=3)\n",
    "    assert(length and sampled and rows_length and column_length)\n",
    "    return True\n",
    "a,b,c,d = generating_samples(x, y)\n",
    "grader_samples(a,b,c,d)"
   ]
  },
  {
   "cell_type": "markdown",
   "metadata": {
    "id": "b4LSsmn4Jn2_"
   },
   "source": [
    "*  <font color='blue'> <b>Create 30 samples </b>"
   ]
  },
  {
   "cell_type": "markdown",
   "metadata": {
    "id": "3ec7MN6sL2BZ"
   },
   "source": [
    "![alt text](https://i.imgur.com/p8eZaWL.jpg)"
   ]
  },
  {
   "cell_type": "code",
   "execution_count": 8,
   "metadata": {
    "id": "XXlKWjCcBvTk"
   },
   "outputs": [],
   "source": [
    "# Use generating_samples function to create 30 samples \n",
    "# store these created samples in a list\n",
    "def generate_30_samples(x,y):\n",
    "    list_input_data =[]\n",
    "    list_output_data =[]\n",
    "    list_selected_row= []\n",
    "    list_selected_columns=[]\n",
    "\n",
    "    for i in range(0,30):\n",
    "      a,b,c,d = generating_samples(x,y)\n",
    "      list_input_data.append(a)\n",
    "      list_output_data.append(b)\n",
    "      list_selected_row.append(c)\n",
    "      list_selected_columns.append(d)\n",
    "    \n",
    "    return list_input_data, list_output_data, list_selected_row, list_selected_columns"
   ]
  },
  {
   "cell_type": "code",
   "execution_count": 9,
   "metadata": {
    "colab": {
     "base_uri": "https://localhost:8080/"
    },
    "id": "FLgmQ-aZCnY6",
    "outputId": "91c9c840-143a-4f44-b6f9-ef7845880138"
   },
   "outputs": [
    {
     "name": "stdout",
     "output_type": "stream",
     "text": [
      "[[7, 8, 12, 0, 9], [1, 8, 11, 3, 12, 4, 6, 9, 0], [7, 12, 1, 6, 0, 8, 11, 5, 3, 2], [11, 2, 8, 0, 10, 7, 3, 4, 1, 12, 9], [6, 1, 5], [3, 7, 12, 0, 10, 1, 5, 4, 9], [6, 2, 4, 1, 9], [2, 9, 0, 11, 6, 3, 4, 5, 10, 7], [5, 10, 7, 8, 12], [7, 12, 10, 1, 6, 0, 2, 9, 3, 5], [11, 3, 7, 9, 8, 4, 1, 2, 12], [1, 0, 8, 12], [12, 8, 7, 11, 0, 10, 6, 4, 3, 1], [5, 4, 2, 11], [4, 8, 1, 0, 12], [2, 4, 1, 5, 3, 10, 9], [2, 1, 6, 11, 7, 10, 4, 0, 5, 8, 3], [11, 4, 6, 8, 12, 3], [8, 2, 7, 6, 0, 4], [4, 2, 10, 3, 7, 11], [10, 4, 6, 8], [1, 10, 9, 3, 12, 0, 8, 5], [4, 11, 12, 1, 8, 2, 3, 6, 7, 5, 10], [6, 0, 5, 11, 1, 12, 4, 2, 10], [4, 3, 11, 9], [1, 5, 7, 11, 4, 12, 9, 8], [8, 7, 6, 12, 1, 0, 4], [7, 12, 10, 9, 3, 2, 6, 8, 4, 11], [7, 8, 5, 10, 3, 2], [10, 6, 4, 0, 2, 9, 12, 3, 11, 8]]\n"
     ]
    }
   ],
   "source": [
    "list_input_data, list_output_data, list_selected_row, list_selected_columns = generate_30_samples(x,y)\n",
    "print(list_selected_columns)"
   ]
  },
  {
   "cell_type": "markdown",
   "metadata": {
    "id": "MXUz9VFiMQkh"
   },
   "source": [
    "<font color='cyan'> <b>Grader function - 2 </b></font>"
   ]
  },
  {
   "cell_type": "code",
   "execution_count": 10,
   "metadata": {
    "colab": {
     "base_uri": "https://localhost:8080/"
    },
    "id": "hCvIq8NuMWOC",
    "outputId": "db64688b-7de3-40f2-8804-598d89ee4046"
   },
   "outputs": [
    {
     "data": {
      "text/plain": [
       "True"
      ]
     },
     "execution_count": 10,
     "metadata": {
      "tags": []
     },
     "output_type": "execute_result"
    }
   ],
   "source": [
    "def grader_30(a):\n",
    "    assert(len(a)==30 and len(a[0])==506)\n",
    "    return True\n",
    "grader_30(list_input_data)"
   ]
  },
  {
   "cell_type": "markdown",
   "metadata": {
    "id": "7Pv-mkZkO6dh"
   },
   "source": [
    "<br>"
   ]
  },
  {
   "cell_type": "markdown",
   "metadata": {
    "id": "whaHCPB0O8qF"
   },
   "source": [
    "<font color='red'><b>Step - 2 </b></font>"
   ]
  },
  {
   "cell_type": "markdown",
   "metadata": {
    "id": "XBy4zXSWPtU8"
   },
   "source": [
    "<font color='orange'><b>Flowchart for building tree</b></font>"
   ]
  },
  {
   "cell_type": "markdown",
   "metadata": {
    "id": "5xvH06HPQBdP"
   },
   "source": [
    "![alt text](https://i.imgur.com/pcXfSmp.png)"
   ]
  },
  {
   "cell_type": "markdown",
   "metadata": {
    "id": "WRwPO_uHQjul"
   },
   "source": [
    "*  <font color='blue'><b> Write code for building regression trees</b></font>"
   ]
  },
  {
   "cell_type": "code",
   "execution_count": 11,
   "metadata": {
    "id": "YWQp6tRwMthq"
   },
   "outputs": [],
   "source": [
    "def build_regression_tree(input, output):\n",
    "    # data_point = x[:, ]\n",
    "    list_of_all_models = []\n",
    "\n",
    "    for i in range(0,30):\n",
    "      model = DecisionTreeRegressor(max_depth=None)\n",
    "      model.fit(input[i], output[i])\n",
    "      list_of_all_models.append(model)\n",
    "\n",
    "    return list_of_all_models"
   ]
  },
  {
   "cell_type": "code",
   "execution_count": 12,
   "metadata": {
    "colab": {
     "base_uri": "https://localhost:8080/"
    },
    "id": "Ks6iprbMOclm",
    "outputId": "ecea8813-2fe4-4d81-c7be-a24a3bc2adba"
   },
   "outputs": [
    {
     "name": "stdout",
     "output_type": "stream",
     "text": [
      "30\n"
     ]
    }
   ],
   "source": [
    "list_of_all_models = build_regression_tree(list_input_data, list_output_data)\n",
    "print(len(list_of_all_models))"
   ]
  },
  {
   "cell_type": "markdown",
   "metadata": {
    "id": "21j8BKfAQ1U8"
   },
   "source": [
    "<font color='orange'><b>Flowchart for calculating MSE </b></font>"
   ]
  },
  {
   "cell_type": "markdown",
   "metadata": {
    "id": "8Q0mTBD2RBx_"
   },
   "source": [
    "![alt text](https://i.imgur.com/sPEE618.png)"
   ]
  },
  {
   "cell_type": "markdown",
   "metadata": {
    "id": "6e-UamlHRjPy"
   },
   "source": [
    "After getting predicted_y for each data point, we can use sklearns mean_squared_error to calculate the MSE between predicted_y and actual_y."
   ]
  },
  {
   "cell_type": "markdown",
   "metadata": {
    "id": "TnIMT7_oR312"
   },
   "source": [
    "*  <font color='blue'><b> Write code for calculating MSE</b></font>"
   ]
  },
  {
   "cell_type": "code",
   "execution_count": 13,
   "metadata": {
    "id": "ToRQEwklASWq"
   },
   "outputs": [],
   "source": [
    "def predict_y(list_selected_columns, list_of_all_models):\n",
    "    array_of_Y = np.zeros((506,30))\n",
    "    predicted_y = []\n",
    "    x_points = []\n",
    "    for i in range(0, 506):\n",
    "        for j in range(0,30):\n",
    "            cols = list_selected_columns[j]\n",
    "            datapoint = x[i][cols].reshape(1,-1)\n",
    "            model = list_of_all_models[j]\n",
    "            y_pred = model.predict(datapoint)\n",
    "            array_of_Y[i][j] = y_pred\n",
    "        predicted_y.append(np.average(np.asarray(array_of_Y[i])))\n",
    "\n",
    "    narr = np.array(array_of_Y)\n",
    "    return predicted_y, array_of_Y\n",
    "    #datapoint = x[10, cols].reshape(1,-1)"
   ]
  },
  {
   "cell_type": "code",
   "execution_count": 14,
   "metadata": {
    "id": "9Tpcc39MT8Wx"
   },
   "outputs": [],
   "source": [
    "predicted_y, array_of_Y = predict_y(list_selected_columns, list_of_all_models)"
   ]
  },
  {
   "cell_type": "code",
   "execution_count": 15,
   "metadata": {
    "colab": {
     "base_uri": "https://localhost:8080/"
    },
    "id": "cqyHCsrWGokb",
    "outputId": "943bdb5e-0dc7-48cc-f760-06b294de8d0b"
   },
   "outputs": [
    {
     "data": {
      "text/plain": [
       "2.199879038392526"
      ]
     },
     "execution_count": 15,
     "metadata": {
      "tags": []
     },
     "output_type": "execute_result"
    }
   ],
   "source": [
    "mean_squared_error(y, predicted_y)"
   ]
  },
  {
   "cell_type": "markdown",
   "metadata": {
    "id": "RuclPDMnSz8F"
   },
   "source": [
    "<font color='blue'><b>Step - 3 </b></font>"
   ]
  },
  {
   "cell_type": "markdown",
   "metadata": {
    "id": "ESb9FSIDTM5V"
   },
   "source": [
    "<font color='orange'><b>Flowchart for calculating OOB score</b></font>"
   ]
  },
  {
   "cell_type": "markdown",
   "metadata": {
    "id": "HB-d6NMETbd9"
   },
   "source": [
    "![alt text](https://i.imgur.com/95S5Mtm.png)"
   ]
  },
  {
   "cell_type": "markdown",
   "metadata": {
    "id": "WW3GOcFzTqbt"
   },
   "source": [
    "Now calculate the $OOB Score =  \\frac{1}{506}\\sum_{i=1}^{506}(y^{i} - y^{i}_{pred})^{2}$."
   ]
  },
  {
   "cell_type": "markdown",
   "metadata": {
    "id": "zBqcS03pUYSZ"
   },
   "source": [
    "*  <font color='blue'><b> Write code for calculating OOB score </b></font>"
   ]
  },
  {
   "cell_type": "code",
   "execution_count": 16,
   "metadata": {
    "id": "Fog_6DNdS-h_"
   },
   "outputs": [],
   "source": [
    "def get_Y_pred(list_selected_columns, list_of_all_models, list_input_data):\n",
    "    list_of_y_values = []\n",
    "    x_points = []\n",
    "    for i in range(0, 506):\n",
    "        y_pred_list = []\n",
    "        for j in range(0, 30):\n",
    "            cols = list_selected_columns[j]\n",
    "            datapoint = x[i][cols].reshape(1,-1)\n",
    "            flag = \"not present\"\n",
    "            for a in list_input_data[j]:\n",
    "              comparison = datapoint[0] == a\n",
    "              equal_arrays = comparison.all()\n",
    "              if(equal_arrays):\n",
    "                flag = \"present\"\n",
    "            if(flag == \"not present\"):\n",
    "              model = list_of_all_models[j]\n",
    "              y_pred = model.predict(datapoint)\n",
    "              y_pred_list.append(y_pred)\n",
    "        if y_pred_list:\n",
    "          med = np.median(y_pred_list)\n",
    "          list_of_y_values.append(med)\n",
    "    return list_of_y_values"
   ]
  },
  {
   "cell_type": "code",
   "execution_count": 17,
   "metadata": {
    "id": "HE7MnFu4fu-K"
   },
   "outputs": [],
   "source": [
    "def compute_oob(y, y_pred):\n",
    "    sum = 0\n",
    "    for i in range(0, len(y)):\n",
    "        sum += np.square(y[i] - y_pred[i])\n",
    "\n",
    "    oobscore = (1/len(y)) * sum\n",
    "    return oobscore"
   ]
  },
  {
   "cell_type": "code",
   "execution_count": 18,
   "metadata": {
    "colab": {
     "base_uri": "https://localhost:8080/"
    },
    "id": "1JlS4ZlsY6Ud",
    "outputId": "22538d62-5e83-4453-e761-50e0182b1d56"
   },
   "outputs": [
    {
     "name": "stdout",
     "output_type": "stream",
     "text": [
      "12.61443401405357\n"
     ]
    }
   ],
   "source": [
    "list_of_y_values = get_Y_pred(list_selected_columns, list_of_all_models, list_input_data)\n",
    "oobscore = compute_oob(y, list_of_y_values)\n",
    "print(oobscore)"
   ]
  },
  {
   "cell_type": "markdown",
   "metadata": {
    "id": "sbuiwX3OUjUI"
   },
   "source": [
    "# <font color='blue'><b>Task 2</b></font>"
   ]
  },
  {
   "cell_type": "code",
   "execution_count": 19,
   "metadata": {
    "id": "ceW5-D88Uswi"
   },
   "outputs": [],
   "source": [
    "mse_35 = []\n",
    "oob_35 = []\n",
    "\n",
    "for i in range(0, 35):\n",
    "    list_input_data_35, list_output_data_35, list_selected_row_35, list_selected_columns_35 = generate_30_samples(x,y)\n",
    "    list_of_all_models_35 = build_regression_tree(list_input_data_35, list_output_data_35)\n",
    "    predicted_y, array_of_Y = predict_y(list_selected_columns_35, list_of_all_models_35)\n",
    "    mse = mean_squared_error(y, predicted_y)\n",
    "    list_of_y_values_35 = get_Y_pred(list_selected_columns_35, list_of_all_models_35, list_input_data_35)\n",
    "    oobscore = compute_oob(y, list_of_y_values_35)\n",
    "    mse_35.append(mse)\n",
    "    oob_35.append(oobscore)"
   ]
  },
  {
   "cell_type": "code",
   "execution_count": 20,
   "metadata": {
    "colab": {
     "base_uri": "https://localhost:8080/"
    },
    "id": "O2ZhkBxRVxca",
    "outputId": "c61cc42e-296e-4aa4-c988-55d25ccef19b"
   },
   "outputs": [
    {
     "name": "stdout",
     "output_type": "stream",
     "text": [
      "[2.1547204263417545, 2.711813157148423, 2.90561369427763, 2.8917761550164913, 2.346214526404097, 1.8168066315327185, 3.375640403014113, 2.09143662515859, 3.5732134316768205, 1.9874128076477335, 2.4347333775928175, 2.8152016019919324, 2.8946181705532625, 2.308452085485981, 2.011703150466012, 2.9575663003081893, 2.884860730289338, 2.161006405627202, 2.654602610907457, 2.8092001587351083, 3.1868047010867437, 2.265719545698531, 2.2283966403162045, 2.3188868540774865, 2.8014401849813777, 2.321022792523589, 2.324546415852177, 2.5547741234811885, 2.1773461954634246, 3.3224225169792465, 2.0282587066543343, 2.544618763877642, 2.136250916198737, 2.251861335797091, 2.4160083633240688]\n",
      "[14.457697628458494, 15.622062472551596, 15.372937423144496, 19.416014629995598, 15.890523852656989, 10.984925889328053, 15.122248572683354, 11.626037549407108, 18.46641414141413, 14.044640563241106, 14.557964975845408, 15.394581274703556, 16.56861482213439, 14.525815217391296, 12.732129446640311, 13.818356418667598, 15.296516798418962, 14.510167984189707, 14.913837834870424, 19.376882411067193, 18.207767347386913, 13.45850790513833, 13.812371541501978, 12.31249066754502, 14.827291392182696, 13.51091681077075, 14.817940272288094, 16.1739476284585, 14.151744861660076, 16.53228874264993, 12.28227272727273, 13.19650490037912, 12.74126482213438, 13.205454545454542, 12.078468379446635]\n"
     ]
    }
   ],
   "source": [
    "print(mse_35)\n",
    "print(oob_35)"
   ]
  },
  {
   "cell_type": "code",
   "execution_count": 21,
   "metadata": {
    "colab": {
     "base_uri": "https://localhost:8080/",
     "height": 354
    },
    "id": "o3iC6uuYbCVn",
    "outputId": "598aa111-7900-4df5-8e52-618495053ba4"
   },
   "outputs": [
    {
     "name": "stdout",
     "output_type": "stream",
     "text": [
      "2.677891752942009\n",
      "2.3886768474287052\n"
     ]
    },
    {
     "data": {
      "image/png": "[encoded data removed]",
      "text/plain": [
       "<Figure size 576x360 with 1 Axes>"
      ]
     },
     "metadata": {
      "needs_background": "light",
      "tags": []
     },
     "output_type": "display_data"
    }
   ],
   "source": [
    "mean = np.mean(mse_35)\n",
    "sample_std = np.std(mse_35)\n",
    "SE = sample_std/(np.sqrt(len(mse_35)))\n",
    "upper = mean + (SE*2)\n",
    "lower = mean - (SE*2)\n",
    "print(upper)\n",
    "print(lower)\n",
    "\n",
    "fig, axs = plt.subplots(figsize=(8, 5))\n",
    "sns.distplot(mse_35, ax=axs)\n",
    "axs.axvline(mean, linestyle=\":\", color='g', label=\"sample_mean\", lw=2)\n",
    "axs.axvline(upper, linestyle=\":\", color='r', label=\"s_mean+2*SE\", lw=2)\n",
    "axs.axvline(lower, linestyle=\":\", color='r', label=\"s_mean-2*SE\", lw=2)\n",
    "plt.show()"
   ]
  },
  {
   "cell_type": "code",
   "execution_count": 22,
   "metadata": {
    "colab": {
     "base_uri": "https://localhost:8080/",
     "height": 391
    },
    "id": "LxEOKc-sHGeb",
    "outputId": "1d740a51-117f-421e-bf0f-82ee0b1afe7f"
   },
   "outputs": [
    {
     "name": "stdout",
     "output_type": "stream",
     "text": [
      "[14.457697628458494, 15.622062472551596, 15.372937423144496, 19.416014629995598, 15.890523852656989, 10.984925889328053, 15.122248572683354, 11.626037549407108, 18.46641414141413, 14.044640563241106, 14.557964975845408, 15.394581274703556, 16.56861482213439, 14.525815217391296, 12.732129446640311, 13.818356418667598, 15.296516798418962, 14.510167984189707, 14.913837834870424, 19.376882411067193, 18.207767347386913, 13.45850790513833, 13.812371541501978, 12.31249066754502, 14.827291392182696, 13.51091681077075, 14.817940272288094, 16.1739476284585, 14.151744861660076, 16.53228874264993, 12.28227272727273, 13.19650490037912, 12.74126482213438, 13.205454545454542, 12.078468379446635]\n",
      "15.368543160809601\n",
      "14.00331983639494\n"
     ]
    },
    {
     "data": {
      "image/png": "[encoded data removed]",
      "text/plain": [
       "<Figure size 576x360 with 1 Axes>"
      ]
     },
     "metadata": {
      "needs_background": "light",
      "tags": []
     },
     "output_type": "display_data"
    }
   ],
   "source": [
    "print(oob_35)\n",
    "mean = np.mean(oob_35)\n",
    "sample_std = np.std(oob_35)\n",
    "SE = sample_std/(np.sqrt(len(oob_35)))\n",
    "upper = mean + (SE*2)\n",
    "lower = mean - (SE*2)\n",
    "print(upper)\n",
    "print(lower)\n",
    "\n",
    "fig1, axs = plt.subplots(figsize=(8, 5))\n",
    "sns.distplot(oob_35, ax=axs)\n",
    "axs.axvline(mean, linestyle=\":\", color='g', label=\"sample_mean\", lw=2)\n",
    "axs.axvline(upper, linestyle=\":\", color='r', label=\"s_mean+2*SE\", lw=2)\n",
    "axs.axvline(lower, linestyle=\":\", color='r', label=\"s_mean-2*SE\", lw=2)\n",
    "plt.show()"
   ]
  },
  {
   "cell_type": "markdown",
   "metadata": {
    "id": "jKTnJdiBVS_e"
   },
   "source": [
    "# <font color='blue'><b>Task 3</b></font>"
   ]
  },
  {
   "cell_type": "markdown",
   "metadata": {
    "id": "eXxrvZqHV1Fr"
   },
   "source": [
    "<font color='orange'><b>Flowchart for Task 3</b></font>"
   ]
  },
  {
   "cell_type": "markdown",
   "metadata": {
    "id": "NyjwEJ62V6a6"
   },
   "source": [
    "<b>Hint: </b> We created 30 models by using 30 samples in TASK-1. Here, we need send query point \"xq\"  to 30 models and perform the regression on the output generated by 30 models."
   ]
  },
  {
   "cell_type": "markdown",
   "metadata": {
    "id": "0emSwLL7VurD"
   },
   "source": [
    "![alt text](https://i.imgur.com/Y5cNhQk.png)"
   ]
  },
  {
   "cell_type": "markdown",
   "metadata": {
    "id": "29hjwKlWWDfo"
   },
   "source": [
    "*  <font color='blue'><b> Write code for TASK 3 </b></font>"
   ]
  },
  {
   "cell_type": "code",
   "execution_count": 23,
   "metadata": {
    "colab": {
     "base_uri": "https://localhost:8080/"
    },
    "id": "i_pUlSD-VYD1",
    "outputId": "645ddcb2-e845-4049-b4d9-2f7bf640e684"
   },
   "outputs": [
    {
     "name": "stdout",
     "output_type": "stream",
     "text": [
      "20.363333333333337\n"
     ]
    }
   ],
   "source": [
    "xq = np.array([0.18,20.0,5.00,0.0,0.421,5.60,72.2,7.95,7.0,30.0,19.1,372.13,18.60])\n",
    "yq_list = []\n",
    "for j in range(0,30):\n",
    "    cols = list_selected_columns[j]\n",
    "    datapoint = xq[cols].reshape(1,-1)\n",
    "    model = list_of_all_models[j]\n",
    "    y_pred = model.predict(datapoint)\n",
    "    yq_list.append(y_pred)\n",
    "yq = np.average(np.asarray(yq_list))\n",
    "print(yq)"
   ]
  },
  {
   "cell_type": "markdown",
   "metadata": {
    "id": "IOdUi-0xWOJ9"
   },
   "source": [
    "<font color='red'><b>Write observations for task 1, task 2, task 3 indetail</b></font>"
   ]
  },
  {
   "cell_type": "markdown",
   "metadata": {
    "id": "jJJbUiribZ-v"
   },
   "source": [
    "# **Observation**\n",
    "*   The samples we created have 303 random datapoints and other 203 datapoints are repeated from these 303 points.\n",
    "*   30 such samples are created.\n",
    "*   Mean squared error is 2.199\n",
    "*   Out of Bag error is 12.61\n",
    "*   Based on task 2, it can be said that the confidence interval of both the distributions is almost equally spread.\n",
    "*   The oob score distribution is more normally distributed than the mse score distribution.\n",
    "*   The predicted value of given query datapoint is 20.36\n",
    "\n"
   ]
  }
 ],
 "metadata": {
  "colab": {
   "collapsed_sections": [],
   "name": "Bootstrap_assignment.ipynb",
   "provenance": []
  },
  "kernelspec": {
   "display_name": "Python 3",
   "language": "python",
   "name": "python3"
  },
  "language_info": {
   "codemirror_mode": {
    "name": "ipython",
    "version": 3
   },
   "file_extension": ".py",
   "mimetype": "text/x-python",
   "name": "python",
   "nbconvert_exporter": "python",
   "pygments_lexer": "ipython3",
   "version": "3.8.5"
  }
 },
 "nbformat": 4,
 "nbformat_minor": 1
}
