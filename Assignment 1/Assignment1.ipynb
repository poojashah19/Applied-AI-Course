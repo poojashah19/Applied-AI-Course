{
 "cells": [
  {
   "cell_type": "markdown",
   "metadata": {
    "colab_type": "text",
    "id": "view-in-github"
   },
   "source": [
    "<a href=\"https://colab.research.google.com/github/poojashah19/Applied-AI-Course/blob/main/Assignment%201/Assignment1.ipynb\" target=\"_parent\"><img src=\"https://colab.research.google.com/assets/colab-badge.svg\" alt=\"Open In Colab\"/></a>"
   ]
  },
  {
   "cell_type": "code",
   "execution_count": 1,
   "metadata": {
    "colab": {
     "base_uri": "https://localhost:8080/"
    },
    "id": "t_ooh0JxHTA6",
    "outputId": "8048c50e-13ab-4a5b-9ee3-86d395d7672e"
   },
   "outputs": [
    {
     "name": "stdout",
     "output_type": "stream",
     "text": [
      "enter any number: 17\n",
      "17 * 1 = 17\n",
      "17 * 2 = 34\n",
      "17 * 3 = 51\n",
      "17 * 4 = 68\n",
      "17 * 5 = 85\n",
      "17 * 6 = 102\n",
      "17 * 7 = 119\n",
      "17 * 8 = 136\n",
      "17 * 9 = 153\n",
      "17 * 10 = 170\n"
     ]
    }
   ],
   "source": [
    "## 1\n",
    "def print_multiplicationtable(num) :\n",
    "  for index in range(1,11):\n",
    "    print ('%d * %d = %d' % (num, index, num*index))\n",
    "num = int(input(\"enter any number: \"))\n",
    "print_multiplicationtable(num)"
   ]
  },
  {
   "cell_type": "code",
   "execution_count": null,
   "metadata": {
    "colab": {
     "base_uri": "https://localhost:8080/"
    },
    "id": "CnhunulZLnsN",
    "outputId": "35c7f312-f587-40a1-f1f1-bea423931206"
   },
   "outputs": [
    {
     "name": "stdout",
     "output_type": "stream",
     "text": [
      "3, 5\n",
      "5, 7\n",
      "11, 13\n",
      "17, 19\n",
      "29, 31\n",
      "41, 43\n",
      "59, 61\n",
      "71, 73\n",
      "101, 103\n",
      "107, 109\n",
      "137, 139\n",
      "149, 151\n",
      "179, 181\n",
      "191, 193\n",
      "197, 199\n",
      "227, 229\n",
      "239, 241\n",
      "269, 271\n",
      "281, 283\n",
      "311, 313\n",
      "347, 349\n",
      "419, 421\n",
      "431, 433\n",
      "461, 463\n",
      "521, 523\n",
      "569, 571\n",
      "599, 601\n",
      "617, 619\n",
      "641, 643\n",
      "659, 661\n",
      "809, 811\n",
      "821, 823\n",
      "827, 829\n",
      "857, 859\n",
      "881, 883\n"
     ]
    }
   ],
   "source": [
    "## 2\n",
    "def print_twinprimes() :\n",
    "  for index in range(2,1000) :\n",
    "    next_num = index + 2;\n",
    "    if(is_prime(index) and is_prime(next_num)):\n",
    "      print ('%d, %d' % (index, next_num))\n",
    "\n",
    "def is_prime(num) :\n",
    "  for index in range(2, num) :\n",
    "    if(num % index == 0) :\n",
    "      return False\n",
    "  return True\n",
    "\n",
    "print_twinprimes()"
   ]
  },
  {
   "cell_type": "code",
   "execution_count": null,
   "metadata": {
    "colab": {
     "base_uri": "https://localhost:8080/"
    },
    "id": "QJtGkwaOOlV_",
    "outputId": "9f9dc4a1-4d36-461b-ff02-74ffc9ac8a5a"
   },
   "outputs": [
    {
     "name": "stdout",
     "output_type": "stream",
     "text": [
      "enter any number: 88\n",
      "2\n",
      "2\n",
      "2\n",
      "11\n"
     ]
    }
   ],
   "source": [
    "## 3\n",
    "##referenced https://www.geeksforgeeks.org/print-all-prime-factors-of-a-given-number/ link for few steps.\n",
    "import math\n",
    "def print_primefactors(num) :\n",
    "  while num % 2 == 0 :\n",
    "    print('2')\n",
    "    num = int(num/2)\n",
    "  for index in range(3, int(math.sqrt(num))+1,2) :\n",
    "    while num % index == 0:\n",
    "      print(index)\n",
    "      num = int(num/index)\n",
    "  if(num > 2):\n",
    "    print(num)\n",
    "\n",
    "num = int(input(\"enter any number: \"))\n",
    "print_primefactors(num)"
   ]
  },
  {
   "cell_type": "code",
   "execution_count": null,
   "metadata": {
    "colab": {
     "base_uri": "https://localhost:8080/"
    },
    "id": "LYw3yaisWQJw",
    "outputId": "e1807288-347d-48f2-c163-b4afa267aba9"
   },
   "outputs": [
    {
     "name": "stdout",
     "output_type": "stream",
     "text": [
      "Number of Permutations of 10 objects taken 3 at a time:\n",
      "720\n",
      "Number of Combinations of 10 objects taken 3 at a time:\n",
      "120\n"
     ]
    }
   ],
   "source": [
    "## 4\n",
    "def get_factorial(num) :\n",
    "  result = 1\n",
    "  for index in range(1, num+1) :\n",
    "    result = result*index\n",
    "  return result\n",
    "\n",
    "def get_numOfPermutations(num, r):\n",
    "  print(\"Number of Permutations of %d objects taken %d at a time:\" % (num, r))\n",
    "  print(int(get_factorial(num) / get_factorial(num - r)))\n",
    "\n",
    "def get_numOfCombinations(num, r):\n",
    "  print(\"Number of Combinations of %d objects taken %d at a time:\" % (num, r))\n",
    "  print(int( get_factorial(num) / ( get_factorial(r) * get_factorial(num-r) )))\n",
    "\n",
    "get_numOfPermutations(10,3)\n",
    "get_numOfCombinations(10,3)"
   ]
  },
  {
   "cell_type": "code",
   "execution_count": 2,
   "metadata": {
    "colab": {
     "base_uri": "https://localhost:8080/"
    },
    "id": "LgVTiqxBayn8",
    "outputId": "682465a1-4020-4d6d-ef5a-9fdf9f742274"
   },
   "outputs": [
    {
     "name": "stdout",
     "output_type": "stream",
     "text": [
      "enter any number: 30\n",
      "11110"
     ]
    }
   ],
   "source": [
    "## 5\n",
    "def get_binary(num):\n",
    "  if(num > 1):\n",
    "    get_binary(num // 2)\n",
    "  print(num % 2, end = '')\n",
    "\n",
    "num = int(input(\"enter any number: \"))\n",
    "get_binary(num)"
   ]
  },
  {
   "cell_type": "code",
   "execution_count": null,
   "metadata": {
    "colab": {
     "base_uri": "https://localhost:8080/"
    },
    "id": "pGcZZyY7dE3H",
    "outputId": "06c9cba0-0766-418c-cded-07371d9d42ac"
   },
   "outputs": [
    {
     "name": "stdout",
     "output_type": "stream",
     "text": [
      "enter any number: 98\n",
      "sum of cube of digits in 98 is 1241\n",
      "98 is not an armstrong number\n"
     ]
    }
   ],
   "source": [
    "## 6\n",
    "def cubesum(num):\n",
    "  temp = num\n",
    "  sum = 0\n",
    "  while(temp > 0) :\n",
    "    num1 = temp % 10\n",
    "    sum += num1 ** 3\n",
    "    temp //= 10\n",
    "  return sum\n",
    "\n",
    "def isArmstrong(num, sum) :\n",
    "  if(num == sum) :\n",
    "    print('%d is an armstrong number' % num)\n",
    "  else :\n",
    "    print('%d is not an armstrong number' % num)\n",
    "\n",
    "def PrintArmstrong(num) :\n",
    "  sum = cubesum(num)\n",
    "  print('sum of cube of digits in %d is %d' % (num, sum))\n",
    "  isArmstrong(num, sum)\n",
    "\n",
    "num = int(input(\"enter any number: \"))\n",
    "PrintArmstrong(num)"
   ]
  },
  {
   "cell_type": "code",
   "execution_count": null,
   "metadata": {
    "colab": {
     "base_uri": "https://localhost:8080/"
    },
    "id": "sgq7iUYF6cEI",
    "outputId": "843ac7b7-5cf0-4e83-df09-645657b3bbd8"
   },
   "outputs": [
    {
     "name": "stdout",
     "output_type": "stream",
     "text": [
      "enter any number: 438\n",
      "product of digits of 438 is 96\n"
     ]
    }
   ],
   "source": [
    "## 7\n",
    "def prodDigits(num) :\n",
    "  temp = num\n",
    "  prod = 1\n",
    "  while(temp > 0) :\n",
    "    digit = temp % 10\n",
    "    prod *= digit\n",
    "    temp //= 10\n",
    "  return prod\n",
    "\n",
    "num = int(input(\"enter any number: \"))\n",
    "print('product of digits of %d is %d' % (num, prodDigits(num)))"
   ]
  },
  {
   "cell_type": "code",
   "execution_count": null,
   "metadata": {
    "colab": {
     "base_uri": "https://localhost:8080/"
    },
    "id": "9QQsWUQ27pkd",
    "outputId": "371e91de-dc08-44e1-bc79-0c2236e53b43"
   },
   "outputs": [
    {
     "name": "stdout",
     "output_type": "stream",
     "text": [
      "MDR is 8\n",
      "MPersistence is 3\n"
     ]
    }
   ],
   "source": [
    "## 8\n",
    "## I have implemented logic of MDR and MPersistence in a single function as both has repetitive while loop.\n",
    "def prodDigits(num) :\n",
    "  temp = num\n",
    "  prod = 1\n",
    "  while(temp > 0) :\n",
    "    digit = temp % 10\n",
    "    prod *= digit\n",
    "    temp //= 10\n",
    "  return prod\n",
    "\n",
    "def MDRandMPersistence(num) :\n",
    "  prodOfDigits = prodDigits(num)\n",
    "  count = 1\n",
    "  while( prodOfDigits >= 10 ) :\n",
    "    prodOfDigits = prodDigits(prodOfDigits)\n",
    "    count += 1\n",
    "  print('MDR is %d' % prodOfDigits)\n",
    "  print('MPersistence is %d' % count)\n",
    "\n",
    "MDRandMPersistence(486)"
   ]
  },
  {
   "cell_type": "code",
   "execution_count": 3,
   "metadata": {
    "colab": {
     "base_uri": "https://localhost:8080/"
    },
    "id": "aDDak0_iAFym",
    "outputId": "7602cc53-cae8-49c3-c9f8-7628956188b2"
   },
   "outputs": [
    {
     "name": "stdout",
     "output_type": "stream",
     "text": [
      "enter any number: 24\n"
     ]
    },
    {
     "data": {
      "text/plain": [
       "36"
      ]
     },
     "execution_count": 3,
     "metadata": {},
     "output_type": "execute_result"
    }
   ],
   "source": [
    "## 9\n",
    "import math\n",
    "def sumPdivisors(num) :\n",
    "  result = 0\n",
    "  for index in range(2, int(math.sqrt(num))+1):\n",
    "    if(num % index == 0):\n",
    "      if(index == num//index):\n",
    "        result += index\n",
    "      else :\n",
    "        result += index + num//index\n",
    "  return result+1  ## added 1 in final result as 1 is also a proper divisor.\n",
    "\n",
    "num = int(input(\"enter any number: \"))\n",
    "sumPdivisors(num)"
   ]
  },
  {
   "cell_type": "code",
   "execution_count": null,
   "metadata": {
    "colab": {
     "base_uri": "https://localhost:8080/"
    },
    "id": "mkseUwXzDuZs",
    "outputId": "e64a7448-3a73-403d-8362-0baaf4edb086"
   },
   "outputs": [
    {
     "name": "stdout",
     "output_type": "stream",
     "text": [
      "enter any number: 36\n",
      "36 is not a perfect number\n"
     ]
    }
   ],
   "source": [
    "## 10\n",
    "import math\n",
    "def sumPdivisors(num) :\n",
    "  result = 0\n",
    "  for index in range(2, int(math.sqrt(num))+1):\n",
    "    if(num % index == 0):\n",
    "      if(index == num//index):\n",
    "        result += index\n",
    "      else :\n",
    "        result += index + num//index\n",
    "  return result+1  ## added 1 in final result as 1 is also a proper divisor.\n",
    "\n",
    "num = int(input(\"enter any number: \"))\n",
    "if(sumPdivisors(num) == num) :\n",
    "  print('%d is a perfect number' % num)\n",
    "else :\n",
    "  print('%d is not a perfect number' % num)"
   ]
  },
  {
   "cell_type": "code",
   "execution_count": null,
   "metadata": {
    "colab": {
     "base_uri": "https://localhost:8080/"
    },
    "id": "oHL1v-t1EhIO",
    "outputId": "2028f9f7-5add-4c32-8ba5-8a8db8f02804"
   },
   "outputs": [
    {
     "name": "stdout",
     "output_type": "stream",
     "text": [
      "220 , 284\n",
      "1184 , 1210\n",
      "2620 , 2924\n",
      "5020 , 5564\n",
      "6232 , 6368\n"
     ]
    }
   ],
   "source": [
    "## 11\n",
    "## referred https://stackoverflow.com/questions/28267790/c-find-all-amicable-numbers-between-limits because i did not wanted to use nested for loop for larger range as nested loop was taking a lot of time\n",
    "import math\n",
    "def sumPdivisors(num) :\n",
    "  result = 0\n",
    "  for index in range(2, int(math.sqrt(num))+1):\n",
    "    if(num % index == 0):\n",
    "      if(index == num//index):\n",
    "        result += index\n",
    "      else :\n",
    "        result += index + num//index\n",
    "  return result+1  ## added 1 in final result as 1 is also a proper divisor.\n",
    "\n",
    "def isAmicable(num, snum):\n",
    "  if(sumPdivisors(num) == snum and sumPdivisors(snum) == num) :\n",
    "    return True\n",
    "  else :\n",
    "    return False\n",
    "\n",
    "for index in range(1, 10000):\n",
    "  snum = sumPdivisors(index)\n",
    "  if(index<snum and sumPdivisors(snum) == index):\n",
    "    print(index, ',', snum)"
   ]
  },
  {
   "cell_type": "code",
   "execution_count": 10,
   "metadata": {
    "colab": {
     "base_uri": "https://localhost:8080/"
    },
    "id": "lGt_9LdBF67G",
    "outputId": "483663eb-f0e1-41e8-82ec-96548016230b"
   },
   "outputs": [
    {
     "name": "stdout",
     "output_type": "stream",
     "text": [
      "[1, 7, 19, 11, 37, 53, 87, 95]\n"
     ]
    }
   ],
   "source": [
    "## 12\n",
    "num_list = [1,2,4,7,19,44,11,37,26,53,87,74,95,58]\n",
    "def odd_numbers(num) :\n",
    "  if(num % 2 != 0):\n",
    "    return True\n",
    "  else:\n",
    "    return False\n",
    "\n",
    "oddNumbers = list(filter(odd_numbers, num_list))\n",
    "print(oddNumbers)"
   ]
  },
  {
   "cell_type": "code",
   "execution_count": 5,
   "metadata": {
    "colab": {
     "base_uri": "https://localhost:8080/"
    },
    "id": "_I6O9bSsLZPe",
    "outputId": "46983403-2110-4d58-b6e7-9ed62aad64ad"
   },
   "outputs": [
    {
     "name": "stdout",
     "output_type": "stream",
     "text": [
      "125\n",
      "729\n",
      "27\n",
      "512\n",
      "216\n"
     ]
    }
   ],
   "source": [
    "## 13\n",
    "list = [5,9,3,8,6]\n",
    "cube = map(lambda x:x**3 , list)\n",
    "\n",
    "for num in cube:\n",
    "  print(num)"
   ]
  },
  {
   "cell_type": "code",
   "execution_count": null,
   "metadata": {
    "colab": {
     "base_uri": "https://localhost:8080/"
    },
    "id": "c44bs9b1T4X2",
    "outputId": "6ee64958-a385-4df4-b1b4-9b88cd2e2517"
   },
   "outputs": [
    {
     "name": "stdout",
     "output_type": "stream",
     "text": [
      "{64, 85184, 512, 8, 2744, 216}\n"
     ]
    }
   ],
   "source": [
    "## 14\n",
    "num_list = [1,2,4,7,19,44,11,37,6,53,87,14,95,8]\n",
    "def even_numbers(num) :\n",
    "  if(num % 2 == 0):\n",
    "    return True\n",
    "  else:\n",
    "    return False\n",
    "\n",
    "evenNumbers = filter(even_numbers, num_list)\n",
    "cube = map(lambda x:x**3 , evenNumbers)\n",
    "\n",
    "result = set(cube)\n",
    "print(result)"
   ]
  }
 ],
 "metadata": {
  "colab": {
   "authorship_tag": "ABX9TyMugHIHU6tNcfy5nlXNdR1C",
   "collapsed_sections": [],
   "include_colab_link": true,
   "name": "Assignment1.ipynb",
   "provenance": []
  },
  "kernelspec": {
   "display_name": "Python 3",
   "language": "python",
   "name": "python3"
  },
  "language_info": {
   "codemirror_mode": {
    "name": "ipython",
    "version": 3
   },
   "file_extension": ".py",
   "mimetype": "text/x-python",
   "name": "python",
   "nbconvert_exporter": "python",
   "pygments_lexer": "ipython3",
   "version": "3.6.5"
  }
 },
 "nbformat": 4,
 "nbformat_minor": 1
}
