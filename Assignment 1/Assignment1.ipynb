{
  "nbformat": 4,
  "nbformat_minor": 0,
  "metadata": {
    "colab": {
      "name": "Assignment1.ipynb",
      "provenance": [],
      "authorship_tag": "ABX9TyMIhOnaaOQ4ncnfzD8rTnDj",
      "include_colab_link": true
    },
    "kernelspec": {
      "name": "python3",
      "display_name": "Python 3"
    }
  },
  "cells": [
    {
      "cell_type": "markdown",
      "metadata": {
        "id": "view-in-github",
        "colab_type": "text"
      },
      "source": [
        "<a href=\"https://colab.research.google.com/github/poojashah19/Applied-AI-Course/blob/main/Assignment%201/Assignment1.ipynb\" target=\"_parent\"><img src=\"https://colab.research.google.com/assets/colab-badge.svg\" alt=\"Open In Colab\"/></a>"
      ]
    },
    {
      "cell_type": "markdown",
      "metadata": {
        "id": "TLo4W85pHgG6"
      },
      "source": [
        "1. Write a function that inputs a number and prints the multiplication table of that number"
      ]
    },
    {
      "cell_type": "code",
      "metadata": {
        "colab": {
          "base_uri": "https://localhost:8080/"
        },
        "id": "t_ooh0JxHTA6",
        "outputId": "8048c50e-13ab-4a5b-9ee3-86d395d7672e"
      },
      "source": [
        "def print_multiplicationtable(num) :\n",
        "  for index in range(1,11):\n",
        "    print ('%d * %d = %d' % (num, index, num*index))\n",
        "num = int(input(\"enter any number: \"))\n",
        "print_multiplicationtable(num)"
      ],
      "execution_count": 7,
      "outputs": [
        {
          "output_type": "stream",
          "text": [
            "enter any number: 9\n",
            "9 * 1 = 9\n",
            "9 * 2 = 18\n",
            "9 * 3 = 27\n",
            "9 * 4 = 36\n",
            "9 * 5 = 45\n",
            "9 * 6 = 54\n",
            "9 * 7 = 63\n",
            "9 * 8 = 72\n",
            "9 * 9 = 81\n",
            "9 * 10 = 90\n"
          ],
          "name": "stdout"
        }
      ]
    },
    {
      "cell_type": "markdown",
      "metadata": {
        "id": "HCI65pGYLiM0"
      },
      "source": [
        "2. Write a program to print twin primes less than 1000. If two consecutive odd numbers are\n",
        "both prime then they are known as twin primes"
      ]
    },
    {
      "cell_type": "code",
      "metadata": {
        "colab": {
          "base_uri": "https://localhost:8080/"
        },
        "id": "CnhunulZLnsN",
        "outputId": "35c7f312-f587-40a1-f1f1-bea423931206"
      },
      "source": [
        "def print_twinprimes() :\n",
        "  for index in range(2,1000) :\n",
        "    next_num = index + 2;\n",
        "    if(is_prime(index) and is_prime(next_num)):\n",
        "      print ('%d, %d' % (index, next_num))\n",
        "\n",
        "def is_prime(num) :\n",
        "  for index in range(2, num) :\n",
        "    if(num % index == 0) :\n",
        "      return False\n",
        "  return True\n",
        "\n",
        "print_twinprimes()"
      ],
      "execution_count": 13,
      "outputs": [
        {
          "output_type": "stream",
          "text": [
            "3, 5\n",
            "5, 7\n",
            "11, 13\n",
            "17, 19\n",
            "29, 31\n",
            "41, 43\n",
            "59, 61\n",
            "71, 73\n",
            "101, 103\n",
            "107, 109\n",
            "137, 139\n",
            "149, 151\n",
            "179, 181\n",
            "191, 193\n",
            "197, 199\n",
            "227, 229\n",
            "239, 241\n",
            "269, 271\n",
            "281, 283\n",
            "311, 313\n",
            "347, 349\n",
            "419, 421\n",
            "431, 433\n",
            "461, 463\n",
            "521, 523\n",
            "569, 571\n",
            "599, 601\n",
            "617, 619\n",
            "641, 643\n",
            "659, 661\n",
            "809, 811\n",
            "821, 823\n",
            "827, 829\n",
            "857, 859\n",
            "881, 883\n"
          ],
          "name": "stdout"
        }
      ]
    },
    {
      "cell_type": "markdown",
      "metadata": {
        "id": "HSNBLxeWOhlB"
      },
      "source": [
        "3. Write a program to find out the prime factors of a number. Example: prime factors of 56 -\n",
        "2, 2, 2, 7"
      ]
    },
    {
      "cell_type": "code",
      "metadata": {
        "colab": {
          "base_uri": "https://localhost:8080/"
        },
        "id": "QJtGkwaOOlV_",
        "outputId": "9f9dc4a1-4d36-461b-ff02-74ffc9ac8a5a"
      },
      "source": [
        "##referenced https://www.geeksforgeeks.org/print-all-prime-factors-of-a-given-number/ link for few steps.\n",
        "import math\n",
        "def print_primefactors(num) :\n",
        "  while num % 2 == 0 :\n",
        "    print('2')\n",
        "    num = int(num/2)\n",
        "  for index in range(3, int(math.sqrt(num))+1,2) :\n",
        "    while num % index == 0:\n",
        "      print(index)\n",
        "      num = int(num/index)\n",
        "  if(num > 2):\n",
        "    print(num)\n",
        "\n",
        "num = int(input(\"enter any number: \"))\n",
        "print_primefactors(num)"
      ],
      "execution_count": 40,
      "outputs": [
        {
          "output_type": "stream",
          "text": [
            "enter any number: 88\n",
            "2\n",
            "2\n",
            "2\n",
            "11\n"
          ],
          "name": "stdout"
        }
      ]
    },
    {
      "cell_type": "markdown",
      "metadata": {
        "id": "dksal-r6WLfn"
      },
      "source": [
        "4. Write a program to implement these formulae of permutations and combinations.\n",
        "Number of permutations of n objects taken r at a time: p(n, r) = n! / (n-r)!. Number of combinations of n objects taken r at a time is: c(n, r) = n! / (r!*(n-r)!) = p(n,r) / r!"
      ]
    },
    {
      "cell_type": "code",
      "metadata": {
        "colab": {
          "base_uri": "https://localhost:8080/"
        },
        "id": "LYw3yaisWQJw",
        "outputId": "e1807288-347d-48f2-c163-b4afa267aba9"
      },
      "source": [
        "def get_factorial(num) :\n",
        "  result = 1\n",
        "  for index in range(1, num+1) :\n",
        "    result = result*index\n",
        "  return result\n",
        "\n",
        "def get_numOfPermutations(num, r):\n",
        "  print(\"Number of Permutations of %d objects taken %d at a time:\" % (num, r))\n",
        "  print(int(get_factorial(num) / get_factorial(num - r)))\n",
        "\n",
        "def get_numOfCombinations(num, r):\n",
        "  print(\"Number of Combinations of %d objects taken %d at a time:\" % (num, r))\n",
        "  print(int( get_factorial(num) / ( get_factorial(r) * get_factorial(num-r) )))\n",
        "\n",
        "get_numOfPermutations(10,3)\n",
        "get_numOfCombinations(10,3)"
      ],
      "execution_count": 49,
      "outputs": [
        {
          "output_type": "stream",
          "text": [
            "Number of Permutations of 10 objects taken 3 at a time:\n",
            "720\n",
            "Number of Combinations of 10 objects taken 3 at a time:\n",
            "120\n"
          ],
          "name": "stdout"
        }
      ]
    },
    {
      "cell_type": "markdown",
      "metadata": {
        "id": "Sb4NQkX7av9x"
      },
      "source": [
        "5. Write a function that converts a decimal number to binary number"
      ]
    },
    {
      "cell_type": "code",
      "metadata": {
        "colab": {
          "base_uri": "https://localhost:8080/"
        },
        "id": "LgVTiqxBayn8",
        "outputId": "682465a1-4020-4d6d-ef5a-9fdf9f742274"
      },
      "source": [
        "def get_binary(num):\n",
        "  if(num > 1):\n",
        "    get_binary(num // 2)\n",
        "  print(num % 2, end = '')\n",
        "\n",
        "num = int(input(\"enter any number: \"))\n",
        "get_binary(num)"
      ],
      "execution_count": 53,
      "outputs": [
        {
          "output_type": "stream",
          "text": [
            "enter any number: 56\n",
            "111000"
          ],
          "name": "stdout"
        }
      ]
    },
    {
      "cell_type": "markdown",
      "metadata": {
        "id": "J0YD0PstdBxu"
      },
      "source": [
        "6. Write a function cubesum() that accepts an integer and returns the sum of the cubes of\n",
        "individual digits of that number. Use this function to make functions PrintArmstrong() and\n",
        "isArmstrong() to print Armstrong numbers and to find whether is an Armstrong number.\n"
      ]
    },
    {
      "cell_type": "code",
      "metadata": {
        "id": "pGcZZyY7dE3H"
      },
      "source": [
        "def cubesum():\n",
        "  num = int(input(\"enter any number: \"))\n",
        "  temp = num\n",
        "  sum = 0\n",
        "  while(temp > 0) :\n",
        "    num1 = temp % 10\n",
        "    sum += num1 ** 3\n",
        "    temp //= 10\n",
        "  return sum\n",
        "\n",
        "def PrintArmstrong() :\n",
        "  armstrong = cubesum()\n",
        "  isArmstrong()\n",
        "def isArmstrong() :\n"
      ],
      "execution_count": null,
      "outputs": []
    }
  ]
}