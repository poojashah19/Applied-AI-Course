{
  "nbformat": 4,
  "nbformat_minor": 0,
  "metadata": {
    "kernelspec": {
      "display_name": "Python 3",
      "language": "python",
      "name": "python3"
    },
    "language_info": {
      "codemirror_mode": {
        "name": "ipython",
        "version": 3
      },
      "file_extension": ".py",
      "mimetype": "text/x-python",
      "name": "python",
      "nbconvert_exporter": "python",
      "pygments_lexer": "ipython3",
      "version": "3.6.8"
    },
    "colab": {
      "name": "1.Python Assignment.ipynb",
      "provenance": [],
      "collapsed_sections": [],
      "include_colab_link": true
    }
  },
  "cells": [
    {
      "cell_type": "markdown",
      "metadata": {
        "id": "view-in-github",
        "colab_type": "text"
      },
      "source": [
        "<a href=\"https://colab.research.google.com/github/poojashah19/Applied-AI-Course/blob/main/Assignment%203/1_Python_Assignment.ipynb\" target=\"_parent\"><img src=\"https://colab.research.google.com/assets/colab-badge.svg\" alt=\"Open In Colab\"/></a>"
      ]
    },
    {
      "cell_type": "markdown",
      "metadata": {
        "id": "l0ZzOlyxB-kf"
      },
      "source": [
        "<h1>Python: without numpy or sklearn </h1>"
      ]
    },
    {
      "cell_type": "markdown",
      "metadata": {
        "id": "C0xO8JV9B-ki"
      },
      "source": [
        "<h3> Q1: Given two matrices please print the product of those two matrices </h3>\n",
        "<pre>\n",
        "\n",
        "Ex 1: A   = [[1 3 4]\n",
        "             [2 5 7]\n",
        "             [5 9 6]]\n",
        "      B   = [[1 0 0]\n",
        "             [0 1 0]\n",
        "             [0 0 1]]\n",
        "      A*B = [[1 3 4]\n",
        "             [2 5 7]\n",
        "             [5 9 6]]\n",
        "\n",
        "     \n",
        "Ex 2: A   = [[1 2]\n",
        "             [3 4]]\n",
        "      B   = [[1 2 3 4 5]\n",
        "             [5 6 7 8 9]]\n",
        "      A*B = [[11 14 17 20 23]\n",
        "             [23 30 36 42 51]]\n",
        "             \n",
        "Ex 3: A   = [[1 2]\n",
        "             [3 4]]\n",
        "      B   = [[1 4]\n",
        "             [5 6]\n",
        "             [7 8]\n",
        "             [9 6]]\n",
        "      A*B =Not possible\n",
        "</pre>"
      ]
    },
    {
      "cell_type": "code",
      "metadata": {
        "id": "rnssAfpgB-kj",
        "colab": {
          "base_uri": "https://localhost:8080/"
        },
        "outputId": "1b00e48e-3598-42ba-9722-eba739398477"
      },
      "source": [
        "# write your python code here\n",
        "# you can take the above example as sample input for your program to test\n",
        "# it should work for any general input try not to hard code for only given input examples\n",
        "\n",
        "\n",
        "# you can free to change all these codes/structure\n",
        "# here A and B are list of lists\n",
        "def matrix_mul(A, B):\n",
        "    # write your code\n",
        "    matrix_result = [[0 for col in range(len(B[0]))] for row in range(len(A[0]))]\n",
        "    \n",
        "    for index in range(len(A)):\n",
        "      for jindex in range(len(B[0])):\n",
        "        for kindex in range(len(B)):\n",
        "          matrix_result[index][jindex] += A[index][kindex] * B[kindex][jindex]\n",
        "    return(matrix_result)\n",
        "\n",
        "A   = [[1, 2],\n",
        "      [3, 4]]\n",
        "B   = [[1, 2, 3, 4],\n",
        "      [5, 6, 7, 8]]\n",
        "\n",
        "if(len(A[0]) != len(B)):\n",
        "  print('A*B is not possible')\n",
        "else:\n",
        "  print('A*B is possible')\n",
        "  print(matrix_mul(A,B))"
      ],
      "execution_count": null,
      "outputs": [
        {
          "output_type": "stream",
          "text": [
            "A*B is possible\n",
            "[[11, 14, 17, 20], [23, 30, 37, 44]]\n"
          ],
          "name": "stdout"
        }
      ]
    },
    {
      "cell_type": "markdown",
      "metadata": {
        "id": "at4VwLggB-kn"
      },
      "source": [
        "<h3> Q2: Select a number randomly with probability proportional to its magnitude from the given array of n elements</h3>\n",
        "\n",
        "consider an experiment, selecting an element from the list A randomly with probability proportional to its magnitude.\n",
        "assume we are doing the same experiment for 100 times with replacement, in each experiment you will print a number that is selected randomly from A.\n",
        "\n",
        "<pre>\n",
        "Ex 1: A = [0 5 27 6 13 28 100 45 10 79]\n",
        "let f(x) denote the number of times x getting selected in 100 experiments.\n",
        "f(100) > f(79) > f(45) > f(28) > f(27) > f(13) > f(10) > f(6) > f(5) > f(0)\n",
        "</pre>"
      ]
    },
    {
      "cell_type": "code",
      "metadata": {
        "id": "B6S2dpBhB-kn",
        "colab": {
          "base_uri": "https://localhost:8080/"
        },
        "outputId": "57acac62-d49c-4a8b-8e3e-f442177477d8"
      },
      "source": [
        "from random import uniform\n",
        "# write your python code here\n",
        "# you can take the above example as sample input for your program to test\n",
        "# it should work for any general input try not to hard code for only given input examples\n",
        "\n",
        "\n",
        "# you can free to change all these codes/structure\n",
        "def pick_a_number_from_list(A):\n",
        "    # your code here for picking an element from with the probability propotional to its magnitude\n",
        "\n",
        "    sum = 0\n",
        "    for index in range(len(A)):\n",
        "      sum += A[index]\n",
        "\n",
        "    ## cumulative sum of all the elements\n",
        "    cum_sum = []\n",
        "    cum_sum.append(A[0]/sum)\n",
        "\n",
        "    for index in range(1,len(A)):\n",
        "      cum_sum.append(cum_sum[index-1] + (A[index]/sum))\n",
        "\n",
        "    rand_num = uniform(0.0, 1.0)\n",
        "\n",
        "    for index in range(len(cum_sum)):\n",
        "      if(rand_num <= cum_sum[index]):\n",
        "        return A[index]\n",
        "    return 0\n",
        "\n",
        "def sampling_based_on_magnitued():\n",
        "  A = [0, 5, 27, 6, 13, 28, 100, 45, 10, 79]\n",
        "  # number = pick_a_number_from_list(A)\n",
        "  # print(number)\n",
        "  output = []\n",
        "  for i in range(1,100):\n",
        "    output.append(pick_a_number_from_list(A))\n",
        "  \n",
        "  print(output)\n",
        "\n",
        "sampling_based_on_magnitued()"
      ],
      "execution_count": null,
      "outputs": [
        {
          "output_type": "stream",
          "text": [
            "[45, 27, 10, 10, 45, 6, 79, 45, 100, 100, 28, 10, 79, 79, 45, 100, 100, 79, 79, 100, 27, 100, 5, 27, 45, 13, 79, 100, 100, 79, 100, 27, 79, 28, 27, 100, 45, 45, 45, 28, 79, 79, 28, 100, 100, 27, 79, 13, 100, 79, 79, 100, 79, 27, 79, 100, 28, 79, 45, 45, 100, 79, 79, 10, 45, 100, 45, 79, 100, 45, 100, 28, 100, 100, 100, 100, 10, 45, 45, 100, 79, 100, 100, 28, 100, 27, 100, 79, 6, 79, 79, 27, 79, 27, 79, 100, 79, 13, 100]\n"
          ],
          "name": "stdout"
        }
      ]
    },
    {
      "cell_type": "markdown",
      "metadata": {
        "id": "D1xQy2WWB-kq"
      },
      "source": [
        "<h3> Q3: Replace the digits in the string with #</h3>\n",
        "\n",
        "consider a string that will have digits in that, we need to remove all the not digits and replace the digits with #\n",
        "<pre>\n",
        "Ex 1: A = 234                Output: ###\n",
        "Ex 2: A = a2b3c4             Output: ###\n",
        "Ex 3: A = abc                Output:   (empty string)\n",
        "Ex 5: A = #2a$#b%c%561#      Output: ####\n",
        "</pre>"
      ]
    },
    {
      "cell_type": "code",
      "metadata": {
        "id": "fxczi2jzB-kr",
        "colab": {
          "base_uri": "https://localhost:8080/"
        },
        "outputId": "927d07e9-4e25-468f-abe0-3f6ac1c42f8f"
      },
      "source": [
        "import re\n",
        "# write your python code here\n",
        "# you can take the above example as sample input for your program to test\n",
        "# it should work for any general input try not to hard code for only given input examples\n",
        "\n",
        "# you can free to change all these codes/structure\n",
        "# String: it will be the input to your program\n",
        "def replace_digits(String):\n",
        "    # write your code\n",
        "\n",
        "    for s in String:\n",
        "      if(s.isdigit()):\n",
        "        String = String.replace(s,'#',1)\n",
        "      else:\n",
        "        String = String.replace(s,'',1)\n",
        "    return(String) \n",
        "    # modified string which is after replacing the # with digits\n",
        "\n",
        "String = input(\"Enter any string:\")\n",
        "print(replace_digits(String))"
      ],
      "execution_count": null,
      "outputs": [
        {
          "output_type": "stream",
          "text": [
            "Enter any string:sgj6w47v2\n",
            "####\n"
          ],
          "name": "stdout"
        }
      ]
    },
    {
      "cell_type": "markdown",
      "metadata": {
        "id": "j7h0Ywg7B-kw"
      },
      "source": [
        "<h3> Q4: Students marks dashboard</h3>\n",
        "\n",
        "consider the marks list of class students given two lists <br>\n",
        "Students = ['student1','student2','student3','student4','student5','student6','student7','student8','student9','student10'] <br>\n",
        "Marks = [45, 78, 12, 14, 48, 43, 45, 98, 35, 80] <br>\n",
        "from the above two lists the Student[0] got Marks[0],  Student[1] got Marks[1] and so on <br><br>\n",
        "your task is to print the name of students\n",
        "<strong>a. Who got top 5 ranks, in the descending order of marks</strong> <br>\n",
        "<strong>b. Who got least 5 ranks, in the increasing order of marks</strong><br>\n",
        "<strong>d. Who got marks between  &gt;25th percentile &lt;75th percentile, in the increasing order of marks</strong>\n",
        "\n",
        "<pre>\n",
        "Ex 1: \n",
        "Students=['student1','student2','student3','student4','student5','student6','student7','student8','student9','student10'] \n",
        "Marks = [45, 78, 12, 14, 48, 43, 47, 98, 35, 80]\n",
        "a. \n",
        "student8  98\n",
        "student10 80\n",
        "student2  78\n",
        "student5  48\n",
        "student7  47\n",
        "b.\n",
        "student3 12\n",
        "student4 14\n",
        "student9 35\n",
        "student6 43\n",
        "student1 45\n",
        "c.\n",
        "student9 35\n",
        "student6 43\n",
        "student1 45\n",
        "student7 47\n",
        "student5 48\n",
        "</pre>"
      ]
    },
    {
      "cell_type": "code",
      "metadata": {
        "id": "cxPJgItsB-kx",
        "colab": {
          "base_uri": "https://localhost:8080/"
        },
        "outputId": "aedd3061-89c7-4df5-e469-997813356412"
      },
      "source": [
        "# write your python code here\n",
        "# you can take the above example as sample input for your program to test\n",
        "# it should work for any general input try not to hard code for only given input examples\n",
        "\n",
        "# you can free to change all these codes/structure\n",
        "\n",
        "### referred https://www.geeksforgeeks.org/python-ways-to-sort-a-zipped-list-by-values/ for zipping lists\n",
        "def display_dash_board(students, marks):\n",
        "\n",
        "  min_value = min(marks)\n",
        "  max_value = max(marks)\n",
        "  # write code for computing top top 5 students\n",
        "  temp = zip(marks, students)\n",
        "  temp = list(temp)\n",
        "  temp.sort(reverse=True)\n",
        "  \n",
        "  top_5_students = temp[:5]\n",
        "    # write code for computing top least 5 students\n",
        "  least_5_students = sorted(temp[-5:])\n",
        "    # write code for computing top least 5 students\n",
        "  percentile = [ float(value - min_value) / (max_value - min_value) * 100 for value in marks ]\n",
        "  percentile.sort()\n",
        "  students_within_25_and_75 = []\n",
        "\n",
        "  for index in range(len(percentile)):\n",
        "    if(percentile[index] > 25 and percentile[index] < 75):\n",
        "      students_within_25_and_75.append(students[index] + ' ' + str(marks[index]))\n",
        "    \n",
        "  return top_5_students, least_5_students, students_within_25_and_75\n",
        "\n",
        "students=['student1','student2','student3','student4','student5','student6','student7','student8','student9','student10'] \n",
        "marks = [45, 78, 12, 14, 48, 43, 47, 98, 35, 80]\n",
        "top_5_students, least_5_students, students_within_25_and_75 = display_dash_board(students, marks)\n",
        "print(top_5_students, least_5_students, students_within_25_and_75)"
      ],
      "execution_count": 35,
      "outputs": [
        {
          "output_type": "stream",
          "text": [
            "[(98, 'student8'), (80, 'student10'), (78, 'student2'), (48, 'student5'), (47, 'student7')] [(12, 'student3'), (14, 'student4'), (35, 'student9'), (43, 'student6'), (45, 'student1')] ['student3 12', 'student4 14', 'student5 48', 'student6 43', 'student7 47']\n"
          ],
          "name": "stdout"
        }
      ]
    },
    {
      "cell_type": "markdown",
      "metadata": {
        "id": "qha0OhQHB-k1"
      },
      "source": [
        "<h3> Q5: Find the closest points</h3>\n",
        "\n",
        "consider you have given n data points in the form of list of tuples like S=[(x1,y1),(x2,y2),(x3,y3),(x4,y4),(x5,y5),..,(xn,yn)] and a point P=(p,q) <br> your task is to find 5 closest points(based on cosine distance) in S from P\n",
        "<br>cosine distance between two points (x,y) and (p,q) is defind as $cos^{-1}(\\frac{(x\\cdot p+y\\cdot q)}{\\sqrt(x^2+y^2)\\cdot\\sqrt(p^2+q^2)})$\n",
        "<pre>\n",
        "Ex:\n",
        "\n",
        "S= [(1,2),(3,4),(-1,1),(6,-7),(0, 6),(-5,-8),(-1,-1)(6,0),(1,-1)]\n",
        "P= (3,-4)\n",
        "<img src='https://i.imgur.com/vIFPOcG.jpg', width=300>\n",
        "Output:\n",
        "(6,-7)\n",
        "(1,-1)\n",
        "(6,0)\n",
        "(-5,-8)\n",
        "(-1,-1)\n",
        "</pre>"
      ]
    },
    {
      "cell_type": "code",
      "metadata": {
        "id": "wA5I1g-2B-k2",
        "colab": {
          "base_uri": "https://localhost:8080/"
        },
        "outputId": "e67014c6-575f-4e3f-aac2-ff8c1d6876c1"
      },
      "source": [
        "import math\n",
        "\n",
        "# write your python code here\n",
        "# you can take the above example as sample input for your program to test\n",
        "# it should work for any general input try not to hard code for only given input examples\n",
        "# you can free to change all these codes/structure\n",
        "\n",
        "\n",
        "# here S is list of tuples and P is a tuple ot len=2\n",
        "def closest_points_to_p(S, P):\n",
        "    # write your code here\n",
        "    distance = []\n",
        "    for element in S:\n",
        "      cos_dist = math.acos( ( (element[0]*P[0]) + (element[1]*P[1]) ) / ( (math.sqrt(element[0]**2 + element[1]**2)) * (math.sqrt(P[0]**2 + P[1]**2)) ) )\n",
        "      distance.append(cos_dist)\n",
        "\n",
        "    zipped = zip(distance, S)\n",
        "    zipped = list(zipped)\n",
        "    zipped.sort()\n",
        "\n",
        "    result = zipped[:5]\n",
        "    dist, closest_points_to_p = zip(*result)\n",
        "    return closest_points_to_p  # its list of tuples\n",
        "\n",
        "S= [(1,2),(3,4),(-1,1),(6,-7),(0, 6),(-5,-8),(-1,-1),(6,0),(1,-1)]\n",
        "P= (3,-4)\n",
        "points = closest_points_to_p(S, P)\n",
        "print(points) #print the returned values"
      ],
      "execution_count": 48,
      "outputs": [
        {
          "output_type": "stream",
          "text": [
            "((6, -7), (1, -1), (6, 0), (-5, -8), (-1, -1))\n"
          ],
          "name": "stdout"
        }
      ]
    },
    {
      "cell_type": "markdown",
      "metadata": {
        "id": "-g11jeAiB-k5"
      },
      "source": [
        "<h3> Q6: Find Which line separates oranges and apples</h3>\n",
        "consider you have given two set of data points in the form of list of tuples like \n",
        "<pre>\n",
        "Red =[(R11,R12),(R21,R22),(R31,R32),(R41,R42),(R51,R52),..,(Rn1,Rn2)]\n",
        "Blue=[(B11,B12),(B21,B22),(B31,B32),(B41,B42),(B51,B52),..,(Bm1,Bm2)]\n",
        "</pre>\n",
        "and set of line equations(in the string formate, i.e list of strings)\n",
        "<pre>\n",
        "Lines = [a1x+b1y+c1,a2x+b2y+c2,a3x+b3y+c3,a4x+b4y+c4,..,K lines]\n",
        "Note: you need to string parsing here and get the coefficients of x,y and intercept\n",
        "</pre>\n",
        "your task is to for each line that is given print \"YES\"/\"NO\", you will print yes, if all the red points are one side of the line and blue points are other side of the line, otherwise no\n",
        "<pre>\n",
        "Ex:\n",
        "Red= [(1,1),(2,1),(4,2),(2,4), (-1,4)]\n",
        "Blue= [(-2,-1),(-1,-2),(-3,-2),(-3,-1),(1,-3)]\n",
        "Lines=[\"1x+1y+0\",\"1x-1y+0\",\"1x+0y-3\",\"0x+1y-0.5\"]\n",
        "<img src='https://i.imgur.com/DoQf7mE.jpg' width=400>\n",
        "Output:\n",
        "YES\n",
        "NO\n",
        "NO\n",
        "YES\n",
        "</pre>"
      ]
    },
    {
      "cell_type": "code",
      "metadata": {
        "id": "eRxExaTRB-k6",
        "colab": {
          "base_uri": "https://localhost:8080/"
        },
        "outputId": "6dfda4c1-4e96-424f-81ca-023399524fe0"
      },
      "source": [
        "import math\n",
        "import re\n",
        "# write your python code here\n",
        "# you can take the above example as sample input for your program to test\n",
        "# it should work for any general input try not to hard code for only given input strings\n",
        "\n",
        "\n",
        "# you can free to change all these codes/structure\n",
        "def i_am_the_one(red,blue,line):\n",
        "    # your code\n",
        "\n",
        "    X = re.findall('[+-]?\\d+\\.?\\d*', line)\n",
        "\n",
        "    red_dist = []\n",
        "    for i in range(len(red)):\n",
        "      dist = ( float(X[0])*red[i][0] + float(X[1])*red[i][1] + float(X[2]) ) / ( math.sqrt( float(X[0])**2 + float(X[1])**2 ) )\n",
        "      red_dist.append(dist)\n",
        "\n",
        "    blue_dist = []\n",
        "    for i in range(len(red)):\n",
        "      dist = ( float(X[0])*blue[i][0] + float(X[1])*blue[i][1] + float(X[2]) ) / ( math.sqrt( float(X[0])**2 + float(X[1])**2 ) )\n",
        "      blue_dist.append(dist)\n",
        "\n",
        "    if( (all(i >= 0 for i in red_dist) and all(i <= 0 for i in blue_dist)) or (all(i <= 0 for i in red_dist) and all(i >= 0 for i in blue_dist)) ):\n",
        "      return 'YES'\n",
        "    else:\n",
        "      return 'NO'\n",
        "\n",
        "Red= [(1,1),(2,1),(4,2),(2,4), (-1,4)]\n",
        "Blue= [(-2,-1),(-1,-2),(-3,-2),(-3,-1),(1,-3)]\n",
        "Lines=[\"1x+1y+0\",\"1x-1y+0\",\"1x+0y-3\",\"0x+1y-0.5\"]\n",
        "\n",
        "for i in Lines:\n",
        "    yes_or_no = i_am_the_one(Red, Blue, i)\n",
        "    print(yes_or_no) # the returned value"
      ],
      "execution_count": 103,
      "outputs": [
        {
          "output_type": "stream",
          "text": [
            "['1', '+1', '+0']\n",
            "YES\n",
            "['1', '-1', '+0']\n",
            "NO\n",
            "['1', '+0', '-3']\n",
            "NO\n",
            "['0', '+1', '-0.5']\n",
            "YES\n"
          ],
          "name": "stdout"
        }
      ]
    },
    {
      "cell_type": "markdown",
      "metadata": {
        "id": "9OBpURbNB-k9"
      },
      "source": [
        "<h3> Q7: Filling the missing values in the specified formate</h3>\n",
        "You will be given a string with digits and '\\_'(missing value) symbols you have to replace the '\\_' symbols as explained \n",
        "<pre>\n",
        "Ex 1: _, _, _, 24 ==> 24/4, 24/4, 24/4, 24/4 i.e we. have distributed the 24 equally to all 4 places <br>\n",
        "Ex 2: 40, _, _, _, 60 ==> (60+40)/5,(60+40)/5,(60+40)/5,(60+40)/5,(60+40)/5 ==> 20, 20, 20, 20, 20 i.e. the sum of (60+40) is distributed qually to all 5 places<br>\n",
        "Ex 3: 80, _, _, _, _  ==> 80/5,80/5,80/5,80/5,80/5 ==> 16, 16, 16, 16, 16 i.e. the 80 is distributed qually to all 5 missing values that are right to it<br>\n",
        "Ex 4: _, _, 30, _, _, _, 50, _, _  \n",
        "==> we will fill the missing values from left to right \n",
        "    a. first we will distribute the 30 to left two missing values (10, 10, 10, _, _, _, 50, _, _)\n",
        "    b. now distribute the sum (10+50) missing values in between (10, 10, 12, 12, 12, 12, 12, _, _) \n",
        "    c. now we will distribute 12 to right side missing values (10, 10, 12, 12, 12, 12, 4, 4, 4)\n",
        "</pre>\n",
        "for a given string with comma seprate values, which will have both missing values numbers like ex: \"_, _, x, _, _, _\"\n",
        "you need fill the missing values\n",
        "\n",
        "Q: your program reads a string like ex: \"_, _, x, _, _, _\" and returns the filled sequence\n",
        "\n",
        "Ex: \n",
        "<pre>\n",
        "Input1: \"_,_,_,24\"\n",
        "Output1: 6,6,6,6\n",
        "\n",
        "Input2: \"40,_,_,_,60\"\n",
        "Output2: 20,20,20,20,20\n",
        "\n",
        "Input3: \"80,_,_,_,_\"\n",
        "Output3: 16,16,16,16,16\n",
        "\n",
        "Input4: \"_,_,30,_,_,_,50,_,_\"\n",
        "Output4: 10,10,12,12,12,12,4,4,4\n",
        "</pre>\n",
        "\n"
      ]
    },
    {
      "cell_type": "code",
      "metadata": {
        "id": "nZmpzHs_B-k-",
        "colab": {
          "base_uri": "https://localhost:8080/"
        },
        "outputId": "d7842fdf-3f66-4fc3-cf50-e08ab67d921c"
      },
      "source": [
        "# write your python code here\n",
        "# you can take the above example as sample input for your program to test\n",
        "# it should work for any general input try not to hard code for only given input strings\n",
        "\n",
        "\n",
        "# you can free to change all these codes/structure\n",
        "def curve_smoothing(s):\n",
        "    # your code\n",
        "    my_list = [int(e) if e.isdigit()\n",
        "    else e for e in s.split(',')]\n",
        "    print(my_list)\n",
        "   \n",
        "    g = [i for i, n in enumerate(s.split(',')) if n.isdigit()]\n",
        "    print(g)\n",
        "   \n",
        "    if(len(g)==1):\n",
        "        temp=my_list[g[0]]\n",
        "        for i in range(len(my_list)):\n",
        "            my_list[i] = temp//len(my_list)\n",
        "   \n",
        "    if(len(g)>1 and g[0]!=0):\n",
        "        temp = my_list[g[0]]\n",
        "        for i in range(0,g[0]+1):\n",
        "            my_list[i] = temp//(g[0]+1)\n",
        "           \n",
        "    for i in range(len(g)-1):\n",
        "        index1=g[i]\n",
        "        index2=g[i+1]\n",
        "        temp1=my_list[index1]\n",
        "        temp2=my_list[index2]\n",
        "        for j in range(index1,index2+1):\n",
        "            my_list[j]=(temp1+temp2)//(index2+1-index1)\n",
        "   \n",
        "   \n",
        "    if(len(g)>1 and (g[len(g) -1]!=len(my_list)-1)):\n",
        "        temp = my_list[g[len(g) -1]]\n",
        "        diff = len(my_list)-g[len(g) -1]\n",
        "        for i in range(g[len(g) -1],len(my_list)):\n",
        "            my_list[i] = temp//(diff)\n",
        "    return my_list\n",
        "\n",
        "S=  \"40,_,_,_,60\"\n",
        "smoothed_values= curve_smoothing(S)\n",
        "print(smoothed_values)"
      ],
      "execution_count": 130,
      "outputs": [
        {
          "output_type": "stream",
          "text": [
            "[40, '_', '_', '_', 60]\n",
            "[0, 4]\n",
            "[20, 20, 20, 20, 20]\n"
          ],
          "name": "stdout"
        }
      ]
    },
    {
      "cell_type": "markdown",
      "metadata": {
        "id": "RBz4pzlfB-lB"
      },
      "source": [
        "<h3> Q8: Filling the missing values in the specified formate</h3>\n",
        "You will be given a list of lists, each sublist will be of length 2 i.e. [[x,y],[p,q],[l,m]..[r,s]]\n",
        "consider its like a martrix of n rows and two columns\n",
        "1. the first column F will contain only 5 uniques values (F1, F2, F3, F4, F5)\n",
        "2. the second column S will contain only 3 uniques values (S1, S2, S3)\n",
        "<pre>\n",
        "your task is to find\n",
        "a. Probability of P(F=F1|S==S1), P(F=F1|S==S2), P(F=F1|S==S3)\n",
        "b. Probability of P(F=F2|S==S1), P(F=F2|S==S2), P(F=F2|S==S3)\n",
        "c. Probability of P(F=F3|S==S1), P(F=F3|S==S2), P(F=F3|S==S3)\n",
        "d. Probability of P(F=F4|S==S1), P(F=F4|S==S2), P(F=F4|S==S3)\n",
        "e. Probability of P(F=F5|S==S1), P(F=F5|S==S2), P(F=F5|S==S3)\n",
        "</pre>\n",
        "Ex:\n",
        "\n",
        "<pre>\n",
        "[[F1,S1],[F2,S2],[F3,S3],[F1,S2],[F2,S3],[F3,S2],[F2,S1],[F4,S1],[F4,S3],[F5,S1]]\n",
        "\n",
        "a. P(F=F1|S==S1)=1/4, P(F=F1|S==S2)=1/3, P(F=F1|S==S3)=0/3\n",
        "b. P(F=F2|S==S1)=1/4, P(F=F2|S==S2)=1/3, P(F=F2|S==S3)=1/3\n",
        "c. P(F=F3|S==S1)=0/4, P(F=F3|S==S2)=1/3, P(F=F3|S==S3)=1/3\n",
        "d. P(F=F4|S==S1)=1/4, P(F=F4|S==S2)=0/3, P(F=F4|S==S3)=1/3\n",
        "e. P(F=F5|S==S1)=1/4, P(F=F5|S==S2)=0/3, P(F=F5|S==S3)=0/3\n",
        "</pre>\n",
        "\n",
        "\n"
      ]
    },
    {
      "cell_type": "code",
      "metadata": {
        "id": "e-1giz1MB-lC",
        "colab": {
          "base_uri": "https://localhost:8080/"
        },
        "outputId": "b4e876fb-119b-4445-ce48-f970736142e6"
      },
      "source": [
        "from collections import Counter\n",
        "from fractions import Fraction\n",
        "## referred https://www.journaldev.com/20806/python-counter-python-collections-counter for counter example\n",
        "# write your python code here\n",
        "# you can take the above example as sample input for your program to test\n",
        "# it should work for any general input try not to hard code for only given input strings\n",
        "\n",
        "\n",
        "\n",
        "# you can free to change all these codes/structure\n",
        "def compute_conditional_probabilites(A):\n",
        "    # your code\n",
        "\n",
        "    unique_S = [ list(element) for element in Counter ( element for _, element in A ).items() ]\n",
        "\n",
        "    unique_F = []\n",
        "    for item in A:\n",
        "      if item[0] not in unique_F:\n",
        "        unique_F.append(item[0])\n",
        "\n",
        "    main_list = []\n",
        "    for i in unique_F:\n",
        "      for j in unique_S:\n",
        "        temp = []\n",
        "        temp.append(i)\n",
        "        temp.append(j[0])\n",
        "        main_list.append(temp)\n",
        "\n",
        "    temp = {}\n",
        "    for i in unique_S:\n",
        "      key, value = i[0], i[1]\n",
        "      temp[key] = value\n",
        "\n",
        "    for i in main_list:\n",
        "      if(any(i in main_list for i in A)):\n",
        "        occurences = A.count(i)\n",
        "        probOfIntersection = occurences/len(A)\n",
        "        print()\n",
        "        probOfDeno = temp[i[1]]/len(A)\n",
        "        if(occurences == 0):\n",
        "          result = str(occurences)+'/'+str(temp[i[1]])\n",
        "        elif(temp[i[1]] % occurences == 0):\n",
        "          result = (occurences/len(A))/(temp[i[1]]/len(A))\n",
        "          decimal = str(result)[::-1].find('.')\n",
        "          if(decimal <= 2):\n",
        "            result = Fraction(str(result))\n",
        "          else:\n",
        "            result = str(occurences)+'/'+str(temp[i[1]])\n",
        "        else:\n",
        "          result = str(occurences)+'/'+str(temp[i[1]])        \n",
        "        print('P(F=',i[0] ,'|S==' ,i[1] ,')=' ,result)\n",
        "        \n",
        "    # print the output as per the instructions\n",
        "\n",
        "A = [['F1','S1'],['F2','S2'],['F3','S3'],['F1','S2'],['F2','S3'],['F3','S2'],['F2','S1'],['F4','S1'],['F4','S3'],['F5','S1']]\n",
        "\n",
        "compute_conditional_probabilites(A)"
      ],
      "execution_count": 202,
      "outputs": [
        {
          "output_type": "stream",
          "text": [
            "\n",
            "P(F= F1 |S== S1 )= 1/4\n",
            "\n",
            "P(F= F1 |S== S2 )= 1/3\n",
            "\n",
            "P(F= F1 |S== S3 )= 0/3\n",
            "\n",
            "P(F= F2 |S== S1 )= 1/4\n",
            "\n",
            "P(F= F2 |S== S2 )= 1/3\n",
            "\n",
            "P(F= F2 |S== S3 )= 1/3\n",
            "\n",
            "P(F= F3 |S== S1 )= 0/4\n",
            "\n",
            "P(F= F3 |S== S2 )= 1/3\n",
            "\n",
            "P(F= F3 |S== S3 )= 1/3\n",
            "\n",
            "P(F= F4 |S== S1 )= 1/4\n",
            "\n",
            "P(F= F4 |S== S2 )= 0/3\n",
            "\n",
            "P(F= F4 |S== S3 )= 1/3\n",
            "\n",
            "P(F= F5 |S== S1 )= 1/4\n",
            "\n",
            "P(F= F5 |S== S2 )= 0/3\n",
            "\n",
            "P(F= F5 |S== S3 )= 0/3\n"
          ],
          "name": "stdout"
        }
      ]
    },
    {
      "cell_type": "markdown",
      "metadata": {
        "id": "n4HS87QmB-lF"
      },
      "source": [
        "<h3> Q9: Given two sentances S1, S2</h3>\n",
        "You will be given two sentances S1, S2 your task is to find \n",
        "<pre>\n",
        "a. Number of common words between S1, S2\n",
        "b. Words in S1 but not in S2\n",
        "c. Words in S2 but not in S1\n",
        "</pre>\n",
        "\n",
        "Ex: \n",
        "<pre>\n",
        "S1= \"the first column F will contain only 5 uniques values\"\n",
        "S2= \"the second column S will contain only 3 uniques values\"\n",
        "Output:\n",
        "a. 7\n",
        "b. ['first','F','5']\n",
        "c. ['second','S','3']\n",
        "</pre>"
      ]
    },
    {
      "cell_type": "code",
      "metadata": {
        "id": "Ez7hlHK0B-lG"
      },
      "source": [
        "# write your python code here\n",
        "# you can take the above example as sample input for your program to test\n",
        "# it should work for any general input try not to hard code for only given input strings\n",
        "\n",
        "# you can free to change all these codes/structure\n",
        "def string_features(S1, S2):\n",
        "    # your code\n",
        "    return a, b, c\n",
        "\n",
        "S1= \"the first column F will contain only 5 uniques values\"\n",
        "S2= \"the second column S will contain only 3 uniques values\"\n",
        "a,b,c = string_features(S1, S2)\n",
        "print(#the above values)"
      ],
      "execution_count": null,
      "outputs": []
    },
    {
      "cell_type": "markdown",
      "metadata": {
        "id": "XefXVEjCB-lI"
      },
      "source": [
        "<h3> Q10: Given two sentances S1, S2</h3>\n",
        "You will be given a list of lists, each sublist will be of length 2 i.e. [[x,y],[p,q],[l,m]..[r,s]]\n",
        "consider its like a martrix of n rows and two columns\n",
        "\n",
        "a. the first column Y will contain interger values <br>\n",
        "b. the second column $Y_{score}$ will be having float values <br>\n",
        "Your task is to find the value of $f(Y,Y_{score}) = -1*\\frac{1}{n}\\Sigma_{for each Y,Y_{score} pair}(Ylog10(Y_{score})+(1-Y)log10(1-Y_{score}))$ here n is the number of rows in the matrix\n",
        "<pre>\n",
        "Ex:\n",
        "[[1, 0.4], [0, 0.5], [0, 0.9], [0, 0.3], [0, 0.6], [1, 0.1], [1, 0.9], [1, 0.8]]\n",
        "output:\n",
        "0.4243099\n",
        "</pre>\n",
        "$\\frac{-1}{8}\\cdot((1\\cdot log_{10}(0.4)+0\\cdot log_{10}(0.6))+(0\\cdot log_{10}(0.5)+1\\cdot log_{10}(0.5)) + ... + (1\\cdot log_{10}(0.8)+0\\cdot log_{10}(0.2)) )$"
      ]
    },
    {
      "cell_type": "code",
      "metadata": {
        "id": "N9zkagyNB-lJ"
      },
      "source": [
        "# write your python code here\n",
        "# you can take the above example as sample input for your program to test\n",
        "# it should work for any general input try not to hard code for only given input strings\n",
        "\n",
        "\n",
        "# you can free to change all these codes/structure\n",
        "def compute_log_loss(A):\n",
        "    # your code\n",
        "    \n",
        "    return loss\n",
        "\n",
        "A = [[1, 0.4], [0, 0.5], [0, 0.9], [0, 0.3], [0, 0.6], [1, 0.1], [1, 0.9], [1, 0.8]]\n",
        "loss = compute_log_loss(A)\n",
        "print(# the above loss)"
      ],
      "execution_count": null,
      "outputs": []
    }
  ]
}