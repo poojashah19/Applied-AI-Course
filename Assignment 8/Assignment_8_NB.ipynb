{
 "cells": [
  {
   "cell_type": "markdown",
   "metadata": {
    "colab_type": "text",
    "id": "Dnubs-Nnb3cw"
   },
   "source": [
    "# Assignment 8: Apply NB"
   ]
  },
  {
   "cell_type": "markdown",
   "metadata": {
    "colab_type": "text",
    "id": "RW0zYHb5m_wI"
   },
   "source": [
    "<ol>\n",
    "    <li>Minimum data points need to be considered for people having 4GB RAM is <strong>50k</strong> and for 8GB RAM is <strong>100k</strong></li>\n",
    "    <li>When you are using ramdomsearchcv or gridsearchcv you need not split the data into X_train,X_cv,X_test. As the above methods use kfold. The model will learn better if train data is more so splitting to X_train,X_test will suffice.</li>\n",
    "    <li>If you are writing for loops to tune your model then you need split the data into X_train,X_cv,X_test.</li>\n",
    "    <li>While splitting the data explore stratify parameter. </li>\n",
    "    <li><strong>Apply Multinomial NB on these feature sets</strong></li>\n",
    "        <ul>\n",
    "            <li>Features that need to be considered</li> \n",
    "                <dl>\n",
    "                  <dt>essay</dt>\n",
    "                    <dd>while encoding essay, try to experiment with the max_features and n_grams parameter of vectorizers and see if it increases AUC score.</dd>\n",
    "                  <dt>categorical features</dt>\n",
    "                  <dd> - teacher_prefix</dd>\n",
    "                  <dd> - project_grade_category</dd>\n",
    "                  <dd> - school_state</dd>\n",
    "                  <dd> - clean_categories</dd>\n",
    "                  <dd> - clean_subcategories</dd>\n",
    "                  <dt>numerical features</dt>\n",
    "                  <dd> - price</dd>\n",
    "                  <dd> - teacher_number_of_previously_posted_projects</dd>\n",
    "                  <dd>while encoding the numerical features check <a href='https://imgur.com/ldZA1zg'>this</a> and <a href='https://ac-classroom-production.s3.amazonaws.com/public/COMMENT/Annotation_2020-05-21_225912_0lyZzN8.jpg'>this</a></dd>\n",
    "                </dl>    \n",
    "            <li><font color='red'>Set 1</font>: categorical, numerical features + preprocessed_eassay (BOW)</li>\n",
    "            <li><font color='red'>Set 2</font>: categorical, numerical features + preprocessed_eassay (TFIDF)</li>\n",
    "        </ul>\n",
    "    <li><strong>The hyper paramter tuning(find best alpha:smoothing parameter)</strong>\n",
    "        <ul>\n",
    "    <li>Consider alpha values in range: 10^-5 to 10^2 like [0.00001,0.0005, 0.0001,0.005,0.001,0.05,0.01,0.1,0.5,1,5,10,50,100]</li>\n",
    "    <li>Explore class_prior = [0.5, 0.5] parameter which can be present in MultinomialNB function(go through <a href='https://scikit-learn.org/stable/modules/generated/sklearn.naive_bayes.MultinomialNB.html'>this</a> ) then check how results might change.\n",
    "    <li>Find the best hyper parameter which will give the maximum <a href='https://www.appliedaicourse.com/course/applied-ai-course-online/lessons/receiver-operating-characteristic-curve-roc-curve-and-auc-1/'>AUC</a> value</li>\n",
    "    <li>For hyper parameter tuning using k-fold cross validation(use GridsearchCV or RandomsearchCV)/simple cross validation data (write for loop to iterate over hyper parameter values)</li>\n",
    "    <li>You need to plot the performance of model both on train data and cross validation data for each hyper parameter, like shown in the figure\n",
    "    <img src='https://i.imgur.com/hUv6aEy.jpg' width=300px><dd>-while plotting take log(alpha) on your X-axis so that it will be more readable</dd></li>\n",
    "    <li>Once after you found the best hyper parameter, you need to train your model with it, and find the AUC on test data and plot the ROC curve on both train and test.\n",
    "    <img src='https://imgur.com/q2P65L5.jpg' width=300px></li>\n",
    "    <li>Along with plotting ROC curve, you need to print the <a href='https://www.appliedaicourse.com/course/applied-ai-course-online/lessons/confusion-matrix-tpr-fpr-fnr-tnr-1/'>confusion matrix</a> with predicted and original labels of test data points\n",
    "        <img src='https://i.imgur.com/IdN5Ctv.png' width=300px><dd>-plot the confusion matrix in heatmaps, while plotting the confusion matrix go through the <a href='https://stackoverflow.com/questions/61748441/how-to-fix-the-values-displayed-in-a-confusion-matrix-in-exponential-form-to-nor'>link </a>\n",
    "</dd></li>\n",
    "        </ul>\n",
    "<li>find the top 20 features from either from feature <font color='red'>Set 1</font> or feature <font color='red'>Set 2</font> using values of `feature_log_prob_ ` parameter of `MultinomialNB` \n",
    "(https://scikit-learn.org/stable/modules/generated/sklearn.naive_bayes.MultinomialNB.html) and print <strong>BOTH</strong> positive as well as negative corresponding feature names. <dd> - go through the <a href='https://imgur.com/mWvE7gj'>link </a> </dd>\n",
    "    </li>\n",
    "    <li>You need to summarize the results at the end of the notebook, summarize it in the table format\n",
    "        <img src='http://i.imgur.com/YVpIGGE.jpg' width=400px>\n",
    "    </li>\n",
    "</ol>"
   ]
  },
  {
   "cell_type": "markdown",
   "metadata": {
    "colab_type": "text",
    "id": "inzYCIaib3c3"
   },
   "source": [
    "<h1>1. Naive Bayes </h1>"
   ]
  },
  {
   "cell_type": "markdown",
   "metadata": {
    "colab_type": "text",
    "id": "FYqCIxzFb3c5"
   },
   "source": [
    "## 1.1 Loading Data"
   ]
  },
  {
   "cell_type": "code",
   "execution_count": 1,
   "metadata": {},
   "outputs": [],
   "source": [
    "import numpy as np\n",
    "import pandas as pd\n",
    "from tqdm import tqdm"
   ]
  },
  {
   "cell_type": "code",
   "execution_count": 2,
   "metadata": {
    "colab": {},
    "colab_type": "code",
    "id": "dA1jknyqb3c_"
   },
   "outputs": [],
   "source": [
    "data = pd.read_csv('preprocessed_data.csv')"
   ]
  },
  {
   "cell_type": "code",
   "execution_count": 3,
   "metadata": {},
   "outputs": [
    {
     "data": {
      "text/html": [
       "<div>\n",
       "<style scoped>\n",
       "    .dataframe tbody tr th:only-of-type {\n",
       "        vertical-align: middle;\n",
       "    }\n",
       "\n",
       "    .dataframe tbody tr th {\n",
       "        vertical-align: top;\n",
       "    }\n",
       "\n",
       "    .dataframe thead th {\n",
       "        text-align: right;\n",
       "    }\n",
       "</style>\n",
       "<table border=\"1\" class=\"dataframe\">\n",
       "  <thead>\n",
       "    <tr style=\"text-align: right;\">\n",
       "      <th></th>\n",
       "      <th>school_state</th>\n",
       "      <th>teacher_prefix</th>\n",
       "      <th>project_grade_category</th>\n",
       "      <th>teacher_number_of_previously_posted_projects</th>\n",
       "      <th>project_is_approved</th>\n",
       "      <th>clean_categories</th>\n",
       "      <th>clean_subcategories</th>\n",
       "      <th>essay</th>\n",
       "      <th>price</th>\n",
       "    </tr>\n",
       "  </thead>\n",
       "  <tbody>\n",
       "    <tr>\n",
       "      <th>0</th>\n",
       "      <td>ca</td>\n",
       "      <td>mrs</td>\n",
       "      <td>grades_prek_2</td>\n",
       "      <td>53</td>\n",
       "      <td>1</td>\n",
       "      <td>math_science</td>\n",
       "      <td>appliedsciences health_lifescience</td>\n",
       "      <td>i fortunate enough use fairy tale stem kits cl...</td>\n",
       "      <td>725.05</td>\n",
       "    </tr>\n",
       "    <tr>\n",
       "      <th>1</th>\n",
       "      <td>ut</td>\n",
       "      <td>ms</td>\n",
       "      <td>grades_3_5</td>\n",
       "      <td>4</td>\n",
       "      <td>1</td>\n",
       "      <td>specialneeds</td>\n",
       "      <td>specialneeds</td>\n",
       "      <td>imagine 8 9 years old you third grade classroo...</td>\n",
       "      <td>213.03</td>\n",
       "    </tr>\n",
       "    <tr>\n",
       "      <th>2</th>\n",
       "      <td>ca</td>\n",
       "      <td>mrs</td>\n",
       "      <td>grades_prek_2</td>\n",
       "      <td>10</td>\n",
       "      <td>1</td>\n",
       "      <td>literacy_language</td>\n",
       "      <td>literacy</td>\n",
       "      <td>having class 24 students comes diverse learner...</td>\n",
       "      <td>329.00</td>\n",
       "    </tr>\n",
       "  </tbody>\n",
       "</table>\n",
       "</div>"
      ],
      "text/plain": [
       "  school_state teacher_prefix project_grade_category  \\\n",
       "0           ca            mrs          grades_prek_2   \n",
       "1           ut             ms             grades_3_5   \n",
       "2           ca            mrs          grades_prek_2   \n",
       "\n",
       "   teacher_number_of_previously_posted_projects  project_is_approved  \\\n",
       "0                                            53                    1   \n",
       "1                                             4                    1   \n",
       "2                                            10                    1   \n",
       "\n",
       "    clean_categories                 clean_subcategories  \\\n",
       "0       math_science  appliedsciences health_lifescience   \n",
       "1       specialneeds                        specialneeds   \n",
       "2  literacy_language                            literacy   \n",
       "\n",
       "                                               essay   price  \n",
       "0  i fortunate enough use fairy tale stem kits cl...  725.05  \n",
       "1  imagine 8 9 years old you third grade classroo...  213.03  \n",
       "2  having class 24 students comes diverse learner...  329.00  "
      ]
     },
     "execution_count": 3,
     "metadata": {},
     "output_type": "execute_result"
    }
   ],
   "source": [
    "data.head(3)"
   ]
  },
  {
   "cell_type": "markdown",
   "metadata": {
    "colab_type": "text",
    "id": "WtVV13Fyb3dH"
   },
   "source": [
    " ## 1.2 Splitting data into Train and cross validation(or test): Stratified Sampling"
   ]
  },
  {
   "cell_type": "code",
   "execution_count": 4,
   "metadata": {
    "colab": {},
    "colab_type": "code",
    "id": "i-PyprDNb3dI"
   },
   "outputs": [],
   "source": [
    "# please write all the code with proper documentation, and proper titles for each subsection\n",
    "# go through documentations and blogs before you start coding\n",
    "# first figure out what to do, and then think about how to do.\n",
    "# reading and understanding error messages will be very much helpfull in debugging your code\n",
    "# when you plot any graph make sure you use \n",
    "    # a. Title, that describes your plot, this will be very helpful to the reader\n",
    "    # b. Legends if needed\n",
    "    # c. X-axis label\n",
    "    # d. Y-axis label"
   ]
  },
  {
   "cell_type": "code",
   "execution_count": 5,
   "metadata": {},
   "outputs": [
    {
     "data": {
      "text/html": [
       "<div>\n",
       "<style scoped>\n",
       "    .dataframe tbody tr th:only-of-type {\n",
       "        vertical-align: middle;\n",
       "    }\n",
       "\n",
       "    .dataframe tbody tr th {\n",
       "        vertical-align: top;\n",
       "    }\n",
       "\n",
       "    .dataframe thead th {\n",
       "        text-align: right;\n",
       "    }\n",
       "</style>\n",
       "<table border=\"1\" class=\"dataframe\">\n",
       "  <thead>\n",
       "    <tr style=\"text-align: right;\">\n",
       "      <th></th>\n",
       "      <th>school_state</th>\n",
       "      <th>teacher_prefix</th>\n",
       "      <th>project_grade_category</th>\n",
       "      <th>teacher_number_of_previously_posted_projects</th>\n",
       "      <th>clean_categories</th>\n",
       "      <th>clean_subcategories</th>\n",
       "      <th>essay</th>\n",
       "      <th>price</th>\n",
       "    </tr>\n",
       "  </thead>\n",
       "  <tbody>\n",
       "    <tr>\n",
       "      <th>0</th>\n",
       "      <td>ca</td>\n",
       "      <td>mrs</td>\n",
       "      <td>grades_prek_2</td>\n",
       "      <td>53</td>\n",
       "      <td>math_science</td>\n",
       "      <td>appliedsciences health_lifescience</td>\n",
       "      <td>i fortunate enough use fairy tale stem kits cl...</td>\n",
       "      <td>725.05</td>\n",
       "    </tr>\n",
       "  </tbody>\n",
       "</table>\n",
       "</div>"
      ],
      "text/plain": [
       "  school_state teacher_prefix project_grade_category  \\\n",
       "0           ca            mrs          grades_prek_2   \n",
       "\n",
       "   teacher_number_of_previously_posted_projects clean_categories  \\\n",
       "0                                            53     math_science   \n",
       "\n",
       "                  clean_subcategories  \\\n",
       "0  appliedsciences health_lifescience   \n",
       "\n",
       "                                               essay   price  \n",
       "0  i fortunate enough use fairy tale stem kits cl...  725.05  "
      ]
     },
     "execution_count": 5,
     "metadata": {},
     "output_type": "execute_result"
    }
   ],
   "source": [
    "Y = data['project_is_approved'].values\n",
    "X = data.drop(['project_is_approved'], axis=1)\n",
    "X.head(1)"
   ]
  },
  {
   "cell_type": "code",
   "execution_count": 6,
   "metadata": {},
   "outputs": [],
   "source": [
    "from sklearn.model_selection import train_test_split\n",
    "\n",
    "X_train, X_test, Y_train, Y_test = train_test_split(X, Y, test_size=0.3, random_state = 0)\n",
    "X_train, X_cv, Y_train, Y_cv = train_test_split(X_train, Y_train, test_size=0.3)"
   ]
  },
  {
   "cell_type": "code",
   "execution_count": 7,
   "metadata": {},
   "outputs": [
    {
     "name": "stdout",
     "output_type": "stream",
     "text": [
      "53531\n",
      "22942\n",
      "32775\n"
     ]
    }
   ],
   "source": [
    "print(len(X_train))\n",
    "print(len(X_cv))\n",
    "print(len(X_test))"
   ]
  },
  {
   "cell_type": "code",
   "execution_count": 8,
   "metadata": {},
   "outputs": [
    {
     "data": {
      "text/plain": [
       "Index(['school_state', 'teacher_prefix', 'project_grade_category',\n",
       "       'teacher_number_of_previously_posted_projects', 'project_is_approved',\n",
       "       'clean_categories', 'clean_subcategories', 'essay', 'price'],\n",
       "      dtype='object')"
      ]
     },
     "execution_count": 8,
     "metadata": {},
     "output_type": "execute_result"
    }
   ],
   "source": [
    "data.columns"
   ]
  },
  {
   "cell_type": "markdown",
   "metadata": {
    "colab_type": "text",
    "id": "EnZwVNULb3dO"
   },
   "source": [
    "## 1.3 Make Data Model Ready: encoding essay"
   ]
  },
  {
   "cell_type": "code",
   "execution_count": 9,
   "metadata": {
    "colab": {},
    "colab_type": "code",
    "id": "-SczZKiab3dR"
   },
   "outputs": [],
   "source": [
    "# please write all the code with proper documentation, and proper titles for each subsection\n",
    "# go through documentations and blogs before you start coding\n",
    "# first figure out what to do, and then think about how to do.\n",
    "# reading and understanding error messages will be very much helpfull in debugging your code\n",
    "# make sure you featurize train and test data separatly\n",
    "\n",
    "# when you plot any graph make sure you use \n",
    "    # a. Title, that describes your plot, this will be very helpful to the reader\n",
    "    # b. Legends if needed\n",
    "    # c. X-axis label\n",
    "    # d. Y-axis label"
   ]
  },
  {
   "cell_type": "markdown",
   "metadata": {},
   "source": [
    "### Using Bag Of Words"
   ]
  },
  {
   "cell_type": "code",
   "execution_count": 78,
   "metadata": {},
   "outputs": [
    {
     "name": "stdout",
     "output_type": "stream",
     "text": [
      "(53531, 183089)\n",
      "(22942, 183089)\n",
      "(32775, 183089)\n",
      "(53531,) (22942,) (32775,)\n"
     ]
    }
   ],
   "source": [
    "## NOTE: change ngram and max features and check if auc score increases\n",
    "from sklearn.feature_extraction.text import CountVectorizer\n",
    "\n",
    "vectorizer1 = CountVectorizer(min_df=10, ngram_range = (1,4))\n",
    "vectorizer1.fit(X_train['essay'])\n",
    "train_essay_bow = vectorizer1.transform(X_train['essay'])\n",
    "cv_essay_bow = vectorizer1.transform(X_cv['essay'])\n",
    "test_essay_bow = vectorizer1.transform(X_test['essay'])\n",
    "print(train_essay_bow.shape)\n",
    "print(cv_essay_bow.shape)\n",
    "print(test_essay_bow.shape)\n",
    "print(Y_train.shape, Y_cv.shape, Y_test.shape)"
   ]
  },
  {
   "cell_type": "markdown",
   "metadata": {},
   "source": [
    "### Using TDIDF"
   ]
  },
  {
   "cell_type": "code",
   "execution_count": 79,
   "metadata": {},
   "outputs": [
    {
     "name": "stdout",
     "output_type": "stream",
     "text": [
      "(53531, 183089)\n",
      "(22942, 183089)\n",
      "(32775, 183089)\n",
      "(53531,) (22942,) (32775,)\n"
     ]
    }
   ],
   "source": [
    "from sklearn.feature_extraction.text import TfidfVectorizer\n",
    "\n",
    "vectorizer8 = TfidfVectorizer(min_df=10, ngram_range=(1,4))\n",
    "vectorizer8.fit(X_train['essay'].values)\n",
    "train_essay_tfidf = vectorizer8.transform(X_train['essay'].values)\n",
    "cv_essay_tfidf = vectorizer8.transform(X_cv['essay'].values)\n",
    "test_essay_tfidf = vectorizer8.transform(X_test['essay'].values)\n",
    "print(train_essay_tfidf.shape)\n",
    "print(cv_essay_tfidf.shape)\n",
    "print(test_essay_tfidf.shape)\n",
    "print(Y_train.shape, Y_cv.shape, Y_test.shape)"
   ]
  },
  {
   "cell_type": "markdown",
   "metadata": {
    "colab_type": "text",
    "id": "bGy86kgHb3dX"
   },
   "source": [
    "## 1.4 Make Data Model Ready: encoding numerical, categorical features"
   ]
  },
  {
   "cell_type": "code",
   "execution_count": 13,
   "metadata": {
    "colab": {},
    "colab_type": "code",
    "id": "EfXkofX1b3da"
   },
   "outputs": [],
   "source": [
    "# please write all the code with proper documentation, and proper titles for each subsection\n",
    "# go through documentations and blogs before you start coding \n",
    "# first figure out what to do, and then think about how to do.\n",
    "# reading and understanding error messages will be very much helpfull in debugging your code\n",
    "# make sure you featurize train and test data separatly\n",
    "\n",
    "# when you plot any graph make sure you use \n",
    "    # a. Title, that describes your plot, this will be very helpful to the reader\n",
    "    # b. Legends if needed\n",
    "    # c. X-axis label\n",
    "    # d. Y-axis label\n",
    "# categorical features\n",
    "# - teacher_prefix\n",
    "# - project_grade_category\n",
    "# - school_state\n",
    "# - clean_categories\n",
    "# - clean_subcategories\n",
    "# numerical features\n",
    "# - price\n",
    "# - teacher_number_of_previously_posted_projects"
   ]
  },
  {
   "cell_type": "markdown",
   "metadata": {},
   "source": [
    "### Categorical features"
   ]
  },
  {
   "cell_type": "code",
   "execution_count": 80,
   "metadata": {},
   "outputs": [
    {
     "name": "stdout",
     "output_type": "stream",
     "text": [
      "(53531, 51)\n",
      "(22942, 51)\n",
      "(32775, 51)\n",
      "['ak', 'al', 'ar', 'az', 'ca', 'co', 'ct', 'dc', 'de', 'fl', 'ga', 'hi', 'ia', 'id', 'il', 'in', 'ks', 'ky', 'la', 'ma', 'md', 'me', 'mi', 'mn', 'mo', 'ms', 'mt', 'nc', 'nd', 'ne', 'nh', 'nj', 'nm', 'nv', 'ny', 'oh', 'ok', 'or', 'pa', 'ri', 'sc', 'sd', 'tn', 'tx', 'ut', 'va', 'vt', 'wa', 'wi', 'wv', 'wy']\n"
     ]
    }
   ],
   "source": [
    "vectorizer2 = CountVectorizer()\n",
    "vectorizer2.fit(X_train['school_state'].values)\n",
    "train_state = vectorizer2.transform(X_train['school_state'].values)\n",
    "cv_state = vectorizer2.transform(X_cv['school_state'].values)\n",
    "test_state = vectorizer2.transform(X_test['school_state'].values)\n",
    "print(train_state.shape)\n",
    "print(cv_state.shape)\n",
    "print(test_state.shape)\n",
    "print(vectorizer2.get_feature_names())"
   ]
  },
  {
   "cell_type": "code",
   "execution_count": 81,
   "metadata": {},
   "outputs": [
    {
     "name": "stdout",
     "output_type": "stream",
     "text": [
      "(53531, 5)\n",
      "(22942, 5)\n",
      "(32775, 5)\n",
      "['dr', 'mr', 'mrs', 'ms', 'teacher']\n"
     ]
    }
   ],
   "source": [
    "vectorizer3 = CountVectorizer()\n",
    "vectorizer3.fit(X_train['teacher_prefix'].values)\n",
    "train_teacher_prefix = vectorizer3.transform(X_train['teacher_prefix'].values)\n",
    "cv_teacher_prefix = vectorizer3.transform(X_cv['teacher_prefix'].values)\n",
    "test_teacher_prefix = vectorizer3.transform(X_test['teacher_prefix'].values)\n",
    "print(train_teacher_prefix.shape)\n",
    "print(cv_teacher_prefix.shape)\n",
    "print(test_teacher_prefix.shape)\n",
    "print(vectorizer3.get_feature_names())"
   ]
  },
  {
   "cell_type": "code",
   "execution_count": 82,
   "metadata": {},
   "outputs": [
    {
     "name": "stdout",
     "output_type": "stream",
     "text": [
      "(53531, 9)\n",
      "(22942, 9)\n",
      "(32775, 9)\n",
      "['appliedlearning', 'care_hunger', 'health_sports', 'history_civics', 'literacy_language', 'math_science', 'music_arts', 'specialneeds', 'warmth']\n"
     ]
    }
   ],
   "source": [
    "vectorizer4 = CountVectorizer()\n",
    "vectorizer4.fit(X_train['clean_categories'].values)\n",
    "train_cat = vectorizer4.transform(X_train['clean_categories'].values)\n",
    "cv_cat = vectorizer4.transform(X_cv['clean_categories'].values)\n",
    "test_cat = vectorizer4.transform(X_test['clean_categories'].values)\n",
    "print(train_cat.shape)\n",
    "print(cv_cat.shape)\n",
    "print(test_cat.shape)\n",
    "print(vectorizer4.get_feature_names())"
   ]
  },
  {
   "cell_type": "code",
   "execution_count": 83,
   "metadata": {},
   "outputs": [
    {
     "name": "stdout",
     "output_type": "stream",
     "text": [
      "(53531, 30)\n",
      "(22942, 30)\n",
      "(32775, 30)\n",
      "['appliedsciences', 'care_hunger', 'charactereducation', 'civics_government', 'college_careerprep', 'communityservice', 'earlydevelopment', 'economics', 'environmentalscience', 'esl', 'extracurricular', 'financialliteracy', 'foreignlanguages', 'gym_fitness', 'health_lifescience', 'health_wellness', 'history_geography', 'literacy', 'literature_writing', 'mathematics', 'music', 'nutritioneducation', 'other', 'parentinvolvement', 'performingarts', 'socialsciences', 'specialneeds', 'teamsports', 'visualarts', 'warmth']\n"
     ]
    }
   ],
   "source": [
    "vectorizer5 = CountVectorizer()\n",
    "vectorizer5.fit(X_train['clean_subcategories'].values)\n",
    "train_subcat = vectorizer5.transform(X_train['clean_subcategories'].values)\n",
    "cv_subcat = vectorizer5.transform(X_cv['clean_subcategories'].values)\n",
    "test_subcat = vectorizer5.transform(X_test['clean_subcategories'].values)\n",
    "print(train_subcat.shape)\n",
    "print(cv_subcat.shape)\n",
    "print(test_subcat.shape)\n",
    "print(vectorizer5.get_feature_names())"
   ]
  },
  {
   "cell_type": "code",
   "execution_count": 84,
   "metadata": {},
   "outputs": [
    {
     "name": "stdout",
     "output_type": "stream",
     "text": [
      "(53531, 4)\n",
      "(22942, 4)\n",
      "(32775, 4)\n",
      "['grades_3_5', 'grades_6_8', 'grades_9_12', 'grades_prek_2']\n"
     ]
    }
   ],
   "source": [
    "vectorizer6 = CountVectorizer()\n",
    "vectorizer6.fit(X_train['project_grade_category'].values)\n",
    "train_grade = vectorizer6.transform(X_train['project_grade_category'].values)\n",
    "cv_grade = vectorizer6.transform(X_cv['project_grade_category'].values)\n",
    "test_grade = vectorizer6.transform(X_test['project_grade_category'].values)\n",
    "print(train_grade.shape)\n",
    "print(cv_grade.shape)\n",
    "print(test_grade.shape)\n",
    "print(vectorizer6.get_feature_names())"
   ]
  },
  {
   "cell_type": "markdown",
   "metadata": {},
   "source": [
    "### Numerical Features"
   ]
  },
  {
   "cell_type": "code",
   "execution_count": 85,
   "metadata": {},
   "outputs": [
    {
     "name": "stdout",
     "output_type": "stream",
     "text": [
      "Mean : 11.028002465860903, Standard deviation : 27.542241880184424\n",
      "After vectorizations\n",
      "(53531, 1) (53531,)\n",
      "(22942, 1) (22942,)\n",
      "(32775, 1) (32775,)\n"
     ]
    }
   ],
   "source": [
    "from sklearn.preprocessing import Normalizer\n",
    "from sklearn.preprocessing import StandardScaler\n",
    "\n",
    "previous_project_scalar = StandardScaler()\n",
    "previous_project_scalar.fit(X_train['teacher_number_of_previously_posted_projects'].values.reshape(-1,1)) # finding the mean and standard deviation of this data\n",
    "print(f\"Mean : {previous_project_scalar.mean_[0]}, Standard deviation : {np.sqrt(previous_project_scalar.var_[0])}\")\n",
    "\n",
    "train_prPos_norm = previous_project_scalar.transform(X_train['teacher_number_of_previously_posted_projects'].values.reshape(-1,1))\n",
    "cv_prPos_norm = previous_project_scalar.transform(X_cv['teacher_number_of_previously_posted_projects'].values.reshape(-1,1))\n",
    "test_prPos_norm = previous_project_scalar.transform(X_test['teacher_number_of_previously_posted_projects'].values.reshape(-1,1))\n",
    "\n",
    "print(\"After vectorizations\")\n",
    "print(train_prPos_norm.shape, Y_train.shape)\n",
    "print(cv_prPos_norm.shape, Y_cv.shape)\n",
    "print(test_prPos_norm.shape, Y_test.shape)"
   ]
  },
  {
   "cell_type": "code",
   "execution_count": 86,
   "metadata": {},
   "outputs": [
    {
     "name": "stdout",
     "output_type": "stream",
     "text": [
      "Mean : 297.92860548093626, Standard deviation : 365.4169653955776\n",
      "After vectorizations\n",
      "(53531, 1) (53531,)\n",
      "(22942, 1) (53531,)\n",
      "(32775, 1) (32775,)\n"
     ]
    }
   ],
   "source": [
    "from sklearn.preprocessing import StandardScaler\n",
    "\n",
    "price_scalar = StandardScaler()\n",
    "price_scalar.fit(X_train['price'].values.reshape(-1,1)) # finding the mean and standard deviation of this data\n",
    "print(f\"Mean : {price_scalar.mean_[0]}, Standard deviation : {np.sqrt(price_scalar.var_[0])}\")\n",
    "\n",
    "train_scaler_price = price_scalar.transform(X_train['price'].values.reshape(-1, 1))\n",
    "cv_scaler_price = price_scalar.transform(X_cv['price'].values.reshape(-1, 1))\n",
    "test_scaler_price = price_scalar.transform(X_test['price'].values.reshape(-1, 1))\n",
    "\n",
    "print(\"After vectorizations\")\n",
    "print(train_scaler_price.shape, Y_train.shape)\n",
    "print(cv_scaler_price.shape, Y_train.shape)\n",
    "print(test_scaler_price.shape, Y_test.shape)"
   ]
  },
  {
   "cell_type": "markdown",
   "metadata": {},
   "source": [
    "### Eliminating negative values"
   ]
  },
  {
   "cell_type": "code",
   "execution_count": 87,
   "metadata": {},
   "outputs": [
    {
     "name": "stdout",
     "output_type": "stream",
     "text": [
      "[[0.]\n",
      " [0.]\n",
      " [0.]\n",
      " ...\n",
      " [0.]\n",
      " [0.]\n",
      " [0.]]\n"
     ]
    }
   ],
   "source": [
    "train_scaler_price = np.where(train_scaler_price<0, 0, train_scaler_price)\n",
    "cv_scaler_price = np.where(cv_scaler_price<0, 0, cv_scaler_price)\n",
    "test_scaler_price = np.where(test_scaler_price<0, 0, test_scaler_price)\n",
    "\n",
    "train_prPos_norm = np.where(train_prPos_norm<0, 0, train_prPos_norm)\n",
    "cv_prPos_norm = np.where(cv_prPos_norm<0, 0, cv_prPos_norm)\n",
    "test_prPos_norm = np.where(test_prPos_norm<0, 0, test_prPos_norm)\n",
    "\n",
    "print(train_scaler_price)"
   ]
  },
  {
   "cell_type": "markdown",
   "metadata": {},
   "source": [
    "## 1.5 Applying Naive Bayes on BOW"
   ]
  },
  {
   "cell_type": "markdown",
   "metadata": {
    "colab_type": "text",
    "id": "yYHPYadYb3dh"
   },
   "source": [
    "<br>Apply NB on different kind of featurization as mentioned in the instructions\n",
    "<br> For Every model that you work on make sure you do the step 2 and step 3 of instructions"
   ]
  },
  {
   "cell_type": "code",
   "execution_count": 88,
   "metadata": {
    "colab": {},
    "colab_type": "code",
    "id": "DNwqilFxb3di"
   },
   "outputs": [],
   "source": [
    "# please write all the code with proper documentation, and proper titles for each subsection\n",
    "# go through documentations and blogs before you start coding\n",
    "# first figure out what to do, and then think about how to do.\n",
    "# reading and understanding error messages will be very much helpfull in debugging your code\n",
    "# when you plot any graph make sure you use \n",
    "    # a. Title, that describes your plot, this will be very helpful to the reader\n",
    "    # b. Legends if needed\n",
    "    # c. X-axis label\n",
    "    # d. Y-axis label"
   ]
  },
  {
   "cell_type": "markdown",
   "metadata": {},
   "source": [
    "### Stacking text, categorical and numerical features"
   ]
  },
  {
   "cell_type": "code",
   "execution_count": 112,
   "metadata": {},
   "outputs": [
    {
     "name": "stdout",
     "output_type": "stream",
     "text": [
      "Final Data matrix\n",
      "(53531, 183189) (53531,)\n",
      "(22942, 183189) (22942,)\n",
      "(32775, 183189) (32775,)\n"
     ]
    }
   ],
   "source": [
    "from scipy.sparse import hstack\n",
    "X_tr = []\n",
    "X_cv_stack = []\n",
    "X_te = []\n",
    "X_tr = hstack((train_essay_bow, train_state, train_teacher_prefix, train_grade, train_scaler_price, train_cat, train_subcat)).tocsr()\n",
    "X_cv_stack = hstack((cv_essay_bow, cv_state, cv_teacher_prefix, cv_grade, cv_scaler_price, cv_cat, cv_subcat)).tocsr()\n",
    "X_te = hstack((test_essay_bow, test_state, test_teacher_prefix, test_grade, test_scaler_price, test_cat, test_subcat)).tocsr()\n",
    "\n",
    "X_tr = X_tr.tocsr()\n",
    "X_cv_stack = X_cv_stack.tocsr()\n",
    "X_te = X_te.tocsr()\n",
    "print(\"Final Data matrix\")\n",
    "print(X_tr.shape, Y_train.shape)\n",
    "print(X_cv_stack.shape, Y_cv.shape)\n",
    "print(X_te.shape, Y_test.shape)"
   ]
  },
  {
   "cell_type": "code",
   "execution_count": 90,
   "metadata": {},
   "outputs": [
    {
     "name": "stdout",
     "output_type": "stream",
     "text": [
      "[-5.0, -3.3010299956639813, -4.0, -2.3010299956639813, -3.0, -1.3010299956639813, -2.0, -1.0, -0.3010299956639812, 0.0, 0.6989700043360189, 1.0, 1.6989700043360187, 2.0]\n"
     ]
    }
   ],
   "source": [
    "import math\n",
    "\n",
    "## range of hyperparameter values\n",
    "alpha = [0.00001,0.0005, 0.0001,0.005,0.001,0.05,0.01,0.1,0.5,1,5,10,50,100]\n",
    "log_alpha = list(map(lambda x : math.log10(x), alpha))\n",
    "print(log_alpha)"
   ]
  },
  {
   "cell_type": "code",
   "execution_count": 91,
   "metadata": {},
   "outputs": [
    {
     "name": "stderr",
     "output_type": "stream",
     "text": [
      "100%|██████████| 14/14 [00:01<00:00,  7.49it/s]\n"
     ]
    },
    {
     "data": {
      "image/png": "[encoded data removed]",
      "text/plain": [
       "<Figure size 504x360 with 1 Axes>"
      ]
     },
     "metadata": {
      "needs_background": "light"
     },
     "output_type": "display_data"
    }
   ],
   "source": [
    "from sklearn.naive_bayes import MultinomialNB\n",
    "import matplotlib.pyplot as plt\n",
    "from sklearn.metrics import roc_auc_score\n",
    "\n",
    "train_auc = []\n",
    "cv_auc = []\n",
    "\n",
    "for i in tqdm(alpha):\n",
    "    neigh = MultinomialNB(alpha = i, class_prior = [0.5,0.5])\n",
    "    neigh.fit(X_tr, Y_train)\n",
    "\n",
    "    Y_train_pred = neigh.predict_proba( X_tr)[:, 1]    \n",
    "    Y_cv_pred = neigh.predict_proba(X_cv_stack)[:, 1]\n",
    "\n",
    "    train_auc.append(roc_auc_score(Y_train,Y_train_pred))\n",
    "    cv_auc.append(roc_auc_score(Y_cv, Y_cv_pred))\n",
    "\n",
    "    \n",
    "plt.figure(figsize=(7,5))\n",
    "plt.plot(log_alpha, train_auc, label='Train AUC')\n",
    "plt.plot(log_alpha, cv_auc, label='CV AUC')\n",
    "\n",
    "plt.scatter(log_alpha, train_auc, label='Train AUC points')\n",
    "plt.scatter(log_alpha, cv_auc, label='CV AUC points')\n",
    "\n",
    "plt.legend()\n",
    "plt.xlabel(\"log_alpha: hyperparameter(alpha)\")\n",
    "plt.ylabel(\"AUC\")\n",
    "plt.title(\"ERROR PLOTS : hyperparameter vs AUC )\")\n",
    "plt.grid()\n",
    "plt.show()"
   ]
  },
  {
   "cell_type": "markdown",
   "metadata": {},
   "source": [
    "*  low alpha values such as 0.00001 works very well on train data, whereas these values are not very efficient on cross validation data.\n",
    "*  Model works very well for both train and CV data with alpha values closer to 1.\n",
    "*  As alpha increases more than 1, the model seems not to be effective on both data."
   ]
  },
  {
   "cell_type": "markdown",
   "metadata": {},
   "source": [
    "### Train model based on best hyper parameter value(alpha)"
   ]
  },
  {
   "cell_type": "code",
   "execution_count": 92,
   "metadata": {},
   "outputs": [
    {
     "name": "stdout",
     "output_type": "stream",
     "text": [
      "0.9274630291352115\n"
     ]
    },
    {
     "data": {
      "image/png": "[encoded data removed]",
      "text/plain": [
       "<Figure size 432x288 with 1 Axes>"
      ]
     },
     "metadata": {
      "needs_background": "light"
     },
     "output_type": "display_data"
    }
   ],
   "source": [
    "best_alpha = 1\n",
    "\n",
    "from sklearn.metrics import roc_curve, auc\n",
    "\n",
    "\n",
    "neigh = MultinomialNB(alpha = best_alpha, class_prior = [0.5,0.5])\n",
    "neigh.fit(X_tr, Y_train)\n",
    "\n",
    "y_train_pred = neigh.predict_proba(X_tr)[:, 1]    \n",
    "y_test_pred = neigh.predict_proba(X_te)[:, 1]\n",
    "\n",
    "train_fpr, train_tpr, tr_thresholds = roc_curve(Y_train, y_train_pred)\n",
    "test_fpr, test_tpr, te_thresholds = roc_curve(Y_test, y_test_pred)\n",
    "\n",
    "auc1 = str(auc(train_fpr, train_tpr))\n",
    "print(auc1)\n",
    "\n",
    "plt.plot(train_fpr, train_tpr, label=\"train AUC =\"+str(auc(train_fpr, train_tpr)))\n",
    "plt.plot(test_fpr, test_tpr, label=\"test AUC =\"+str(auc(test_fpr, test_tpr)))\n",
    "plt.legend()\n",
    "plt.xlabel(\"False Positive Rate\")\n",
    "plt.ylabel(\"True Positive Rate\")\n",
    "plt.title(\"FPR vs TPR\")\n",
    "plt.grid()\n",
    "plt.show()"
   ]
  },
  {
   "cell_type": "markdown",
   "metadata": {},
   "source": [
    "train AUC = 0.93\n",
    "test AUC = 0.69"
   ]
  },
  {
   "cell_type": "code",
   "execution_count": 93,
   "metadata": {},
   "outputs": [
    {
     "name": "stdout",
     "output_type": "stream",
     "text": [
      "0.6900653355847132\n"
     ]
    }
   ],
   "source": [
    "test_auc1 = auc(test_fpr, test_tpr)\n",
    "print(test_auc1)"
   ]
  },
  {
   "cell_type": "code",
   "execution_count": 94,
   "metadata": {},
   "outputs": [],
   "source": [
    "# we are writing our own function for predict, with defined thresould\n",
    "# we will pick a threshold that will give the least fpr\n",
    "def find_best_threshold(threshould, fpr, tpr):\n",
    "    t = threshould[np.argmax(tpr*(1-fpr))]\n",
    "    # (tpr*(1-fpr)) will be maximum if your fpr is very low and tpr is very high\n",
    "    print(\"the maximum value of tpr*(1-fpr)\", max(tpr*(1-fpr)), \"for threshold\", np.round(t,3))\n",
    "    return t\n",
    "\n",
    "def predict_with_best_t(proba, threshould):\n",
    "    predictions = []\n",
    "    for i in proba:\n",
    "        if i>=threshould:\n",
    "            predictions.append(1)\n",
    "        else:\n",
    "            predictions.append(0)\n",
    "    return predictions"
   ]
  },
  {
   "cell_type": "markdown",
   "metadata": {},
   "source": [
    "### Confusion matrix on Train and Test set"
   ]
  },
  {
   "cell_type": "code",
   "execution_count": 95,
   "metadata": {},
   "outputs": [
    {
     "name": "stdout",
     "output_type": "stream",
     "text": [
      "====================================================================================================\n",
      "the maximum value of tpr*(1-fpr) 0.734623683250366 for threshold 0.278\n",
      "Train confusion matrix\n",
      "[[ 6879  1164]\n",
      " [ 6417 39071]]\n",
      "Test confusion matrix\n",
      "[[ 2126  2867]\n",
      " [ 5170 22612]]\n"
     ]
    }
   ],
   "source": [
    "import numpy as np\n",
    "print(\"=\"*100)\n",
    "from sklearn.metrics import confusion_matrix\n",
    "best_t1 = find_best_threshold(tr_thresholds, train_fpr, train_tpr)\n",
    "print(\"Train confusion matrix\")\n",
    "print(confusion_matrix(Y_train, predict_with_best_t(y_train_pred, best_t1)))\n",
    "print(\"Test confusion matrix\")\n",
    "print(confusion_matrix(Y_test, predict_with_best_t(y_test_pred, best_t1)))"
   ]
  },
  {
   "cell_type": "code",
   "execution_count": 96,
   "metadata": {},
   "outputs": [
    {
     "data": {
      "image/png": "[encoded data removed]",
      "text/plain": [
       "<Figure size 432x288 with 2 Axes>"
      ]
     },
     "metadata": {
      "needs_background": "light"
     },
     "output_type": "display_data"
    },
    {
     "data": {
      "image/png": "[encoded data removed]",
      "text/plain": [
       "<Figure size 432x288 with 2 Axes>"
      ]
     },
     "metadata": {
      "needs_background": "light"
     },
     "output_type": "display_data"
    }
   ],
   "source": [
    "import seaborn as sns\n",
    "# Heatmap for train set confusion matrix(Select K best)\n",
    "heatmap_train = sns.heatmap(confusion_matrix(Y_train, predict_with_best_t(y_train_pred,best_t1)), annot=True, fmt=\"d\")\n",
    "plt.title(\"Train set confusion matrix\")\n",
    "plt.xlabel(\"Actual\")\n",
    "plt.ylabel(\"Predicted\")\n",
    "plt.show()\n",
    "\n",
    "# Heatmap for test set confusion matrix(Select K best)\n",
    "heatmap_train = sns.heatmap(confusion_matrix(Y_test, predict_with_best_t(y_test_pred, best_t1)), annot=True, fmt=\"d\")\n",
    "plt.title(\"Test set confusion matrix\")\n",
    "plt.xlabel(\"Actual\")\n",
    "plt.ylabel(\"Predicted\")\n",
    "plt.show()"
   ]
  },
  {
   "cell_type": "code",
   "execution_count": 97,
   "metadata": {},
   "outputs": [
    {
     "name": "stdout",
     "output_type": "stream",
     "text": [
      "183189\n",
      "[-11.49813577 -12.88443013 -10.74436397 ...  -9.33385535  -8.35004013\n",
      " -10.59865216]\n",
      "[-11.72333448 -13.40973343 -10.43165609 ...  -9.69129517  -8.5782248\n",
      "  -9.97252561]\n"
     ]
    }
   ],
   "source": [
    "# To find the top features of positive/negative class https://github.com/shashimanyam/NaiveBayes/blob/master/NAVIEBAYES.pdf\n",
    "bow_features_probs = []\n",
    "bow_features_neg = []\n",
    "\n",
    "for a in range(len(neigh.feature_log_prob_[0,:])):\n",
    "    bow_features_probs.append(neigh.feature_log_prob_[0,a] )\n",
    "print(len(bow_features_probs))\n",
    "\n",
    "print((neigh.feature_log_prob_)[0])\n",
    "print((neigh.feature_log_prob_)[1])"
   ]
  },
  {
   "cell_type": "code",
   "execution_count": 98,
   "metadata": {},
   "outputs": [
    {
     "name": "stdout",
     "output_type": "stream",
     "text": [
      "183189\n"
     ]
    }
   ],
   "source": [
    "bow_features_names = []\n",
    "for a in vectorizer1.get_feature_names(): # clean_categories\n",
    "    bow_features_names.append(a)\n",
    "for a in vectorizer2.get_feature_names(): # clean_sub_categories\n",
    "    bow_features_names.append(a)\n",
    "for a in vectorizer3.get_feature_names(): # school state\n",
    "    bow_features_names.append(a)\n",
    "for a in vectorizer4.get_feature_names(): # teacher_prefix\n",
    "    bow_features_names.append(a)\n",
    "for a in vectorizer5.get_feature_names(): # Grades\n",
    "    bow_features_names.append(a)\n",
    "for a in vectorizer6.get_feature_names(): # bow_essay\n",
    "    bow_features_names.append(a)\n",
    "    \n",
    "bow_features_names.append(\"price\")\n",
    "print(len(bow_features_names))"
   ]
  },
  {
   "cell_type": "markdown",
   "metadata": {},
   "source": [
    "### 20 positive and negative features with high and low coeff scores from BOW:"
   ]
  },
  {
   "cell_type": "code",
   "execution_count": 99,
   "metadata": {},
   "outputs": [
    {
     "name": "stdout",
     "output_type": "stream",
     "text": [
      "Top positive features with high coeff:\n",
      "['the demographic' 'life without constant'\n",
      " 'life without constant connectivity' 'these supplies allow us'\n",
      " 'want environment' 'without constant connectivity'\n",
      " 'know life without constant' 'believer keeping focus' 'constantly solve'\n",
      " 'believer keeping' 'fun engaging materials' 'begs' 'come low ses'\n",
      " 'raise siblings' 'come work hard' 'minutes pe' 'beyond pencil paper'\n",
      " 'products requested' 'items need help' 'letters words sentences']\n",
      "\n",
      "Top positive features with low coeff:\n",
      "['students' 'school' 'my' 'learning' 'classroom' 'the' 'they' 'not'\n",
      " 'my students' 'learn' 'help' 'many' 'nannan' 'we' 'work' 'need' 'reading'\n",
      " 'use' 'love' 'day']\n",
      "\n",
      "Top negative features with high coeff:\n",
      "['love wobble stools' 'carpet requesting' 'carpet reading' 'novels books'\n",
      " 'every day love learning' 'with laptops students' 'the apple tv'\n",
      " 'work sharing' 'the area school located' 'carpet meeting' 'carpet make'\n",
      " 'looking best' 'carpet large' 'carpet it' 'carpet help students'\n",
      " 'carpet give students' 'carpet give' 'carpet floor' 'carpet essential'\n",
      " 'carpet daily']\n",
      "\n",
      "Top negative features with low coeff:\n",
      "['students' 'school' 'learning' 'my' 'classroom' 'not' 'learn' 'they'\n",
      " 'help' 'the' 'my students' 'nannan' 'many' 'we' 'need' 'work' 'come'\n",
      " 'love' 'skills' 'able']\n"
     ]
    }
   ],
   "source": [
    "top_ind_pos=np.argsort((neigh.feature_log_prob_)[1])[::1][0:20]\n",
    "last_ind_pos=np.argsort((neigh.feature_log_prob_)[1])[::-1][0:20]\n",
    "top_pos=np.take(bow_features_names,top_ind_pos)\n",
    "last_pos=np.take(bow_features_names,last_ind_pos)\n",
    "\n",
    "top_ind_neg=np.argsort((neigh.feature_log_prob_)[0])[::1][0:20]\n",
    "last_ind_neg=np.argsort((neigh.feature_log_prob_)[0])[::-1][0:20]\n",
    "top_neg=np.take(bow_features_names,top_ind_neg)\n",
    "last_neg=np.take(bow_features_names,last_ind_neg)\n",
    "\n",
    "print(\"Top positive features with high coeff:\")\n",
    "print(top_pos)\n",
    "print(\"\")\n",
    "print(\"Top positive features with low coeff:\")\n",
    "print(last_pos)\n",
    "print(\"\")\n",
    "print(\"Top negative features with high coeff:\")\n",
    "print(top_neg)\n",
    "print(\"\")\n",
    "print(\"Top negative features with low coeff:\")\n",
    "print(last_neg)"
   ]
  },
  {
   "cell_type": "markdown",
   "metadata": {},
   "source": [
    "## 1.6 Applying Naive Bayes on TFIDF"
   ]
  },
  {
   "cell_type": "code",
   "execution_count": 117,
   "metadata": {},
   "outputs": [
    {
     "name": "stdout",
     "output_type": "stream",
     "text": [
      "(53531, 183189) (53531,)\n",
      "(22942, 183189) (22942,)\n",
      "(32775, 183189) (32775,)\n"
     ]
    }
   ],
   "source": [
    "from scipy.sparse import hstack\n",
    "X_tr = []\n",
    "X_cv_stack = []\n",
    "X_te = []\n",
    "\n",
    "X_tr = hstack((train_essay_tfidf, train_state, train_teacher_prefix, train_grade, train_scaler_price, train_cat, train_subcat)).tocsr()\n",
    "X_cv_stack = hstack((cv_essay_tfidf, cv_state, cv_teacher_prefix, cv_grade, cv_scaler_price, cv_cat, cv_subcat)).tocsr()\n",
    "X_te = hstack((test_essay_tfidf, test_state, test_teacher_prefix, test_grade, test_scaler_price, test_cat, test_subcat)).tocsr()\n",
    "\n",
    "print(X_tr.shape , Y_train.shape)\n",
    "print(X_cv_stack.shape , Y_cv.shape)\n",
    "print(X_te.shape , Y_test.shape)"
   ]
  },
  {
   "cell_type": "code",
   "execution_count": 118,
   "metadata": {},
   "outputs": [
    {
     "name": "stderr",
     "output_type": "stream",
     "text": [
      "100%|██████████| 14/14 [00:01<00:00,  7.13it/s]\n"
     ]
    },
    {
     "data": {
      "image/png": "[encoded data removed]",
      "text/plain": [
       "<Figure size 504x360 with 1 Axes>"
      ]
     },
     "metadata": {
      "needs_background": "light"
     },
     "output_type": "display_data"
    }
   ],
   "source": [
    "from sklearn.naive_bayes import MultinomialNB\n",
    "import matplotlib.pyplot as plt\n",
    "from sklearn.metrics import roc_auc_score\n",
    "\n",
    "train_auc = []\n",
    "cv_auc = []\n",
    "\n",
    "for i in tqdm(alpha):\n",
    "    neigh = MultinomialNB(alpha = i, class_prior = [0.5,0.5])\n",
    "    neigh.fit(X_tr, Y_train)\n",
    "\n",
    "    y_train_pred = neigh.predict_proba(X_tr)[:, 1]    \n",
    "    y_cv_pred = neigh.predict_proba(X_cv_stack)[:, 1]\n",
    "\n",
    "    # roc_auc_score(y_true, y_score) the 2nd parameter should be probability estimates of the positive class\n",
    "    # not the predicted outputs        \n",
    "    train_auc.append(roc_auc_score(Y_train,y_train_pred))\n",
    "    cv_auc.append(roc_auc_score(Y_cv, y_cv_pred))\n",
    "\n",
    "plt.figure(figsize=(7,5))\n",
    "plt.plot(log_alpha, train_auc, label='Train AUC')\n",
    "plt.plot(log_alpha, cv_auc, label='CV AUC')\n",
    "\n",
    "plt.scatter(log_alpha, train_auc, label='Train AUC points')\n",
    "plt.scatter(log_alpha, cv_auc, label='CV AUC points')\n",
    "\n",
    "plt.legend()\n",
    "plt.xlabel(\"log_alpha: hyperparameter(alpha)\")\n",
    "plt.ylabel(\"AUC\")\n",
    "plt.title(\"ERROR PLOTS : hyperparameter vs AUC )\")\n",
    "plt.grid()\n",
    "plt.show()"
   ]
  },
  {
   "cell_type": "markdown",
   "metadata": {},
   "source": [
    "*  low alpha values such as 0.00001 works very well on train data, whereas these values are not very efficient on cross validation data.\n",
    "*  Model works very well for both train and CV data with alpha values closer to 0.1\n",
    "*  As alpha increases more than 0.1, the model seems not to be effective on both data."
   ]
  },
  {
   "cell_type": "markdown",
   "metadata": {},
   "source": [
    "### Train model based on best hyper parameter value(alpha)"
   ]
  },
  {
   "cell_type": "code",
   "execution_count": 119,
   "metadata": {},
   "outputs": [],
   "source": [
    "best_alpha2 = 0.1"
   ]
  },
  {
   "cell_type": "code",
   "execution_count": 120,
   "metadata": {},
   "outputs": [
    {
     "name": "stdout",
     "output_type": "stream",
     "text": [
      "0.9308690917124186\n"
     ]
    },
    {
     "data": {
      "image/png": "[encoded data removed]",
      "text/plain": [
       "<Figure size 432x288 with 1 Axes>"
      ]
     },
     "metadata": {
      "needs_background": "light"
     },
     "output_type": "display_data"
    }
   ],
   "source": [
    "from sklearn.metrics import roc_curve, auc\n",
    "\n",
    "\n",
    "neigh = MultinomialNB(alpha = best_alpha2, class_prior = [0.5,0.5])\n",
    "neigh.fit(X_tr, Y_train)\n",
    "# roc_auc_score(y_true, y_score) the 2nd parameter should be probability estimates of the positive class\n",
    "# not the predicted outputs\n",
    "\n",
    "y_train_pred = neigh.predict_proba(X_tr)[:, 1]    \n",
    "y_test_pred = neigh.predict_proba(X_te)[:, 1]\n",
    "\n",
    "train_fpr, train_tpr, tr_thresholds = roc_curve(Y_train, y_train_pred)\n",
    "test_fpr, test_tpr, te_thresholds = roc_curve(Y_test, y_test_pred)\n",
    "\n",
    "auc2 = str(auc(train_fpr, train_tpr))\n",
    "print(auc2)\n",
    "\n",
    "plt.plot(train_fpr, train_tpr, label=\"train AUC =\"+str(auc(train_fpr, train_tpr)))\n",
    "plt.plot(test_fpr, test_tpr, label=\"test AUC =\"+str(auc(test_fpr, test_tpr)))\n",
    "plt.legend()\n",
    "plt.xlabel(\"False Positive Rate\")\n",
    "plt.ylabel(\"True Positive Rate\")\n",
    "plt.title(\"FPR vs TPR\")\n",
    "plt.grid()\n",
    "plt.show()"
   ]
  },
  {
   "cell_type": "code",
   "execution_count": 121,
   "metadata": {},
   "outputs": [
    {
     "name": "stdout",
     "output_type": "stream",
     "text": [
      "0.6761883381388756\n"
     ]
    }
   ],
   "source": [
    "test_auc2 = auc(test_fpr, test_tpr)\n",
    "print(test_auc2)"
   ]
  },
  {
   "cell_type": "markdown",
   "metadata": {},
   "source": [
    "### Confusion matrix on Train and Test Data"
   ]
  },
  {
   "cell_type": "code",
   "execution_count": 124,
   "metadata": {},
   "outputs": [
    {
     "name": "stdout",
     "output_type": "stream",
     "text": [
      "====================================================================================================\n",
      "the maximum value of tpr*(1-fpr) 0.7328739182364366 for threshold 0.493\n",
      "Train confusion matrix\n",
      "[[ 6920  1123]\n",
      " [ 6741 38747]]\n",
      "Test confusion matrix\n",
      "[[ 2042  2951]\n",
      " [ 5426 22356]]\n"
     ]
    }
   ],
   "source": [
    "print(\"=\"*100)\n",
    "from sklearn.metrics import confusion_matrix\n",
    "best_t2 = find_best_threshold(tr_thresholds, train_fpr, train_tpr)\n",
    "print(\"Train confusion matrix\")\n",
    "print(confusion_matrix(Y_train, predict_with_best_t(y_train_pred, best_t2)))\n",
    "print(\"Test confusion matrix\")\n",
    "print(confusion_matrix(Y_test, predict_with_best_t(y_test_pred, best_t2)))"
   ]
  },
  {
   "cell_type": "code",
   "execution_count": 125,
   "metadata": {},
   "outputs": [
    {
     "data": {
      "image/png": "[encoded data removed]",
      "text/plain": [
       "<Figure size 432x288 with 2 Axes>"
      ]
     },
     "metadata": {
      "needs_background": "light"
     },
     "output_type": "display_data"
    },
    {
     "data": {
      "image/png": "[encoded data removed]",
      "text/plain": [
       "<Figure size 432x288 with 2 Axes>"
      ]
     },
     "metadata": {
      "needs_background": "light"
     },
     "output_type": "display_data"
    }
   ],
   "source": [
    "# Heatmap for train set confusion matrix(Select K best)\n",
    "heatmap_train = sns.heatmap(confusion_matrix(Y_train, predict_with_best_t(y_train_pred,best_t2)), annot=True, fmt=\"d\")\n",
    "plt.title(\"Train set confusion matrix\")\n",
    "plt.xlabel(\"Actual\")\n",
    "plt.ylabel(\"Predicted\")\n",
    "plt.show()\n",
    "\n",
    "# Heatmap for test set confusion matrix(Select K best)\n",
    "heatmap_train = sns.heatmap(confusion_matrix(Y_test, predict_with_best_t(y_test_pred, best_t2)), annot=True, fmt=\"d\")\n",
    "plt.title(\"Test set confusion matrix\")\n",
    "plt.xlabel(\"Actual\")\n",
    "plt.ylabel(\"Predicted\")\n",
    "plt.show()"
   ]
  },
  {
   "cell_type": "code",
   "execution_count": 126,
   "metadata": {},
   "outputs": [
    {
     "name": "stdout",
     "output_type": "stream",
     "text": [
      "183189\n",
      "[-11.59196456 -12.70756192 -10.97900552 ...  -6.75240268  -5.76588326\n",
      "  -8.02825575]\n",
      "[-11.74780679 -13.26743958 -10.66227718 ...  -7.03766115  -5.92385686\n",
      "  -7.31924675]\n"
     ]
    }
   ],
   "source": [
    "tfidf_features_probs = []\n",
    "for a in range(len(neigh.feature_log_prob_[0,:])):\n",
    "    tfidf_features_probs.append(neigh.feature_log_prob_[0,a] )\n",
    "print(len(tfidf_features_probs))\n",
    "\n",
    "print((neigh.feature_log_prob_)[0])\n",
    "print((neigh.feature_log_prob_)[1])"
   ]
  },
  {
   "cell_type": "code",
   "execution_count": 127,
   "metadata": {},
   "outputs": [
    {
     "name": "stdout",
     "output_type": "stream",
     "text": [
      "183189\n"
     ]
    }
   ],
   "source": [
    "tfidf_features_names = []\n",
    "for a in vectorizer8.get_feature_names(): # clean_categories\n",
    "    tfidf_features_names.append(a)\n",
    "for a in vectorizer2.get_feature_names(): # clean_sub_categories\n",
    "    tfidf_features_names.append(a)\n",
    "for a in vectorizer3.get_feature_names(): # school state\n",
    "    tfidf_features_names.append(a)\n",
    "for a in vectorizer4.get_feature_names(): # teacher_prefix\n",
    "    tfidf_features_names.append(a)\n",
    "for a in vectorizer5.get_feature_names(): # Grades\n",
    "    tfidf_features_names.append(a)\n",
    "for a in vectorizer6.get_feature_names(): # bow_essay\n",
    "    tfidf_features_names.append(a)\n",
    "    \n",
    "tfidf_features_names.append(\"price\")\n",
    "print(len(tfidf_features_names))"
   ]
  },
  {
   "cell_type": "markdown",
   "metadata": {},
   "source": [
    "### 20 positive and negative features with high and low coeff scores from TFIDF:"
   ]
  },
  {
   "cell_type": "code",
   "execution_count": 128,
   "metadata": {},
   "outputs": [
    {
     "name": "stdout",
     "output_type": "stream",
     "text": [
      "Top positive features with high coeff:\n",
      "['without constant connectivity' 'know life without constant'\n",
      " 'life without constant' 'life without constant connectivity'\n",
      " 'know life without' 'not know life without' 'these supplies allow us'\n",
      " 'constantly solve' 'constantly solve problems'\n",
      " 'constantly solve problems make' 'include real life'\n",
      " 'materials requesting give students' 'good attendance eager'\n",
      " 'good attendance eager learn' 'show good attendance eager'\n",
      " 'show good attendance' 'live show good attendance'\n",
      " 'attendance eager learn my' 'students live show good' 'live show good']\n",
      "\n",
      "Top positive features with low coeff:\n",
      "['mrs' 'appliedsciences' 'history_civics' 'care_hunger' 'ms'\n",
      " 'appliedlearning' 'other' 'literacy_language' 'performingarts'\n",
      " 'parentinvolvement' 'care_hunger' 'ca' 'specialneeds' 'grades_6_8'\n",
      " 'civics_government' 'math_science' 'health_sports' 'music' 'mr'\n",
      " 'communityservice']\n",
      "\n",
      "Top negative features with high coeff:\n",
      "['living low socioeconomic' 'huge part learning' 'huge learning'\n",
      " 'huge component' 'huge benefit students' 'huddle' 'hp printer'\n",
      " 'hp chromebook' 'however teachers' 'however support' 'however provide'\n",
      " 'however not let' 'however music department true'\n",
      " 'however music department' 'however music' 'however many come'\n",
      " 'however little' 'however excited' 'hours students' 'hours they']\n",
      "\n",
      "Top negative features with low coeff:\n",
      "['mrs' 'appliedsciences' 'history_civics' 'care_hunger'\n",
      " 'literacy_language' 'ms' 'appliedlearning' 'performingarts' 'other'\n",
      " 'parentinvolvement' 'care_hunger' 'civics_government' 'grades_6_8' 'ca'\n",
      " 'specialneeds' 'math_science' 'communityservice' 'health_sports'\n",
      " 'charactereducation' 'mr']\n"
     ]
    }
   ],
   "source": [
    "top_ind_pos=np.argsort((neigh.feature_log_prob_)[1])[::1][0:20]\n",
    "last_ind_pos=np.argsort((neigh.feature_log_prob_)[1])[::-1][0:20]\n",
    "top_pos=np.take(bow_features_names,top_ind_pos)\n",
    "last_pos=np.take(bow_features_names,last_ind_pos)\n",
    "\n",
    "top_ind_neg=np.argsort((neigh.feature_log_prob_)[0])[::1][0:20]\n",
    "last_ind_neg=np.argsort((neigh.feature_log_prob_)[0])[::-1][0:20]\n",
    "top_neg=np.take(bow_features_names,top_ind_neg)\n",
    "last_neg=np.take(bow_features_names,last_ind_neg)\n",
    "\n",
    "print(\"Top positive features with high coeff:\")\n",
    "print(top_pos)\n",
    "print(\"\")\n",
    "print(\"Top positive features with low coeff:\")\n",
    "print(last_pos)\n",
    "print(\"\")\n",
    "print(\"Top negative features with high coeff:\")\n",
    "print(top_neg)\n",
    "print(\"\")\n",
    "print(\"Top negative features with low coeff:\")\n",
    "print(last_neg)"
   ]
  },
  {
   "cell_type": "markdown",
   "metadata": {},
   "source": [
    "# Summary"
   ]
  },
  {
   "cell_type": "code",
   "execution_count": 129,
   "metadata": {},
   "outputs": [
    {
     "name": "stdout",
     "output_type": "stream",
     "text": [
      "+------------+-------------+-----------------+--------------------+--------------------+\n",
      "| Vectorizer |    Model    | Hyper Parameter |     Train AUC      |      Test AUC      |\n",
      "+------------+-------------+-----------------+--------------------+--------------------+\n",
      "|    BOW     | Naive Bayes |        1        | 0.9274630291352115 | 0.6900653355847132 |\n",
      "|            |             |                 |                    |                    |\n",
      "|   TFIDF    | Naive Bayes |       0.1       | 0.9308690917124186 | 0.6761883381388756 |\n",
      "+------------+-------------+-----------------+--------------------+--------------------+\n"
     ]
    }
   ],
   "source": [
    "from prettytable import PrettyTable\n",
    "x = PrettyTable()\n",
    "x.field_names = [\"Vectorizer\", \"Model\", \"Hyper Parameter\", \"Train AUC\", \"Test AUC\"]\n",
    "\n",
    "x.add_row([\"BOW\", \"Naive Bayes\", best_alpha, auc1, test_auc1])\n",
    "x.add_row([\" \", \" \", \" \", \" \", \" \"])\n",
    "x.add_row([\"TFIDF\", \"Naive Bayes\", best_alpha2, auc2, test_auc2])\n",
    "\n",
    "print(x)"
   ]
  }
 ],
 "metadata": {
  "colab": {
   "collapsed_sections": [],
   "name": "6_Assignment_NB_Instructions.ipynb",
   "provenance": []
  },
  "kernelspec": {
   "display_name": "Python 3",
   "language": "python",
   "name": "python3"
  },
  "language_info": {
   "codemirror_mode": {
    "name": "ipython",
    "version": 3
   },
   "file_extension": ".py",
   "mimetype": "text/x-python",
   "name": "python",
   "nbconvert_exporter": "python",
   "pygments_lexer": "ipython3",
   "version": "3.8.5"
  }
 },
 "nbformat": 4,
 "nbformat_minor": 1
}
