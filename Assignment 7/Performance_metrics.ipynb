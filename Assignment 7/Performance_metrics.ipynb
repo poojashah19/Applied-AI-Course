{
  "nbformat": 4,
  "nbformat_minor": 0,
  "metadata": {
    "colab": {
      "name": "Performance_metrics.ipynb",
      "provenance": [],
      "collapsed_sections": [],
      "authorship_tag": "ABX9TyML9BE94LpHqYANzDdVq8H0",
      "include_colab_link": true
    },
    "kernelspec": {
      "name": "python3",
      "display_name": "Python 3"
    }
  },
  "cells": [
    {
      "cell_type": "markdown",
      "metadata": {
        "id": "view-in-github",
        "colab_type": "text"
      },
      "source": [
        "<a href=\"https://colab.research.google.com/github/poojashah19/Data-Science/blob/main/Assignment%207/Performance_metrics.ipynb\" target=\"_parent\"><img src=\"https://colab.research.google.com/assets/colab-badge.svg\" alt=\"Open In Colab\"/></a>"
      ]
    },
    {
      "cell_type": "markdown",
      "metadata": {
        "id": "50yDSUbgs-Qm"
      },
      "source": [
        "# Task - a"
      ]
    },
    {
      "cell_type": "code",
      "metadata": {
        "id": "RROd_cPds3eJ"
      },
      "source": [
        "import numpy as np\r\n",
        "import pandas as pd"
      ],
      "execution_count": null,
      "outputs": []
    },
    {
      "cell_type": "code",
      "metadata": {
        "colab": {
          "base_uri": "https://localhost:8080/",
          "height": 347
        },
        "id": "mHoivsdktHT0",
        "outputId": "a976a48b-f750-4b46-d42d-a388d0ea725b"
      },
      "source": [
        "data = pd.read_csv('5_a.csv')\r\n",
        "data.head(10)"
      ],
      "execution_count": null,
      "outputs": [
        {
          "output_type": "execute_result",
          "data": {
            "text/html": [
              "<div>\n",
              "<style scoped>\n",
              "    .dataframe tbody tr th:only-of-type {\n",
              "        vertical-align: middle;\n",
              "    }\n",
              "\n",
              "    .dataframe tbody tr th {\n",
              "        vertical-align: top;\n",
              "    }\n",
              "\n",
              "    .dataframe thead th {\n",
              "        text-align: right;\n",
              "    }\n",
              "</style>\n",
              "<table border=\"1\" class=\"dataframe\">\n",
              "  <thead>\n",
              "    <tr style=\"text-align: right;\">\n",
              "      <th></th>\n",
              "      <th>y</th>\n",
              "      <th>proba</th>\n",
              "    </tr>\n",
              "  </thead>\n",
              "  <tbody>\n",
              "    <tr>\n",
              "      <th>0</th>\n",
              "      <td>1.0</td>\n",
              "      <td>0.637387</td>\n",
              "    </tr>\n",
              "    <tr>\n",
              "      <th>1</th>\n",
              "      <td>1.0</td>\n",
              "      <td>0.635165</td>\n",
              "    </tr>\n",
              "    <tr>\n",
              "      <th>2</th>\n",
              "      <td>1.0</td>\n",
              "      <td>0.766586</td>\n",
              "    </tr>\n",
              "    <tr>\n",
              "      <th>3</th>\n",
              "      <td>1.0</td>\n",
              "      <td>0.724564</td>\n",
              "    </tr>\n",
              "    <tr>\n",
              "      <th>4</th>\n",
              "      <td>1.0</td>\n",
              "      <td>0.889199</td>\n",
              "    </tr>\n",
              "    <tr>\n",
              "      <th>5</th>\n",
              "      <td>1.0</td>\n",
              "      <td>0.601600</td>\n",
              "    </tr>\n",
              "    <tr>\n",
              "      <th>6</th>\n",
              "      <td>1.0</td>\n",
              "      <td>0.666323</td>\n",
              "    </tr>\n",
              "    <tr>\n",
              "      <th>7</th>\n",
              "      <td>1.0</td>\n",
              "      <td>0.567012</td>\n",
              "    </tr>\n",
              "    <tr>\n",
              "      <th>8</th>\n",
              "      <td>1.0</td>\n",
              "      <td>0.650230</td>\n",
              "    </tr>\n",
              "    <tr>\n",
              "      <th>9</th>\n",
              "      <td>1.0</td>\n",
              "      <td>0.829346</td>\n",
              "    </tr>\n",
              "  </tbody>\n",
              "</table>\n",
              "</div>"
            ],
            "text/plain": [
              "     y     proba\n",
              "0  1.0  0.637387\n",
              "1  1.0  0.635165\n",
              "2  1.0  0.766586\n",
              "3  1.0  0.724564\n",
              "4  1.0  0.889199\n",
              "5  1.0  0.601600\n",
              "6  1.0  0.666323\n",
              "7  1.0  0.567012\n",
              "8  1.0  0.650230\n",
              "9  1.0  0.829346"
            ]
          },
          "metadata": {
            "tags": []
          },
          "execution_count": 3
        }
      ]
    },
    {
      "cell_type": "code",
      "metadata": {
        "colab": {
          "base_uri": "https://localhost:8080/"
        },
        "id": "KSF-CNsgt5bP",
        "outputId": "0a448d42-03eb-4990-8507-e6602288197d"
      },
      "source": [
        "data['y'].value_counts()"
      ],
      "execution_count": null,
      "outputs": [
        {
          "output_type": "execute_result",
          "data": {
            "text/plain": [
              "1.0    10000\n",
              "0.0      100\n",
              "Name: y, dtype: int64"
            ]
          },
          "metadata": {
            "tags": []
          },
          "execution_count": 4
        }
      ]
    },
    {
      "cell_type": "code",
      "metadata": {
        "colab": {
          "base_uri": "https://localhost:8080/"
        },
        "id": "V2ULX-sKwCDo",
        "outputId": "eb2eda01-a290-4482-ad19-15e7eb58c458"
      },
      "source": [
        "data['prob'] = data['proba'].apply(lambda x: 0 if x < 0.5 else 1)\r\n",
        "print(data)"
      ],
      "execution_count": null,
      "outputs": [
        {
          "output_type": "stream",
          "text": [
            "         y     proba  prob\n",
            "0      1.0  0.637387     1\n",
            "1      1.0  0.635165     1\n",
            "2      1.0  0.766586     1\n",
            "3      1.0  0.724564     1\n",
            "4      1.0  0.889199     1\n",
            "...    ...       ...   ...\n",
            "10095  1.0  0.665371     1\n",
            "10096  1.0  0.607961     1\n",
            "10097  1.0  0.777724     1\n",
            "10098  1.0  0.846036     1\n",
            "10099  1.0  0.679507     1\n",
            "\n",
            "[10100 rows x 3 columns]\n"
          ],
          "name": "stdout"
        }
      ]
    },
    {
      "cell_type": "code",
      "metadata": {
        "colab": {
          "base_uri": "https://localhost:8080/"
        },
        "id": "J2gVLZXlx_Ym",
        "outputId": "44f401fd-c789-44a1-ecbf-493dc4dcf7ca"
      },
      "source": [
        "TP = len( data.loc[(data.y == 1) & (data.prob == 1)] )\r\n",
        "FP = len( data.loc[(data.y == 0) & (data.prob == 1)] )\r\n",
        "FN = len( data.loc[(data.y == 1) & (data.prob == 0)] )\r\n",
        "TN = len( data.loc[(data.y == 0) & (data.prob == 0)] )\r\n",
        "\r\n",
        "total_points = TP + FP + FN + TN\r\n",
        "confusion_matrix = np.array([[TP, FP], [FN, TN]])\r\n",
        "print(confusion_matrix)"
      ],
      "execution_count": null,
      "outputs": [
        {
          "output_type": "stream",
          "text": [
            "[[10000   100]\n",
            " [    0     0]]\n"
          ],
          "name": "stdout"
        }
      ]
    },
    {
      "cell_type": "code",
      "metadata": {
        "colab": {
          "base_uri": "https://localhost:8080/"
        },
        "id": "ABDig9lv2MM2",
        "outputId": "04e75b3d-32fa-4a92-f5c7-70b8300850a7"
      },
      "source": [
        "precision = TP / ( TP + FP )\r\n",
        "recall = TP / ( TP + FN )\r\n",
        "print(precision, recall)"
      ],
      "execution_count": null,
      "outputs": [
        {
          "output_type": "stream",
          "text": [
            "0.9900990099009901 1.0\n"
          ],
          "name": "stdout"
        }
      ]
    },
    {
      "cell_type": "code",
      "metadata": {
        "colab": {
          "base_uri": "https://localhost:8080/"
        },
        "id": "2IoxRIkL2qNZ",
        "outputId": "a015bef4-245e-4d6a-c78b-1fa0aef8467d"
      },
      "source": [
        "accuracy = ( TP + TN ) / ( total_points )\r\n",
        "print(accuracy)"
      ],
      "execution_count": null,
      "outputs": [
        {
          "output_type": "stream",
          "text": [
            "0.9900990099009901\n"
          ],
          "name": "stdout"
        }
      ]
    },
    {
      "cell_type": "code",
      "metadata": {
        "colab": {
          "base_uri": "https://localhost:8080/"
        },
        "id": "uK5zj7wF3S4m",
        "outputId": "b0af173e-9920-4d67-e1cd-3c9beaf602e6"
      },
      "source": [
        "f1_score = 2*precision*recall/(precision + recall)\r\n",
        "print(f1_score)"
      ],
      "execution_count": null,
      "outputs": [
        {
          "output_type": "stream",
          "text": [
            "0.9950248756218906\n"
          ],
          "name": "stdout"
        }
      ]
    },
    {
      "cell_type": "code",
      "metadata": {
        "id": "bpmCj7VI4B-Q"
      },
      "source": [
        "def compute_aucscore(data):\r\n",
        "  data = data.sort_values(by = \"proba\",  ascending = False)\r\n",
        "  tpr_array = []\r\n",
        "  fpr_array = []\r\n",
        "  for prob in data.proba:\r\n",
        "    threshold = prob\r\n",
        "    data['prob'] = data['proba'].apply(lambda x: 0 if x < threshold else 1)\r\n",
        "    TP = len( data.loc[(data.y == 1) & (data.prob == 1)] )\r\n",
        "    FP = len( data.loc[(data.y == 0) & (data.prob == 1)] )\r\n",
        "    FN = len( data.loc[(data.y == 1) & (data.prob == 0)] )\r\n",
        "    TN = len( data.loc[(data.y == 0) & (data.prob == 0)] )\r\n",
        "    positive_points = len( data.loc[ (data.y == 1)] )\r\n",
        "    negative_points = len( data.loc[ (data.y == 0)] )\r\n",
        "    tpr = TP / positive_points\r\n",
        "    fpr = FP / negative_points\r\n",
        "    tpr_array.append(tpr)\r\n",
        "    fpr_array.append(fpr)\r\n",
        "\r\n",
        "  return tpr_array, fpr_array"
      ],
      "execution_count": null,
      "outputs": []
    },
    {
      "cell_type": "code",
      "metadata": {
        "id": "OMabzQLEBmMD",
        "colab": {
          "base_uri": "https://localhost:8080/"
        },
        "outputId": "ceae9780-c190-4fb9-a74d-9a510bc92ca4"
      },
      "source": [
        "tpr_array, fpr_array = compute_aucscore(data)\r\n",
        "np.trapz(tpr_array, fpr_array)"
      ],
      "execution_count": 32,
      "outputs": [
        {
          "output_type": "execute_result",
          "data": {
            "text/plain": [
              "0.48829900000000004"
            ]
          },
          "metadata": {
            "tags": []
          },
          "execution_count": 32
        }
      ]
    },
    {
      "cell_type": "markdown",
      "metadata": {
        "id": "ZG26uWN9HA9-"
      },
      "source": [
        "# Task - b"
      ]
    },
    {
      "cell_type": "code",
      "metadata": {
        "id": "VK93PtJnHD5E",
        "colab": {
          "base_uri": "https://localhost:8080/",
          "height": 347
        },
        "outputId": "932b9ac3-be84-4534-9e6c-6f8628e239e5"
      },
      "source": [
        "data_b = pd.read_csv('5_b.csv')\r\n",
        "data_b.head(10)"
      ],
      "execution_count": 33,
      "outputs": [
        {
          "output_type": "execute_result",
          "data": {
            "text/html": [
              "<div>\n",
              "<style scoped>\n",
              "    .dataframe tbody tr th:only-of-type {\n",
              "        vertical-align: middle;\n",
              "    }\n",
              "\n",
              "    .dataframe tbody tr th {\n",
              "        vertical-align: top;\n",
              "    }\n",
              "\n",
              "    .dataframe thead th {\n",
              "        text-align: right;\n",
              "    }\n",
              "</style>\n",
              "<table border=\"1\" class=\"dataframe\">\n",
              "  <thead>\n",
              "    <tr style=\"text-align: right;\">\n",
              "      <th></th>\n",
              "      <th>y</th>\n",
              "      <th>proba</th>\n",
              "    </tr>\n",
              "  </thead>\n",
              "  <tbody>\n",
              "    <tr>\n",
              "      <th>0</th>\n",
              "      <td>0.0</td>\n",
              "      <td>0.281035</td>\n",
              "    </tr>\n",
              "    <tr>\n",
              "      <th>1</th>\n",
              "      <td>0.0</td>\n",
              "      <td>0.465152</td>\n",
              "    </tr>\n",
              "    <tr>\n",
              "      <th>2</th>\n",
              "      <td>0.0</td>\n",
              "      <td>0.352793</td>\n",
              "    </tr>\n",
              "    <tr>\n",
              "      <th>3</th>\n",
              "      <td>0.0</td>\n",
              "      <td>0.157818</td>\n",
              "    </tr>\n",
              "    <tr>\n",
              "      <th>4</th>\n",
              "      <td>0.0</td>\n",
              "      <td>0.276648</td>\n",
              "    </tr>\n",
              "    <tr>\n",
              "      <th>5</th>\n",
              "      <td>0.0</td>\n",
              "      <td>0.190260</td>\n",
              "    </tr>\n",
              "    <tr>\n",
              "      <th>6</th>\n",
              "      <td>0.0</td>\n",
              "      <td>0.320328</td>\n",
              "    </tr>\n",
              "    <tr>\n",
              "      <th>7</th>\n",
              "      <td>0.0</td>\n",
              "      <td>0.435013</td>\n",
              "    </tr>\n",
              "    <tr>\n",
              "      <th>8</th>\n",
              "      <td>0.0</td>\n",
              "      <td>0.284849</td>\n",
              "    </tr>\n",
              "    <tr>\n",
              "      <th>9</th>\n",
              "      <td>0.0</td>\n",
              "      <td>0.427919</td>\n",
              "    </tr>\n",
              "  </tbody>\n",
              "</table>\n",
              "</div>"
            ],
            "text/plain": [
              "     y     proba\n",
              "0  0.0  0.281035\n",
              "1  0.0  0.465152\n",
              "2  0.0  0.352793\n",
              "3  0.0  0.157818\n",
              "4  0.0  0.276648\n",
              "5  0.0  0.190260\n",
              "6  0.0  0.320328\n",
              "7  0.0  0.435013\n",
              "8  0.0  0.284849\n",
              "9  0.0  0.427919"
            ]
          },
          "metadata": {
            "tags": []
          },
          "execution_count": 33
        }
      ]
    },
    {
      "cell_type": "code",
      "metadata": {
        "id": "T4qeoQgxHr_J",
        "colab": {
          "base_uri": "https://localhost:8080/"
        },
        "outputId": "29e2850f-67f8-4c93-f909-743274ca0627"
      },
      "source": [
        "data_b['y'].value_counts()"
      ],
      "execution_count": null,
      "outputs": [
        {
          "output_type": "execute_result",
          "data": {
            "text/plain": [
              "0.0    10000\n",
              "1.0      100\n",
              "Name: y, dtype: int64"
            ]
          },
          "metadata": {
            "tags": []
          },
          "execution_count": 14
        }
      ]
    },
    {
      "cell_type": "code",
      "metadata": {
        "id": "jEWkrQgdH-cX",
        "colab": {
          "base_uri": "https://localhost:8080/"
        },
        "outputId": "070907f2-0a35-4829-d697-337322973413"
      },
      "source": [
        "data_b['prob'] = data_b['proba'].apply(lambda x: 0 if x < 0.5 else 1)\r\n",
        "print(data_b)"
      ],
      "execution_count": null,
      "outputs": [
        {
          "output_type": "stream",
          "text": [
            "         y     proba  prob\n",
            "0      0.0  0.281035     0\n",
            "1      0.0  0.465152     0\n",
            "2      0.0  0.352793     0\n",
            "3      0.0  0.157818     0\n",
            "4      0.0  0.276648     0\n",
            "...    ...       ...   ...\n",
            "10095  0.0  0.474401     0\n",
            "10096  0.0  0.128403     0\n",
            "10097  0.0  0.499331     0\n",
            "10098  0.0  0.157616     0\n",
            "10099  0.0  0.296618     0\n",
            "\n",
            "[10100 rows x 3 columns]\n"
          ],
          "name": "stdout"
        }
      ]
    },
    {
      "cell_type": "code",
      "metadata": {
        "id": "tHsLGtLPIKeD",
        "colab": {
          "base_uri": "https://localhost:8080/"
        },
        "outputId": "8268b9ea-aa01-4730-a226-ebef2e8fd5c2"
      },
      "source": [
        "TP = len( data_b.loc[(data_b.y == 1) & (data_b.prob == 1)] )\r\n",
        "FP = len( data_b.loc[(data_b.y == 0) & (data_b.prob == 1)] )\r\n",
        "FN = len( data_b.loc[(data_b.y == 1) & (data_b.prob == 0)] )\r\n",
        "TN = len( data_b.loc[(data_b.y == 0) & (data_b.prob == 0)] )\r\n",
        "\r\n",
        "total_points = TP + FP + FN + TN\r\n",
        "confusion_matrix = np.array([[TP, FP], [FN, TN]])\r\n",
        "print(confusion_matrix)"
      ],
      "execution_count": null,
      "outputs": [
        {
          "output_type": "stream",
          "text": [
            "[[  55  239]\n",
            " [  45 9761]]\n"
          ],
          "name": "stdout"
        }
      ]
    },
    {
      "cell_type": "code",
      "metadata": {
        "id": "I2scsXO8IbwO",
        "colab": {
          "base_uri": "https://localhost:8080/"
        },
        "outputId": "d7fe84af-e255-4af1-8a2f-25451ae0be78"
      },
      "source": [
        "precision = TP / ( TP + FP )\r\n",
        "recall = TP / ( TP + FN )\r\n",
        "print(precision, recall)"
      ],
      "execution_count": null,
      "outputs": [
        {
          "output_type": "stream",
          "text": [
            "0.1870748299319728 0.55\n"
          ],
          "name": "stdout"
        }
      ]
    },
    {
      "cell_type": "code",
      "metadata": {
        "id": "Q2b7HsKIIhLK",
        "colab": {
          "base_uri": "https://localhost:8080/"
        },
        "outputId": "0a44bec4-ed93-4307-b695-c9224bb581fe"
      },
      "source": [
        "accuracy = ( TP + TN ) / ( total_points )\r\n",
        "print(accuracy)"
      ],
      "execution_count": null,
      "outputs": [
        {
          "output_type": "stream",
          "text": [
            "0.9718811881188119\n"
          ],
          "name": "stdout"
        }
      ]
    },
    {
      "cell_type": "code",
      "metadata": {
        "id": "JRDhwDE9Ijuk",
        "colab": {
          "base_uri": "https://localhost:8080/"
        },
        "outputId": "561cbd6b-e0e9-49bc-f707-45d329de9e4b"
      },
      "source": [
        "f1_score = 2*precision*recall/(precision + recall)\r\n",
        "print(f1_score)"
      ],
      "execution_count": null,
      "outputs": [
        {
          "output_type": "stream",
          "text": [
            "0.2791878172588833\n"
          ],
          "name": "stdout"
        }
      ]
    },
    {
      "cell_type": "code",
      "metadata": {
        "id": "aV0cpcN8Im1k",
        "colab": {
          "base_uri": "https://localhost:8080/"
        },
        "outputId": "6b8b3037-77aa-4565-9b84-f7b0645cfdfa"
      },
      "source": [
        "tpr_array, fpr_array = compute_aucscore(data_b)\r\n",
        "np.trapz(tpr_array, fpr_array)"
      ],
      "execution_count": 34,
      "outputs": [
        {
          "output_type": "execute_result",
          "data": {
            "text/plain": [
              "0.9377570000000001"
            ]
          },
          "metadata": {
            "tags": []
          },
          "execution_count": 34
        }
      ]
    },
    {
      "cell_type": "markdown",
      "metadata": {
        "id": "vJ6dSh6ackM3"
      },
      "source": [
        "# Task - c"
      ]
    },
    {
      "cell_type": "code",
      "metadata": {
        "id": "K1oGEsNYcl9a",
        "colab": {
          "base_uri": "https://localhost:8080/",
          "height": 347
        },
        "outputId": "d783250b-6c08-4805-f536-e5671f94f47d"
      },
      "source": [
        "data_c = pd.read_csv('5_c.csv')\r\n",
        "data_c.head(10)"
      ],
      "execution_count": null,
      "outputs": [
        {
          "output_type": "execute_result",
          "data": {
            "text/html": [
              "<div>\n",
              "<style scoped>\n",
              "    .dataframe tbody tr th:only-of-type {\n",
              "        vertical-align: middle;\n",
              "    }\n",
              "\n",
              "    .dataframe tbody tr th {\n",
              "        vertical-align: top;\n",
              "    }\n",
              "\n",
              "    .dataframe thead th {\n",
              "        text-align: right;\n",
              "    }\n",
              "</style>\n",
              "<table border=\"1\" class=\"dataframe\">\n",
              "  <thead>\n",
              "    <tr style=\"text-align: right;\">\n",
              "      <th></th>\n",
              "      <th>y</th>\n",
              "      <th>prob</th>\n",
              "    </tr>\n",
              "  </thead>\n",
              "  <tbody>\n",
              "    <tr>\n",
              "      <th>0</th>\n",
              "      <td>0</td>\n",
              "      <td>0.458521</td>\n",
              "    </tr>\n",
              "    <tr>\n",
              "      <th>1</th>\n",
              "      <td>0</td>\n",
              "      <td>0.505037</td>\n",
              "    </tr>\n",
              "    <tr>\n",
              "      <th>2</th>\n",
              "      <td>0</td>\n",
              "      <td>0.418652</td>\n",
              "    </tr>\n",
              "    <tr>\n",
              "      <th>3</th>\n",
              "      <td>0</td>\n",
              "      <td>0.412057</td>\n",
              "    </tr>\n",
              "    <tr>\n",
              "      <th>4</th>\n",
              "      <td>0</td>\n",
              "      <td>0.375579</td>\n",
              "    </tr>\n",
              "    <tr>\n",
              "      <th>5</th>\n",
              "      <td>0</td>\n",
              "      <td>0.595387</td>\n",
              "    </tr>\n",
              "    <tr>\n",
              "      <th>6</th>\n",
              "      <td>0</td>\n",
              "      <td>0.370288</td>\n",
              "    </tr>\n",
              "    <tr>\n",
              "      <th>7</th>\n",
              "      <td>0</td>\n",
              "      <td>0.299273</td>\n",
              "    </tr>\n",
              "    <tr>\n",
              "      <th>8</th>\n",
              "      <td>0</td>\n",
              "      <td>0.297000</td>\n",
              "    </tr>\n",
              "    <tr>\n",
              "      <th>9</th>\n",
              "      <td>0</td>\n",
              "      <td>0.266479</td>\n",
              "    </tr>\n",
              "  </tbody>\n",
              "</table>\n",
              "</div>"
            ],
            "text/plain": [
              "   y      prob\n",
              "0  0  0.458521\n",
              "1  0  0.505037\n",
              "2  0  0.418652\n",
              "3  0  0.412057\n",
              "4  0  0.375579\n",
              "5  0  0.595387\n",
              "6  0  0.370288\n",
              "7  0  0.299273\n",
              "8  0  0.297000\n",
              "9  0  0.266479"
            ]
          },
          "metadata": {
            "tags": []
          },
          "execution_count": 23
        }
      ]
    },
    {
      "cell_type": "code",
      "metadata": {
        "id": "yi-eJtaIctuF",
        "colab": {
          "base_uri": "https://localhost:8080/"
        },
        "outputId": "45d0285a-4962-4038-ce55-240d13de6702"
      },
      "source": [
        "data_c['y'].value_counts()"
      ],
      "execution_count": null,
      "outputs": [
        {
          "output_type": "execute_result",
          "data": {
            "text/plain": [
              "0    1805\n",
              "1    1047\n",
              "Name: y, dtype: int64"
            ]
          },
          "metadata": {
            "tags": []
          },
          "execution_count": 24
        }
      ]
    },
    {
      "cell_type": "code",
      "metadata": {
        "id": "1gtm-EodczQM",
        "colab": {
          "base_uri": "https://localhost:8080/"
        },
        "outputId": "bbd4db96-38be-4788-c770-ebdd472b27ac"
      },
      "source": [
        "data_c['proba'] = data_c['prob'].apply(lambda x: 0 if x < 0.5 else 1)\r\n",
        "print(data_c)"
      ],
      "execution_count": null,
      "outputs": [
        {
          "output_type": "stream",
          "text": [
            "      y      prob  proba\n",
            "0     0  0.458521      0\n",
            "1     0  0.505037      1\n",
            "2     0  0.418652      0\n",
            "3     0  0.412057      0\n",
            "4     0  0.375579      0\n",
            "...  ..       ...    ...\n",
            "2847  1  0.491663      0\n",
            "2848  1  0.292109      0\n",
            "2849  1  0.659161      1\n",
            "2850  1  0.456265      0\n",
            "2851  1  0.659161      1\n",
            "\n",
            "[2852 rows x 3 columns]\n"
          ],
          "name": "stdout"
        }
      ]
    },
    {
      "cell_type": "code",
      "metadata": {
        "id": "nitG8CBOc8yQ",
        "colab": {
          "base_uri": "https://localhost:8080/"
        },
        "outputId": "f9aa8053-c4a1-4bf5-9ae9-2bda46f55b2d"
      },
      "source": [
        "TP = len( data_c.loc[(data_c.y == 1) & (data_c.proba == 1)] )\r\n",
        "FP = len( data_c.loc[(data_c.y == 0) & (data_c.proba == 1)] )\r\n",
        "FN = len( data_c.loc[(data_c.y == 1) & (data_c.proba == 0)] )\r\n",
        "TN = len( data_c.loc[(data_c.y == 0) & (data_c.proba == 0)] )\r\n",
        "\r\n",
        "total_points = TP + FP + FN + TN\r\n",
        "\r\n",
        "accuracy = ( TP + TN ) / ( total_points )\r\n",
        "print(accuracy)"
      ],
      "execution_count": null,
      "outputs": [
        {
          "output_type": "stream",
          "text": [
            "0.7791023842917251\n"
          ],
          "name": "stdout"
        }
      ]
    },
    {
      "cell_type": "code",
      "metadata": {
        "id": "6nnC54XodW98"
      },
      "source": [
        "def compute_bestThreshold(data):\r\n",
        "  data = data.sort_values(by = \"prob\",  ascending = False)\r\n",
        "  A_list = {}\r\n",
        "\r\n",
        "  for prob in data.prob:\r\n",
        "    threshold = prob\r\n",
        "    data['proba'] = data['prob'].apply(lambda x: 0 if x < threshold else 1)\r\n",
        "    FP = len( data.loc[(data.y == 0) & (data.proba == 1)] )\r\n",
        "    FN = len( data.loc[(data.y == 1) & (data.proba == 0)] )\r\n",
        "    A = (500*FN) + (100*FP)\r\n",
        "    A_list[threshold] = A\r\n",
        "\r\n",
        "  min_A = min(A_list.values())\r\n",
        "  print(min_A)\r\n",
        "  return [ key for key in A_list if A_list[key] == min_A ]"
      ],
      "execution_count": null,
      "outputs": []
    },
    {
      "cell_type": "code",
      "metadata": {
        "id": "WOF2UoTKhxkn",
        "colab": {
          "base_uri": "https://localhost:8080/"
        },
        "outputId": "6ceee3d7-dc6d-4523-afe4-7a7d28daad40"
      },
      "source": [
        "best_threshold = compute_bestThreshold(data_c)\r\n",
        "print(best_threshold)"
      ],
      "execution_count": null,
      "outputs": [
        {
          "output_type": "stream",
          "text": [
            "141000\n",
            "[0.2300390278970873]\n"
          ],
          "name": "stdout"
        }
      ]
    },
    {
      "cell_type": "markdown",
      "metadata": {
        "id": "2ChcwZtpqJFZ"
      },
      "source": [
        "# Task - d"
      ]
    },
    {
      "cell_type": "code",
      "metadata": {
        "id": "ETpYunc2qLio",
        "colab": {
          "base_uri": "https://localhost:8080/",
          "height": 347
        },
        "outputId": "29798fc9-2e01-4b19-95b5-5f20f2b9c5b1"
      },
      "source": [
        "data_d = pd.read_csv('5_d.csv')\r\n",
        "data_d.head(10)"
      ],
      "execution_count": null,
      "outputs": [
        {
          "output_type": "execute_result",
          "data": {
            "text/html": [
              "<div>\n",
              "<style scoped>\n",
              "    .dataframe tbody tr th:only-of-type {\n",
              "        vertical-align: middle;\n",
              "    }\n",
              "\n",
              "    .dataframe tbody tr th {\n",
              "        vertical-align: top;\n",
              "    }\n",
              "\n",
              "    .dataframe thead th {\n",
              "        text-align: right;\n",
              "    }\n",
              "</style>\n",
              "<table border=\"1\" class=\"dataframe\">\n",
              "  <thead>\n",
              "    <tr style=\"text-align: right;\">\n",
              "      <th></th>\n",
              "      <th>y</th>\n",
              "      <th>pred</th>\n",
              "    </tr>\n",
              "  </thead>\n",
              "  <tbody>\n",
              "    <tr>\n",
              "      <th>0</th>\n",
              "      <td>101.0</td>\n",
              "      <td>100.0</td>\n",
              "    </tr>\n",
              "    <tr>\n",
              "      <th>1</th>\n",
              "      <td>120.0</td>\n",
              "      <td>100.0</td>\n",
              "    </tr>\n",
              "    <tr>\n",
              "      <th>2</th>\n",
              "      <td>131.0</td>\n",
              "      <td>113.0</td>\n",
              "    </tr>\n",
              "    <tr>\n",
              "      <th>3</th>\n",
              "      <td>164.0</td>\n",
              "      <td>125.0</td>\n",
              "    </tr>\n",
              "    <tr>\n",
              "      <th>4</th>\n",
              "      <td>154.0</td>\n",
              "      <td>152.0</td>\n",
              "    </tr>\n",
              "    <tr>\n",
              "      <th>5</th>\n",
              "      <td>133.0</td>\n",
              "      <td>153.0</td>\n",
              "    </tr>\n",
              "    <tr>\n",
              "      <th>6</th>\n",
              "      <td>148.0</td>\n",
              "      <td>139.0</td>\n",
              "    </tr>\n",
              "    <tr>\n",
              "      <th>7</th>\n",
              "      <td>172.0</td>\n",
              "      <td>145.0</td>\n",
              "    </tr>\n",
              "    <tr>\n",
              "      <th>8</th>\n",
              "      <td>153.0</td>\n",
              "      <td>162.0</td>\n",
              "    </tr>\n",
              "    <tr>\n",
              "      <th>9</th>\n",
              "      <td>162.0</td>\n",
              "      <td>154.0</td>\n",
              "    </tr>\n",
              "  </tbody>\n",
              "</table>\n",
              "</div>"
            ],
            "text/plain": [
              "       y   pred\n",
              "0  101.0  100.0\n",
              "1  120.0  100.0\n",
              "2  131.0  113.0\n",
              "3  164.0  125.0\n",
              "4  154.0  152.0\n",
              "5  133.0  153.0\n",
              "6  148.0  139.0\n",
              "7  172.0  145.0\n",
              "8  153.0  162.0\n",
              "9  162.0  154.0"
            ]
          },
          "metadata": {
            "tags": []
          },
          "execution_count": 29
        }
      ]
    },
    {
      "cell_type": "code",
      "metadata": {
        "id": "nuUHxQepqQZQ"
      },
      "source": [
        "def compute_MES(data):\r\n",
        "  sum_of_squares = 0\r\n",
        "  sum_of_errors = 0\r\n",
        "  sum_of_y = 0\r\n",
        "  sum_of_total = 0\r\n",
        "  mean_of_y = data['y'].mean()\r\n",
        "  for index, point in data.iterrows():\r\n",
        "    y = point['y']\r\n",
        "    y_pred = point['pred']\r\n",
        "    error = abs(y - y_pred)\r\n",
        "    diff = abs(y - mean_of_y)\r\n",
        "    sum_of_squares += error**2\r\n",
        "    sum_of_errors += error\r\n",
        "    sum_of_y += y\r\n",
        "    sum_of_total += diff**2\r\n",
        "\r\n",
        "  return sum_of_squares/len(data), sum_of_errors/sum_of_y, ( 1 - (sum_of_squares/sum_of_total) )"
      ],
      "execution_count": null,
      "outputs": []
    },
    {
      "cell_type": "code",
      "metadata": {
        "id": "CBeO_zeyrruO",
        "colab": {
          "base_uri": "https://localhost:8080/"
        },
        "outputId": "36a7395e-b5bd-4ea8-8922-69d3553d281e"
      },
      "source": [
        "data2 = data_d.head(3)\r\n",
        "MES, MAPE, R2 = compute_MES(data2)\r\n",
        "print(MES, MAPE, R2)"
      ],
      "execution_count": null,
      "outputs": [
        {
          "output_type": "stream",
          "text": [
            "241.66666666666666 0.11079545454545454 -0.5738060781476122\n"
          ],
          "name": "stdout"
        }
      ]
    }
  ]
}