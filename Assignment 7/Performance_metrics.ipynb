{
  "nbformat": 4,
  "nbformat_minor": 0,
  "metadata": {
    "colab": {
      "name": "Performance_metrics.ipynb",
      "provenance": [],
      "collapsed_sections": [],
      "authorship_tag": "ABX9TyOLsmc7BAYc6vjMsAGFNJ4d",
      "include_colab_link": true
    },
    "kernelspec": {
      "name": "python3",
      "display_name": "Python 3"
    }
  },
  "cells": [
    {
      "cell_type": "markdown",
      "metadata": {
        "id": "view-in-github",
        "colab_type": "text"
      },
      "source": [
        "<a href=\"https://colab.research.google.com/github/poojashah19/Data-Science/blob/main/Assignment%207/Performance_metrics.ipynb\" target=\"_parent\"><img src=\"https://colab.research.google.com/assets/colab-badge.svg\" alt=\"Open In Colab\"/></a>"
      ]
    },
    {
      "cell_type": "markdown",
      "metadata": {
        "id": "50yDSUbgs-Qm"
      },
      "source": [
        "# Task - a"
      ]
    },
    {
      "cell_type": "code",
      "metadata": {
        "id": "RROd_cPds3eJ"
      },
      "source": [
        "import numpy as np\r\n",
        "import pandas as pd"
      ],
      "execution_count": 1,
      "outputs": []
    },
    {
      "cell_type": "code",
      "metadata": {
        "colab": {
          "base_uri": "https://localhost:8080/",
          "height": 359
        },
        "id": "mHoivsdktHT0",
        "outputId": "7d9c2be7-ce83-49a1-914a-f7cbb535e215"
      },
      "source": [
        "data = pd.read_csv('5_a.csv')\r\n",
        "data.head(10)"
      ],
      "execution_count": 9,
      "outputs": [
        {
          "output_type": "execute_result",
          "data": {
            "text/html": [
              "<div>\n",
              "<style scoped>\n",
              "    .dataframe tbody tr th:only-of-type {\n",
              "        vertical-align: middle;\n",
              "    }\n",
              "\n",
              "    .dataframe tbody tr th {\n",
              "        vertical-align: top;\n",
              "    }\n",
              "\n",
              "    .dataframe thead th {\n",
              "        text-align: right;\n",
              "    }\n",
              "</style>\n",
              "<table border=\"1\" class=\"dataframe\">\n",
              "  <thead>\n",
              "    <tr style=\"text-align: right;\">\n",
              "      <th></th>\n",
              "      <th>y</th>\n",
              "      <th>proba</th>\n",
              "    </tr>\n",
              "  </thead>\n",
              "  <tbody>\n",
              "    <tr>\n",
              "      <th>0</th>\n",
              "      <td>1.0</td>\n",
              "      <td>0.637387</td>\n",
              "    </tr>\n",
              "    <tr>\n",
              "      <th>1</th>\n",
              "      <td>1.0</td>\n",
              "      <td>0.635165</td>\n",
              "    </tr>\n",
              "    <tr>\n",
              "      <th>2</th>\n",
              "      <td>1.0</td>\n",
              "      <td>0.766586</td>\n",
              "    </tr>\n",
              "    <tr>\n",
              "      <th>3</th>\n",
              "      <td>1.0</td>\n",
              "      <td>0.724564</td>\n",
              "    </tr>\n",
              "    <tr>\n",
              "      <th>4</th>\n",
              "      <td>1.0</td>\n",
              "      <td>0.889199</td>\n",
              "    </tr>\n",
              "    <tr>\n",
              "      <th>5</th>\n",
              "      <td>1.0</td>\n",
              "      <td>0.601600</td>\n",
              "    </tr>\n",
              "    <tr>\n",
              "      <th>6</th>\n",
              "      <td>1.0</td>\n",
              "      <td>0.666323</td>\n",
              "    </tr>\n",
              "    <tr>\n",
              "      <th>7</th>\n",
              "      <td>1.0</td>\n",
              "      <td>0.567012</td>\n",
              "    </tr>\n",
              "    <tr>\n",
              "      <th>8</th>\n",
              "      <td>1.0</td>\n",
              "      <td>0.650230</td>\n",
              "    </tr>\n",
              "    <tr>\n",
              "      <th>9</th>\n",
              "      <td>1.0</td>\n",
              "      <td>0.829346</td>\n",
              "    </tr>\n",
              "  </tbody>\n",
              "</table>\n",
              "</div>"
            ],
            "text/plain": [
              "     y     proba\n",
              "0  1.0  0.637387\n",
              "1  1.0  0.635165\n",
              "2  1.0  0.766586\n",
              "3  1.0  0.724564\n",
              "4  1.0  0.889199\n",
              "5  1.0  0.601600\n",
              "6  1.0  0.666323\n",
              "7  1.0  0.567012\n",
              "8  1.0  0.650230\n",
              "9  1.0  0.829346"
            ]
          },
          "metadata": {
            "tags": []
          },
          "execution_count": 9
        }
      ]
    },
    {
      "cell_type": "code",
      "metadata": {
        "colab": {
          "base_uri": "https://localhost:8080/"
        },
        "id": "KSF-CNsgt5bP",
        "outputId": "231ae715-b4c7-410e-f5d3-293d181c323a"
      },
      "source": [
        "data['y'].value_counts()"
      ],
      "execution_count": 11,
      "outputs": [
        {
          "output_type": "execute_result",
          "data": {
            "text/plain": [
              "1.0    10000\n",
              "0.0      100\n",
              "Name: y, dtype: int64"
            ]
          },
          "metadata": {
            "tags": []
          },
          "execution_count": 11
        }
      ]
    },
    {
      "cell_type": "code",
      "metadata": {
        "colab": {
          "base_uri": "https://localhost:8080/"
        },
        "id": "V2ULX-sKwCDo",
        "outputId": "13f78a30-f96c-42d2-a725-9236695c4782"
      },
      "source": [
        "data['prob'] = data['proba'].apply(lambda x: 0 if x < 0.5 else 1)\r\n",
        "print(data)"
      ],
      "execution_count": 16,
      "outputs": [
        {
          "output_type": "stream",
          "text": [
            "         y     proba  prob\n",
            "0      1.0  0.637387     1\n",
            "1      1.0  0.635165     1\n",
            "2      1.0  0.766586     1\n",
            "3      1.0  0.724564     1\n",
            "4      1.0  0.889199     1\n",
            "...    ...       ...   ...\n",
            "10095  1.0  0.665371     1\n",
            "10096  1.0  0.607961     1\n",
            "10097  1.0  0.777724     1\n",
            "10098  1.0  0.846036     1\n",
            "10099  1.0  0.679507     1\n",
            "\n",
            "[10100 rows x 3 columns]\n"
          ],
          "name": "stdout"
        }
      ]
    },
    {
      "cell_type": "code",
      "metadata": {
        "colab": {
          "base_uri": "https://localhost:8080/"
        },
        "id": "J2gVLZXlx_Ym",
        "outputId": "e0013082-bae0-4c48-a611-10af5d25587c"
      },
      "source": [
        "TP = len( data.loc[(data.y == 1) & (data.prob == 1)] )\r\n",
        "FP = len( data.loc[(data.y == 0) & (data.prob == 1)] )\r\n",
        "FN = len( data.loc[(data.y == 1) & (data.prob == 0)] )\r\n",
        "TN = len( data.loc[(data.y == 0) & (data.prob == 0)] )\r\n",
        "\r\n",
        "total_points = TP + FP + FN + TN\r\n",
        "print(TP, FP, FN, TN)"
      ],
      "execution_count": 23,
      "outputs": [
        {
          "output_type": "stream",
          "text": [
            "10000 100 0 0\n"
          ],
          "name": "stdout"
        }
      ]
    },
    {
      "cell_type": "code",
      "metadata": {
        "colab": {
          "base_uri": "https://localhost:8080/"
        },
        "id": "3QrDPSJP0laQ",
        "outputId": "f3cad81a-c709-4e55-cbf1-42dc280c04de"
      },
      "source": [
        "confusion_matrix = np.array([[TP, FP], [FN, TN]])\r\n",
        "print(confusion_matrix)"
      ],
      "execution_count": 21,
      "outputs": [
        {
          "output_type": "stream",
          "text": [
            "[[10000   100]\n",
            " [    0     0]]\n"
          ],
          "name": "stdout"
        }
      ]
    },
    {
      "cell_type": "code",
      "metadata": {
        "colab": {
          "base_uri": "https://localhost:8080/"
        },
        "id": "ABDig9lv2MM2",
        "outputId": "33f52c97-e74c-47c1-96a5-b550ea97542d"
      },
      "source": [
        "precision = TP / ( TP + FP )\r\n",
        "recall = TP / ( TP + FN )\r\n",
        "print(precision, recall)"
      ],
      "execution_count": 22,
      "outputs": [
        {
          "output_type": "stream",
          "text": [
            "0.9900990099009901 1.0\n"
          ],
          "name": "stdout"
        }
      ]
    },
    {
      "cell_type": "code",
      "metadata": {
        "colab": {
          "base_uri": "https://localhost:8080/"
        },
        "id": "2IoxRIkL2qNZ",
        "outputId": "ca78ec94-6c6b-4b41-eafa-dac0083c527f"
      },
      "source": [
        "accuracy = ( TP + TN ) / ( total_points )\r\n",
        "print(accuracy)"
      ],
      "execution_count": 25,
      "outputs": [
        {
          "output_type": "stream",
          "text": [
            "0.9900990099009901\n"
          ],
          "name": "stdout"
        }
      ]
    },
    {
      "cell_type": "code",
      "metadata": {
        "colab": {
          "base_uri": "https://localhost:8080/"
        },
        "id": "uK5zj7wF3S4m",
        "outputId": "ef924c1e-917a-43c4-9499-3b8dafbae414"
      },
      "source": [
        "f1_score = 2*precision*recall/(precision + recall)\r\n",
        "print(f1_score)"
      ],
      "execution_count": 26,
      "outputs": [
        {
          "output_type": "stream",
          "text": [
            "0.9950248756218906\n"
          ],
          "name": "stdout"
        }
      ]
    },
    {
      "cell_type": "code",
      "metadata": {
        "id": "bpmCj7VI4B-Q"
      },
      "source": [
        ""
      ],
      "execution_count": null,
      "outputs": []
    }
  ]
}